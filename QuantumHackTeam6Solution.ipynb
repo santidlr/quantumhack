{
 "cells": [
  {
   "cell_type": "markdown",
   "id": "66b2993e-5bf8-41ed-8314-2810a6acdfa7",
   "metadata": {},
   "source": [
    "# Qiskit Workshop: Solving Optimization Problems"
   ]
  },
  {
   "cell_type": "code",
   "execution_count": 22,
   "id": "be53c7f7-aa7b-4082-8ae0-20e1068105f4",
   "metadata": {
    "tags": []
   },
   "outputs": [],
   "source": [
    "# Importing standard Qiskit libraries\n",
    "from qiskit import QuantumCircuit, transpile\n",
    "from qiskit.tools.jupyter import *\n",
    "from qiskit.visualization import *\n",
    "from ibm_quantum_widgets import *\n",
    "from qiskit_aer import AerSimulator\n",
    "\n",
    "from qiskit_ibm_runtime import QiskitRuntimeService #, Sampler, Estimator, Session, Options\n",
    "\n",
    "# Loading your IBM Quantum account(s)\n",
    "service = QiskitRuntimeService(channel=\"ibm_quantum\")"
   ]
  },
  {
   "cell_type": "markdown",
   "id": "6c2786e1-cd2b-45be-b845-2bc2f31a9816",
   "metadata": {
    "tags": []
   },
   "source": [
    "### Using IBM Runtime for cloud simulator and real hardware"
   ]
  },
  {
   "cell_type": "code",
   "execution_count": 38,
   "id": "efbc9f0c-d03c-4494-a381-86e5ba248d21",
   "metadata": {
    "tags": []
   },
   "outputs": [],
   "source": [
    "from qiskit_ibm_runtime import Sampler as SamplerRT\n",
    "from qiskit_ibm_runtime import Session"
   ]
  },
  {
   "cell_type": "code",
   "execution_count": 39,
   "id": "bc9793b6-c154-4b5e-9e46-d226e4553516",
   "metadata": {
    "tags": []
   },
   "outputs": [
    {
     "name": "stderr",
     "output_type": "stream",
     "text": [
      "configrc.store_credentials:WARNING:2023-09-15 04:20:45,728: Credentials already present. Set overwrite=True to overwrite.\n",
      "ibmqfactory.load_account:WARNING:2023-09-15 04:20:45,840: Credentials are already in use. The existing account in the session will be replaced.\n"
     ]
    },
    {
     "data": {
      "application/vnd.jupyter.widget-view+json": {
       "model_id": "e3b251ea1ebf40a7ae2383e0fe92fcc5",
       "version_major": 2,
       "version_minor": 0
      },
      "text/plain": [
       "VBox(children=(HTML(value=\"<h1 style='color:#ffffff;background-color:#000000;padding-top: 1%;padding-bottom: 1…"
      ]
     },
     "metadata": {},
     "output_type": "display_data"
    },
    {
     "data": {
      "text/plain": [
       "<IBMQBackend('ibm_perth') from IBMQ(hub='ibm-q', group='open', project='main')>"
      ]
     },
     "execution_count": 39,
     "metadata": {},
     "output_type": "execute_result"
    }
   ],
   "source": [
    "from qiskit import IBMQ\n",
    "from qiskit.providers.ibmq import least_busy\n",
    "\n",
    "IBMQ.save_account(\"7d49cbf1c7fcc3040d25c16c77e5235594e8d87e314dba3b62ea44bb38b2770fa8c47acfa9985305e85764e304392cd032e35929688dea2bfbd41f6869ecb0c1\")\n",
    "\n",
    "provider = IBMQ.load_account()\n",
    "\n",
    "least_busy_device = least_busy(provider.backends(filters=lambda x: x.configuration().n_qubits >= 2 and \n",
    "                                        not x.configuration().simulator and x.status().operational==True))\n",
    "\n",
    "least_busy_device"
   ]
  },
  {
   "cell_type": "markdown",
   "id": "a404fb2c-4742-4f54-818e-b214a0a5c667",
   "metadata": {
    "tags": []
   },
   "source": [
    "---\n",
    "\n",
    "## Traveling Salesman Problem (TSP)\n",
    "\n",
    "**Problem:** Consider a weighted graph where the edge weights denote the cost of moving along that edge. Compute the lowest-cost round-trip path that minimizes the total cost."
   ]
  },
  {
   "cell_type": "code",
   "execution_count": 40,
   "id": "17794922-5020-4ba6-a424-eb5ad1420401",
   "metadata": {
    "tags": []
   },
   "outputs": [],
   "source": [
    "from qiskit_optimization.applications import Tsp\n",
    "import networkx as nx\n",
    "from qiskit.utils import algorithm_globals\n",
    "\n",
    "\n",
    "\n",
    "import numpy as np\n",
    "%matplotlib inline\n",
    "\n",
    "import matplotlib.pyplot as plt\n",
    "import matplotlib.axes as axes\n",
    "%matplotlib inline\n",
    "from qiskit.algorithms.optimizers import SPSA\n",
    "from qiskit.circuit.library import TwoLocal\n",
    "from qiskit.algorithms.minimum_eigensolvers import SamplingVQE\n",
    "from qiskit_optimization import QuadraticProgram\n",
    "from qiskit_optimization.problems import QuadraticProgram\n",
    "from qiskit.primitives import Sampler\n",
    "from qiskit_optimization.algorithms import MinimumEigenOptimizer\n",
    "import numpy as np\n",
    "\n",
    "def draw_graph(G, colors, pos):\n",
    "    default_axes = plt.axes()\n",
    "    nx.draw_networkx(G, node_color=colors, node_size=600, ax=default_axes, pos=pos)\n",
    "    edge_labels = nx.get_edge_attributes(G, 'weight')\n",
    "    nx.draw_networkx_edge_labels(G, pos=pos, edge_labels=edge_labels)"
   ]
  },
  {
   "cell_type": "code",
   "execution_count": 41,
   "id": "6b9898d3-89b2-4990-9962-ac079c13e3d4",
   "metadata": {
    "tags": []
   },
   "outputs": [
    {
     "name": "stdout",
     "output_type": "stream",
     "text": [
      "distance\n",
      " [[ 0. 46. 88. 32.]\n",
      " [46.  0. 60. 68.]\n",
      " [88. 60.  0. 88.]\n",
      " [32. 68. 88.  0.]]\n"
     ]
    },
    {
     "data": {
      "image/png": "[encoded data removed]",
      "text/plain": [
       "<Figure size 640x480 with 1 Axes>"
      ]
     },
     "metadata": {},
     "output_type": "display_data"
    }
   ],
   "source": [
    "# Generating a random graph\n",
    "n = 4\n",
    "tsp = Tsp.create_random_instance(n,2,98, seed=123)\n",
    "adj_matrix = nx.to_numpy_array(tsp.graph)\n",
    "print('distance\\n', adj_matrix)\n",
    "\n",
    "# Plot the graph\n",
    "colors = ['r' for node in tsp.graph.nodes]\n",
    "pos = [tsp.graph.nodes[node]['pos']  for node in tsp.graph.nodes]\n",
    "draw_graph(tsp.graph, colors, pos)"
   ]
  },
  {
   "cell_type": "markdown",
   "id": "ee177d76-216d-4e43-a9a9-42bbebc257cb",
   "metadata": {},
   "source": [
    "### Step 1: Convert TSP to quadratic program"
   ]
  },
  {
   "cell_type": "code",
   "execution_count": 42,
   "id": "64a45646-fcfc-4928-8a7c-938053d86306",
   "metadata": {
    "tags": []
   },
   "outputs": [
    {
     "name": "stdout",
     "output_type": "stream",
     "text": [
      "Problem name: TSP\n",
      "\n",
      "Minimize\n",
      "  46*x_0_0*x_1_1 + 46*x_0_0*x_1_3 + 88*x_0_0*x_2_1 + 88*x_0_0*x_2_3\n",
      "  + 32*x_0_0*x_3_1 + 32*x_0_0*x_3_3 + 46*x_0_1*x_1_0 + 46*x_0_1*x_1_2\n",
      "  + 88*x_0_1*x_2_0 + 88*x_0_1*x_2_2 + 32*x_0_1*x_3_0 + 32*x_0_1*x_3_2\n",
      "  + 46*x_0_2*x_1_1 + 46*x_0_2*x_1_3 + 88*x_0_2*x_2_1 + 88*x_0_2*x_2_3\n",
      "  + 32*x_0_2*x_3_1 + 32*x_0_2*x_3_3 + 46*x_0_3*x_1_0 + 46*x_0_3*x_1_2\n",
      "  + 88*x_0_3*x_2_0 + 88*x_0_3*x_2_2 + 32*x_0_3*x_3_0 + 32*x_0_3*x_3_2\n",
      "  + 60*x_1_0*x_2_1 + 60*x_1_0*x_2_3 + 68*x_1_0*x_3_1 + 68*x_1_0*x_3_3\n",
      "  + 60*x_1_1*x_2_0 + 60*x_1_1*x_2_2 + 68*x_1_1*x_3_0 + 68*x_1_1*x_3_2\n",
      "  + 60*x_1_2*x_2_1 + 60*x_1_2*x_2_3 + 68*x_1_2*x_3_1 + 68*x_1_2*x_3_3\n",
      "  + 60*x_1_3*x_2_0 + 60*x_1_3*x_2_2 + 68*x_1_3*x_3_0 + 68*x_1_3*x_3_2\n",
      "  + 88*x_2_0*x_3_1 + 88*x_2_0*x_3_3 + 88*x_2_1*x_3_0 + 88*x_2_1*x_3_2\n",
      "  + 88*x_2_2*x_3_1 + 88*x_2_2*x_3_3 + 88*x_2_3*x_3_0 + 88*x_2_3*x_3_2\n",
      "\n",
      "Subject to\n",
      "  Linear constraints (8)\n",
      "    x_0_0 + x_0_1 + x_0_2 + x_0_3 == 1  'c0'\n",
      "    x_1_0 + x_1_1 + x_1_2 + x_1_3 == 1  'c1'\n",
      "    x_2_0 + x_2_1 + x_2_2 + x_2_3 == 1  'c2'\n",
      "    x_3_0 + x_3_1 + x_3_2 + x_3_3 == 1  'c3'\n",
      "    x_0_0 + x_1_0 + x_2_0 + x_3_0 == 1  'c4'\n",
      "    x_0_1 + x_1_1 + x_2_1 + x_3_1 == 1  'c5'\n",
      "    x_0_2 + x_1_2 + x_2_2 + x_3_2 == 1  'c6'\n",
      "    x_0_3 + x_1_3 + x_2_3 + x_3_3 == 1  'c7'\n",
      "\n",
      "  Binary variables (16)\n",
      "    x_0_0 x_0_1 x_0_2 x_0_3 x_1_0 x_1_1 x_1_2 x_1_3 x_2_0 x_2_1 x_2_2 x_2_3\n",
      "    x_3_0 x_3_1 x_3_2 x_3_3\n",
      "\n"
     ]
    }
   ],
   "source": [
    "qp = tsp.to_quadratic_program()\n",
    "print(qp.prettyprint())"
   ]
  },
  {
   "cell_type": "markdown",
   "id": "2f82638d-0e6d-4c1b-a653-1864398dec32",
   "metadata": {},
   "source": [
    "### Step 2: Construct solver"
   ]
  },
  {
   "cell_type": "code",
   "execution_count": 43,
   "id": "0f385262-362f-42b1-aa1a-62d53276cbda",
   "metadata": {
    "tags": []
   },
   "outputs": [],
   "source": [
    "from qiskit.algorithms.minimum_eigensolvers import QAOA\n",
    "from qiskit.algorithms.optimizers import COBYLA\n",
    "\n",
    "def qaoa_callback(count, params, mean, metadata):\n",
    "    if count % 10 == 0:\n",
    "        print('Iteration:', count, ', value:', mean)\n",
    "        \n",
    "qaoa = QAOA(sampler=Sampler(), optimizer=COBYLA(maxiter=100), callback=qaoa_callback)\n",
    "qaoa_meo = MinimumEigenOptimizer(qaoa)"
   ]
  },
  {
   "cell_type": "code",
   "execution_count": 45,
   "id": "a51e5ff3-cfa3-4dc4-a1aa-217188231bf5",
   "metadata": {
    "tags": []
   },
   "outputs": [
    {
     "name": "stdout",
     "output_type": "stream",
     "text": [
      "Iteration: 10 , value: (-8415.137999999999+0j)\n",
      "Iteration: 20 , value: (264.66600000000045+0j)\n",
      "Iteration: 30 , value: (-4925.853000000003+0j)\n",
      "fval=248.0, x_0_0=0.0, x_0_1=0.0, x_0_2=1.0, x_0_3=0.0, x_1_0=1.0, x_1_1=0.0, x_1_2=0.0, x_1_3=0.0, x_2_0=0.0, x_2_1=0.0, x_2_2=0.0, x_2_3=1.0, x_3_0=0.0, x_3_1=1.0, x_3_2=0.0, x_3_3=0.0, status=SUCCESS\n"
     ]
    }
   ],
   "source": [
    "with Session(service=service, backend='ibmq_qasm_simulator') as session:\n",
    "    sampler_rt = SamplerRT(session=session)\n",
    "    qaoa = QAOA(sampler=sampler_rt, optimizer=COBYLA(maxiter=100), callback=qaoa_callback)\n",
    "    qaoa_meo = MinimumEigenOptimizer(qaoa)\n",
    "    \n",
    "    qaoa_result = qaoa_meo.solve(qp)\n",
    "    \n",
    "print(qaoa_result)"
   ]
  },
  {
   "cell_type": "markdown",
   "id": "e6556b16-2890-4d9d-aa0d-22b9890ff6fc",
   "metadata": {},
   "source": [
    "### Step 3: Compute solution"
   ]
  },
  {
   "cell_type": "code",
   "execution_count": null,
   "id": "8c4f5508-f1d8-462e-a0e5-96b2f165f9ca",
   "metadata": {
    "tags": []
   },
   "outputs": [],
   "source": [
    "#qaoa_result = qaoa_meo.solve(qp)\n",
    "#print(qaoa_result)"
   ]
  },
  {
   "cell_type": "code",
   "execution_count": 46,
   "id": "30abebd8-6da0-4a07-89a6-efc4d448a418",
   "metadata": {
    "tags": []
   },
   "outputs": [
    {
     "name": "stdout",
     "output_type": "stream",
     "text": [
      "solution: [1, 3, 0, 2]\n",
      "solution objective: 248.0\n"
     ]
    }
   ],
   "source": [
    "z = tsp.interpret(qaoa_result.x)\n",
    "print('solution:', z)\n",
    "print('solution objective:', tsp.tsp_value(z, adj_matrix))"
   ]
  },
  {
   "cell_type": "code",
   "execution_count": 47,
   "id": "9ccf6948-c028-4080-8a6d-bc2712456dbe",
   "metadata": {
    "tags": []
   },
   "outputs": [],
   "source": [
    "def draw_tsp_solution(G, order, colors, pos):\n",
    "    G2 = nx.DiGraph()\n",
    "    G2.add_nodes_from(G)\n",
    "    n = len(order)\n",
    "    for i in range(n):\n",
    "        j = (i + 1) % n\n",
    "        G2.add_edge(order[i], order[j], weight=G[order[i]][order[j]]['weight'])\n",
    "    default_axes = plt.axes(frameon=True)\n",
    "    nx.draw_networkx(G2, node_color=colors, edge_color='b', node_size=600, alpha=.8, ax=default_axes, pos=pos)\n",
    "    edge_labels = nx.get_edge_attributes(G2, 'weight')\n",
    "    nx.draw_networkx_edge_labels(G2, pos, font_color='b', edge_labels=edge_labels)"
   ]
  },
  {
   "cell_type": "code",
   "execution_count": 48,
   "id": "315808a1-76a0-4101-a1d9-39618859c5f1",
   "metadata": {
    "tags": []
   },
   "outputs": [
    {
     "data": {
      "image/png": "[encoded data removed]",
      "text/plain": [
       "<Figure size 640x480 with 1 Axes>"
      ]
     },
     "metadata": {},
     "output_type": "display_data"
    }
   ],
   "source": [
    "draw_tsp_solution(tsp.graph, z, colors, pos)"
   ]
  },
  {
   "cell_type": "code",
   "execution_count": 49,
   "id": "1099d582-5162-4234-83d3-ec06089c5bba",
   "metadata": {
    "tags": []
   },
   "outputs": [
    {
     "data": {
      "text/html": [
       "<h3>Version Information</h3><table><tr><th>Software</th><th>Version</th></tr><tr><td><code>qiskit</code></td><td>0.44.0</td></tr><tr><td><code>qiskit-terra</code></td><td>0.25.0</td></tr><tr><td><code>qiskit_aer</code></td><td>0.12.2</td></tr><tr><td><code>qiskit_ibm_provider</code></td><td>0.6.3</td></tr><tr><td><code>qiskit_optimization</code></td><td>0.5.0</td></tr><tr><td><code>qiskit_ibm_runtime</code></td><td>0.11.3</td></tr><tr><th colspan='2'>System information</th></tr><tr><td>Python version</td><td>3.10.8</td></tr><tr><td>Python compiler</td><td>GCC 10.4.0</td></tr><tr><td>Python build</td><td>main, Nov 22 2022 08:26:04</td></tr><tr><td>OS</td><td>Linux</td></tr><tr><td>CPUs</td><td>8</td></tr><tr><td>Memory (Gb)</td><td>31.142810821533203</td></tr><tr><td colspan='2'>Fri Sep 15 06:01:35 2023 UTC</td></tr></table>"
      ],
      "text/plain": [
       "<IPython.core.display.HTML object>"
      ]
     },
     "metadata": {},
     "output_type": "display_data"
    }
   ],
   "source": [
    "%qiskit_version_table"
   ]
  },
  {
   "cell_type": "code",
   "execution_count": null,
   "id": "59f63823-6d5f-42f2-9758-6de7c8bad0de",
   "metadata": {},
   "outputs": [],
   "source": []
  }
 ],
 "metadata": {
  "kernelspec": {
   "display_name": "Python 3 (ipykernel)",
   "language": "python",
   "name": "python3"
  },
  "language_info": {
   "codemirror_mode": {
    "name": "ipython",
    "version": 3
   },
   "file_extension": ".py",
   "mimetype": "text/x-python",
   "name": "python",
   "nbconvert_exporter": "python",
   "pygments_lexer": "ipython3",
   "version": "3.10.8"
  },
  "widgets": {
   "application/vnd.jupyter.widget-state+json": {
    "state": {
     "0265f33acea74a37b031537a07363105": {
      "model_module": "@jupyter-widgets/controls",
      "model_module_version": "2.0.0",
      "model_name": "HTMLModel",
      "state": {
       "layout": "IPY_MODEL_a81da285f46246b8b49fde0376cef753",
       "style": "IPY_MODEL_74576b1d684e4e5f8ddf9807bc20487c",
       "value": "<table><style>\ntable {\n    border-collapse: collapse;\n    width: auto;\n}\n\nth, td {\n    text-align: left;\n    padding: 8px;\n}\n\ntr:nth-child(even) {background-color: #f6f6f6;};\n</style><tr><th></th><th>Type</th><th>Gate error</th></tr><tr><td><font style='font-weight:bold'>cx2_1</font></td><td>cx</td><td>0.00918</td></tr><tr><td><font style='font-weight:bold'>cx1_2</font></td><td>cx</td><td>0.00918</td></tr><tr><td><font style='font-weight:bold'>cx0_1</font></td><td>cx</td><td>0.00886</td></tr><tr><td><font style='font-weight:bold'>cx1_0</font></td><td>cx</td><td>0.00886</td></tr></table>"
      }
     },
     "03c9ba815f9740e69d91ef3420d29953": {
      "model_module": "@jupyter-widgets/controls",
      "model_module_version": "2.0.0",
      "model_name": "HTMLMathModel",
      "state": {
       "layout": "IPY_MODEL_f8bab28a497a4d9597bc96cc59fd5240",
       "style": "IPY_MODEL_7139362a339140b1ba252864af08b8ac",
       "value": "<table><style>\ntable {\n    border-collapse: collapse;\n    width: auto;\n}\n\nth, td {\n    text-align: left;\n    padding: 8px;\n}\n\ntr:nth-child(even) {background-color: #f6f6f6;}\n</style><tr><th></th><th></th></tr><tr><td>n_uchannels</td><td>12</td></tr><tr><td>dynamic_reprate_enabled</td><td>True</td></tr><tr><td>n_registers</td><td>1</td></tr><tr><td>dtm</td><td>0.2222222222222222</td></tr><tr><td>pulse_num_qubits</td><td>3</td></tr><tr><td>meas_map</td><td>[[0, 1, 2, 3, 4, 5, 6]]</td></tr><tr><td>channels</td><td>{'acquire0': {'operates': {'qubits': [0]}, 'purpose': 'acquire', 'type': 'acquire'}, 'acquire1': {'operates': {'qubits': [1]}, 'purpose': 'acquire', 'type': 'acquire'}, 'acquire2': {'operates': {'qubits': [2]}, 'purpose': 'acquire', 'type': 'acquire'}, 'acquire3': {'operates': {'qubits': [3]}, 'purpose': 'acquire', 'type': 'acquire'}, 'acquire4': {'operates': {'qubits': [4]}, 'purpose': 'acquire', 'type': 'acquire'}, 'acquire5': {'operates': {'qubits': [5]}, 'purpose': 'acquire', 'type': 'acquire'}, 'acquire6': {'operates': {'qubits': [6]}, 'purpose': 'acquire', 'type': 'acquire'}, 'd0': {'operates': {'qubits': [0]}, 'purpose': 'drive', 'type': 'drive'}, 'd1': {'operates': {'qubits': [1]}, 'purpose': 'drive', 'type': 'drive'}, 'd2': {'operates': {'qubits': [2]}, 'purpose': 'drive', 'type': 'drive'}, 'd3': {'operates': {'qubits': [3]}, 'purpose': 'drive', 'type': 'drive'}, 'd4': {'operates': {'qubits': [4]}, 'purpose': 'drive', 'type': 'drive'}, 'd5': {'operates': {'qubits': [5]}, 'purpose': 'drive', 'type': 'drive'}, 'd6': {'operates': {'qubits': [6]}, 'purpose': 'drive', 'type': 'drive'}, 'm0': {'operates': {'qubits': [0]}, 'purpose': 'measure', 'type': 'measure'}, 'm1': {'operates': {'qubits': [1]}, 'purpose': 'measure', 'type': 'measure'}, 'm2': {'operates': {'qubits': [2]}, 'purpose': 'measure', 'type': 'measure'}, 'm3': {'operates': {'qubits': [3]}, 'purpose': 'measure', 'type': 'measure'}, 'm4': {'operates': {'qubits': [4]}, 'purpose': 'measure', 'type': 'measure'}, 'm5': {'operates': {'qubits': [5]}, 'purpose': 'measure', 'type': 'measure'}, 'm6': {'operates': {'qubits': [6]}, 'purpose': 'measure', 'type': 'measure'}, 'u0': {'operates': {'qubits': [0, 1]}, 'purpose': 'cross-resonance', 'type': 'control'}, 'u1': {'operates': {'qubits': [1, 0]}, 'purpose': 'cross-resonance', 'type': 'control'}, 'u10': {'operates': {'qubits': [5, 6]}, 'purpose': 'cross-resonance', 'type': 'control'}, 'u11': {'operates': {'qubits': [6, 5]}, 'purpose': 'cross-resonance', 'type': 'control'}, 'u2': {'operates': {'qubits': [1, 2]}, 'purpose': 'cross-resonance', 'type': 'control'}, 'u3': {'operates': {'qubits': [1, 3]}, 'purpose': 'cross-resonance', 'type': 'control'}, 'u4': {'operates': {'qubits': [2, 1]}, 'purpose': 'cross-resonance', 'type': 'control'}, 'u5': {'operates': {'qubits': [3, 1]}, 'purpose': 'cross-resonance', 'type': 'control'}, 'u6': {'operates': {'qubits': [3, 5]}, 'purpose': 'cross-resonance', 'type': 'control'}, 'u7': {'operates': {'qubits': [4, 5]}, 'purpose': 'cross-resonance', 'type': 'control'}, 'u8': {'operates': {'qubits': [5, 3]}, 'purpose': 'cross-resonance', 'type': 'control'}, 'u9': {'operates': {'qubits': [5, 4]}, 'purpose': 'cross-resonance', 'type': 'control'}}</td></tr><tr><td>local</td><td>False</td></tr><tr><td>hamiltonian</td><td>$$\\begin{align} \\mathcal{H}/\\hbar = & \\sum_{i=0}^{6}\\left(\\frac{\\omega_{q,i}}{2}(\\mathbb{I}-\\sigma_i^{z})+\\frac{\\Delta_{i}}{2}(O_i^2-O_i)+\\Omega_{d,i}D_i(t)\\sigma_i^{X}\\right) \\\\ & + J_{0,1}(\\sigma_{0}^{+}\\sigma_{1}^{-}+\\sigma_{0}^{-}\\sigma_{1}^{+}) + J_{1,2}(\\sigma_{1}^{+}\\sigma_{2}^{-}+\\sigma_{1}^{-}\\sigma_{2}^{+}) + J_{4,5}(\\sigma_{4}^{+}\\sigma_{5}^{-}+\\sigma_{4}^{-}\\sigma_{5}^{+}) + J_{5,6}(\\sigma_{5}^{+}\\sigma_{6}^{-}+\\sigma_{5}^{-}\\sigma_{6}^{+}) \\\\ & + J_{1,3}(\\sigma_{1}^{+}\\sigma_{3}^{-}+\\sigma_{1}^{-}\\sigma_{3}^{+}) + J_{3,5}(\\sigma_{3}^{+}\\sigma_{5}^{-}+\\sigma_{3}^{-}\\sigma_{5}^{+}) \\\\ & + \\Omega_{d,0}(U_{0}^{(0,1)}(t))\\sigma_{0}^{X} + \\Omega_{d,1}(U_{1}^{(1,0)}(t)+U_{3}^{(1,3)}(t)+U_{2}^{(1,2)}(t))\\sigma_{1}^{X} \\\\ & + \\Omega_{d,2}(U_{4}^{(2,1)}(t))\\sigma_{2}^{X} + \\Omega_{d,3}(U_{5}^{(3,1)}(t)+U_{6}^{(3,5)}(t))\\sigma_{3}^{X} \\\\ & + \\Omega_{d,4}(U_{7}^{(4,5)}(t))\\sigma_{4}^{X} + \\Omega_{d,5}(U_{8}^{(5,3)}(t)+U_{10}^{(5,6)}(t)+U_{9}^{(5,4)}(t))\\sigma_{5}^{X} \\\\ & + \\Omega_{d,6}(U_{11}^{(6,5)}(t))\\sigma_{6}^{X} \\\\ \\end{align}$$</td></tr><tr><td>conditional_latency</td><td>[]</td></tr><tr><td>memory</td><td>True</td></tr><tr><td>open_pulse</td><td>False</td></tr><tr><td>u_channel_lo</td><td>[[{'q': 1, 'scale': (1+0j)}], [{'q': 0, 'scale': (1+0j)}], [{'q': 2, 'scale': (1+0j)}], [{'q': 3, 'scale': (1+0j)}], [{'q': 1, 'scale': (1+0j)}], [{'q': 1, 'scale': (1+0j)}], [{'q': 5, 'scale': (1+0j)}], [{'q': 5, 'scale': (1+0j)}], [{'q': 3, 'scale': (1+0j)}], [{'q': 4, 'scale': (1+0j)}], [{'q': 6, 'scale': (1+0j)}], [{'q': 5, 'scale': (1+0j)}]]</td></tr><tr><td>parametric_pulses</td><td>['gaussian', 'gaussian_square', 'gaussian_square_drag', 'drag', 'constant']</td></tr><tr><td>supported_instructions</td><td>['cx', 'id', 'delay', 'measure', 'reset', 'rz', 'sx', 'x', 'if_else']</td></tr><tr><td>qubit_channel_mapping</td><td>[['m0', 'u0', 'd0', 'u1'], ['u0', 'd1', 'u5', 'm1', 'u1', 'u4', 'u3', 'u2'], ['m2', 'd2', 'u4', 'u2'], ['u5', 'u8', 'm3', 'u6', 'u3', 'd3'], ['u7', 'm4', 'd4', 'u9'], ['m5', 'd5', 'u11', 'u8', 'u10', 'u6', 'u7', 'u9'], ['u10', 'd6', 'u11', 'm6']]</td></tr><tr><td>rep_delay_range</td><td>[0.0, 500.0]</td></tr><tr><td>rep_times</td><td>[1000.0]</td></tr><tr><td>conditional</td><td>False</td></tr><tr><td>backend_name</td><td>ibm_perth</td></tr><tr><td>input_allowed</td><td>['job', 'runtime', 'qasm3', 'qasm3']</td></tr><tr><td>multi_meas_enabled</td><td>True</td></tr><tr><td>acquisition_latency</td><td>[]</td></tr><tr><td>simulator</td><td>False</td></tr><tr><td>allow_object_storage</td><td>True</td></tr><tr><td>uchannels_enabled</td><td>True</td></tr><tr><td>meas_kernels</td><td>['hw_qmfk']</td></tr><tr><td>supported_features</td><td>['qasm3', 'qobj']</td></tr><tr><td>sample_name</td><td>family: Falcon, revision: 5.11, segment: H</td></tr><tr><td>measure_esp_enabled</td><td>True</td></tr><tr><td>online_date</td><td>2021-07-22 04:00:00+00:00</td></tr><tr><td>qubit_lo_range</td><td>[[4.657559529271107, 5.657559529271107], [4.533545846179484, 5.533545846179484], [4.362656823152808, 5.362656823152808], [4.625104004762627, 5.625104004762627], [4.659209593119079, 5.659209593119079], [4.478609833866366, 5.478609833866366], [4.656636657087861, 5.656636657087861]]</td></tr><tr><td>credits_required</td><td>True</td></tr><tr><td>live_data</td><td>False</td></tr><tr><td>clops</td><td>2891</td></tr><tr><td>default_rep_delay</td><td>250.0</td></tr><tr><td>dt</td><td>0.2222222222222222</td></tr><tr><td>meas_levels</td><td>[1, 2]</td></tr><tr><td>description</td><td>7 qubit device</td></tr><tr><td>meas_lo_range</td><td>[[6.663115502, 7.663115502], [6.6164476510000005, 7.6164476510000005], [6.84928468, 7.84928468], [6.719581694, 7.719581694], [6.637153809000001, 7.637153809000001], [6.78180398, 7.78180398], [6.6522457170000004, 7.6522457170000004]]</td></tr><tr><td>pulse_num_channels</td><td>9</td></tr><tr><td>processor_type</td><td>{'family': 'Falcon', 'revision': '5.11', 'segment': 'H'}</td></tr><tr><td>timing_constraints</td><td>{'acquire_alignment': 16, 'granularity': 16, 'min_length': 64, 'pulse_alignment': 16}</td></tr><tr><td>coupling_map</td><td>[[0, 1], [1, 0], [1, 2], [1, 3], [2, 1], [3, 1], [3, 5], [4, 5], [5, 3], [5, 4], [5, 6], [6, 5]]</td></tr><tr><td>allow_q_object</td><td>True</td></tr><tr><td>discriminators</td><td>['quadratic_discriminator', 'linear_discriminator', 'hw_qmfk']</td></tr><tr><td>url</td><td>None</td></tr><tr><td>parallel_compilation</td><td>True</td></tr></table>"
      }
     },
     "03e5ac60a4cf45c39a30d03115d1d8e8": {
      "model_module": "@jupyter-widgets/controls",
      "model_module_version": "2.0.0",
      "model_name": "GridBoxModel",
      "state": {
       "children": [
        "IPY_MODEL_34eb1147d28f48d58a903374e61c3c34",
        "IPY_MODEL_6003405c1acf4dc29d65c1d187020eec",
        "IPY_MODEL_bbcb31d652d44c15a752512fc474c65a"
       ],
       "layout": "IPY_MODEL_8d40d26e71db4f968247eb04dc53fbf1"
      }
     },
     "0b3d2f3784364a40beecfb637b361a9d": {
      "model_module": "@jupyter-widgets/controls",
      "model_module_version": "2.0.0",
      "model_name": "VBoxModel",
      "state": {
       "children": [
        "IPY_MODEL_46244b6dac6e4f31b09cb747b93e0a08",
        "IPY_MODEL_fb9c48b2989849c78020fb395be18cc9"
       ],
       "layout": "IPY_MODEL_eabed8c810174ef7b90489d8c7739da0"
      }
     },
     "14277a8d19254823a1a06a4ec8d3a9d4": {
      "model_module": "@jupyter-widgets/base",
      "model_module_version": "2.0.0",
      "model_name": "LayoutModel",
      "state": {}
     },
     "14ac53c69fd44dee963343d5e6aabc61": {
      "model_module": "@jupyter-widgets/controls",
      "model_module_version": "2.0.0",
      "model_name": "HTMLStyleModel",
      "state": {
       "description_width": "",
       "font_size": null,
       "text_color": null
      }
     },
     "1ae5ab2ce0f64e03ab3ea3b8bb47acff": {
      "model_module": "@jupyter-widgets/controls",
      "model_module_version": "2.0.0",
      "model_name": "HTMLModel",
      "state": {
       "layout": "IPY_MODEL_ceb16c5de01c40f0a0357855dce4a710",
       "style": "IPY_MODEL_9e402333f2214b27997f28f8a2c170b2",
       "value": "<p style='font-family: IBM Plex Sans, Arial, Helvetica, sans-serif; font-size: 20px; font-weight: medium;'>Circuit Properties</p>"
      }
     },
     "1cdbf7d03abf453cbb95f65982891f0f": {
      "model_module": "@jupyter-widgets/base",
      "model_module_version": "2.0.0",
      "model_name": "LayoutModel",
      "state": {
       "grid_gap": "0px 0px",
       "grid_template_areas": "\n                               \"left right right right\"\n                               \"bottom bottom bottom bottom\"\n                               ",
       "grid_template_columns": "31% 23% 23% 23%",
       "grid_template_rows": "auto auto"
      }
     },
     "1d4ff9fd0ed540afaed11425afa5f3c1": {
      "model_module": "@jupyter-widgets/controls",
      "model_module_version": "2.0.0",
      "model_name": "HTMLMathStyleModel",
      "state": {
       "description_width": "",
       "font_size": null,
       "text_color": null
      }
     },
     "21b93f118bec42b7a35e48072828a932": {
      "model_module": "@jupyter-widgets/base",
      "model_module_version": "2.0.0",
      "model_name": "LayoutModel",
      "state": {
       "width": "145px"
      }
     },
     "228cf5fe30d047f7be378f89453ef0b0": {
      "model_module": "@jupyter-widgets/controls",
      "model_module_version": "2.0.0",
      "model_name": "HTMLStyleModel",
      "state": {
       "description_width": "",
       "font_size": null,
       "text_color": null
      }
     },
     "24ee53b4608041c187add52fe265b8ed": {
      "model_module": "@jupyter-widgets/controls",
      "model_module_version": "2.0.0",
      "model_name": "HTMLStyleModel",
      "state": {
       "description_width": "",
       "font_size": null,
       "text_color": null
      }
     },
     "256cc71a22774b4f83f6bec4064d57b6": {
      "model_module": "@jupyter-widgets/output",
      "model_module_version": "1.0.0",
      "model_name": "OutputModel",
      "state": {
       "layout": "IPY_MODEL_676593bd8d8a4c90a682405f04e4dc00",
       "outputs": [
        {
         "data": {
          "image/png": "iVBORw0KGgoAAAANSUhEUgAAA38AAALPCAYAAADSCnlOAAAAOXRFWHRTb2Z0d2FyZQBNYXRwbG90bGliIHZlcnNpb24zLjYuMywgaHR0cHM6Ly9tYXRwbG90bGliLm9yZy/P9b71AAAACXBIWXMAAA9hAAAPYQGoP6dpAAC9GUlEQVR4nOzdd3gUVcPG4WdmNpWQQAgdpPcAKiCKBVQEUUFUUFFEsStFxYqKXdHXjqhYUOzYFVQsqKgUFUGR3nuvgfTszHx/IPmMtJRNZif7u68r17tuNpsnecPuPHPOnGO4rusKAAAAAFCumV4HAAAAAACUPsofAAAAAEQAyh8AAAAARADKHwAAAABEAMofAAAAAEQAyh8AAAAARADKHwAAAABEAMofAAAAAEQAyh8AAAAARADKHwAAAABEAMofAAAAAEQAyh8AAAAARADKHwAAAABEAMofAAAAAEQAyh8AAAAARADKHwAAAABEAMofAAAAAEQAyh8AAAAARADKHwAAAABEAMofAAAAAEQAyh8AAAAARADKHwAAAABEAMofAAAAAEQAyh8AAAAARADKHwAAAABEAMofAAAAAEQAyh8AAAAARADKHwAAAABEAMofAAAAAEQAyh8AAAAARADKHwAAAABEAMofAAAAAEQAyh8AAAAARADKHwAAAABEAMofAAAAAEQAyh8AAAAARADKHwAAAABEAMofAAAAAEQAyh8AAAAARADKHwAAAABEAMofAAAAAEQAyh8AAAAARADKHwAAAABEAMofAAAAAEQAyh8AAAAARADKHwAAAABEAMofAAAAAEQAyh8AAAAARADKHwAAAABEAMofAAAAAEQAyh8AAAAARADKHwAAAABEAMofAAAAAEQAyh8AAAAARADKHwAAAABEAMofAAAAAEQAyh8AAAAARADKHwAAAABEAMofAAAAAEQAyh8AAAAARADKHwAAAABEAMofAAAAAEQAyh8AAAAARADKHwAAAABEAMofAAAAAEQAyh8AAAAARADKHwAAAABEAMofAAAAAEQAyh8AAAAARADKHwAAAABEAMofAAAAAEQAyh8AAAAARADKHwAAAABEAMofAAAAAEQAyh8AAAAARADKHwAAAABEAMofAAAAAEQAyh8AAAAARADKHwAAAABEAMofAAAAAEQAyh8AAAAARADKHwAAAABEAMofAAAAAEQAyh8AAAAARADKHwAAAABEAMofAAAAAEQAyh8AAAAARADKHwAAAABEAMofAAAAAEQAyh8AAAAARADfl78pU6bIMAxNmTLF6yjlxvXXX6/TTjstZM93xx13qGPHjiF7PgAAAABFV6TyN27cOBmGkf8RCARUu3ZtXXbZZVq/fn1pZfRcZmam7rvvvkIXzH2F9GAf48ePL93AJbBy5Uq9+uqruvPOO/Pvy8nJ0ZAhQ1S1alXVqVNHDz300H5ft27dOiUkJGjatGn7fe7GG2/UnDlzNGHChFLNDgAAAODgAsX5ogceeEANGjRQdna2fv31V40bN05Tp07VvHnzFBsbG+qMnsvMzNT9998vSerSpUuhv27o0KHq0KHDfvcfd9xxoYoWcs8++6waNGigk08+Of++xx9/XG+++abuuusu7dmzRw888IAaNWqkfv365T/m1ltvVa9evXT88cfv95w1atTQ2WefrSeeeEK9evUqk58DAAAAQEHFKn89evRQ+/btJUlXXnmlUlJS9Nhjj2nChAk6//zzQxrQz0488UT16dOnSF/jOI5yc3MPWKIzMjJUoUKFEmXKzMxUfHz8AT+Xl5end955R9dee22B+7/44gvdfPPNuu222yRJa9eu1YQJE/LL39SpUzVx4kQtWrTooN/3/PPPV9++fbVixQo1bNiwRD8DAAAAgKILyTV/J554oiRp+fLlBe5ftGiR+vTpo+TkZMXGxqp9+/b7Tf3bsWOHbrnlFrVu3VoJCQlKTExUjx49NGfOnP2+z7p169S7d29VqFBB1apV00033aScnJwDZvrwww/Vrl07xcXFKSUlRf37999vamqXLl0OOJJ32WWXqX79+pKkVatWqWrVqpKk+++/P3/q5n333VeYX81hGYahwYMH65133lGrVq0UExOjr7/+On+K7U8//aTrr79e1apVU506dfK/7oUXXsh/fK1atTRo0CDt2rVrv58vNTVVs2bN0kknnaT4+PgC0zn/a+rUqdq2bZu6du1a4P6srCxVrlw5/7+Tk5OVmZkpaW9ZveGGG3TbbbcVyPdf+57z888/L/TvBgAAAEDoFGvk779WrVolSQUKwvz583X88cerdu3auuOOO1ShQgV98MEH6t27tz7++GOdc845kqQVK1bos88+U9++fdWgQQNt3rxZL730kjp37qwFCxaoVq1akvYWkFNPPVVr1qzR0KFDVatWLb311lv64Ycf9sszbtw4DRw4UB06dNDIkSO1efNmPfvss5o2bZr+/PNPVapUqdA/W9WqVfXiiy/quuuu0znnnKNzzz1XktSmTZvDfu2ePXu0bdu2/e6vUqWKDMPI/+8ffvhBH3zwgQYPHqyUlBTVr19ff/31l6S9i69UrVpV99xzjzIyMiRJ9913n+6//3517dpV1113nRYvXqwXX3xRM2fO1LRp0xQVFZX/3Nu3b1ePHj104YUXqn///qpevfpB806fPl2GYeioo44qcH+HDh308ssvq0uXLkpPT9d7772nwYMHS5LGjh2rbdu26dZbbz3k7yIpKUmNGjXStGnTdNNNNx36FwcAAAAg9NwieP31111J7uTJk92tW7e6a9eudT/66CO3atWqbkxMjLt27dr8x5566qlu69at3ezs7Pz7HMdxO3Xq5DZp0iT/vuzsbNe27QLfZ+XKlW5MTIz7wAMP5N/3zDPPuJLcDz74IP++jIwMt3Hjxq4k98cff3Rd13Vzc3PdatWquampqW5WVlb+Y7/44gtXknvPPffk39e5c2e3c+fO+/2cl156qVuvXr38/966dasryb333nsL9Xv68ccfXUkH/di4cWP+YyW5pmm68+fPL/Ac+37XJ5xwghsMBvPv37JlixsdHe1269atwO9t9OjRriT3tddeK/DzSXLHjBlTqNz9+/d3q1Spst/9a9eudVu1apWf/8QTT3T37Nnj7tq1y61atao7fvz4Qj1/t27d3BYtWhTqsQAAAABCq1jTPrt27aqqVauqbt266tOnjypUqKAJEybkT/vbsWOHfvjhB51//vn5o1/btm3T9u3b1b17dy1dujR/CmZMTIxMc28M27a1fft2JSQkqFmzZpo9e3b+9/zqq69Us2bNAtfQxcfH6+qrry6Q7Y8//tCWLVt0/fXXF7hu7swzz1Tz5s315ZdfFudHLpZ77rlH33333X4fycnJBR7XuXNntWzZ8oDPcdVVV8myrPz/njx5snJzc3XjjTfm/972PS4xMXG/ny8mJkYDBw4sVN7t27cXGL3dp06dOvrzzz/1559/av78+ZoyZYoSEhJ0//33q1mzZrrgggs0depUdezYUXXr1tXQoUOVm5u73/NUrlz5gCOhAAAAAEpfsaZ9Pv/882ratKnS0tL02muv6eeff1ZMTEz+55ctWybXdTVixAiNGDHigM+xZcsW1a5dW47j6Nlnn9ULL7yglStXyrbt/MdUqVIl//bq1avVuHHjAtMlJalZs2YF/nv16tUHvF+SmjdvrqlTpxb9By6m1q1b73f93IE0aNCg0J872M8XHR2thg0b5n9+n9q1ays6OrqwkeW67gHvj4qK0pFHHpn/34sWLdILL7yg6dOna8eOHTrzzDN1xx136OSTT9bAgQP18MMP56+Q+u/n/u//fwAAAADKRrHK3zHHHJO/2mfv3r11wgkn6KKLLtLixYuVkJAgx3EkSbfccou6d+9+wOdo3LixJOmRRx7RiBEjdPnll+vBBx9UcnKyTNPUjTfemP88pcUwjAOWnX8X0LIQFxdXrM+V9Ln/q0qVKtq5c2ehHnvTTTepf//+Ovroo/XWW28pOTlZw4cPlyTddtttByx/O3fuVEpKSuHDAwAAAAiZEi/4YlmWRo4cqZNPPlmjR4/WHXfckb+Uf1RU1GFHvj766COdfPLJGjt2bIH7d+3aVaAo1KtXT/Pmzdtv9Gjx4sUFvq5evXr5959yyikFPrd48eL8z0t7pyGuWLFiv0z/HT0Lp9Gqf/98/94yITc3VytXrizUSOPBNG/eXO+8847S0tKUlJR00Md98cUXmj59upYuXSpJ2rBhg2rWrJn/+Vq1au23sqq0dwP5tm3bFjsfAAAAgOILyVYPXbp00THHHKNnnnlG2dnZqlatmrp06aKXXnpJGzdu3O/xW7duzb9tWdZ+o28ffvjhfuXhjDPO0IYNG/TRRx/l35eZmamXX365wOPat2+vatWqacyYMQW2gZg0aZIWLlyoM888M/++Ro0aadGiRQXyzJkzR9OmTSvwnPv2xfvvVgpe6Nq1q6KjozVq1KgCv7exY8cqLS2twM9XVMcdd5xc19WsWbMO+pjc3FwNGzZMd999t6pVqyZJql69upYtW6ZgMChJWrhwoWrUqFHg69LS0rR8+XJ16tSp2PkAAAAAFF9ItnqQpFtvvVV9+/bVuHHjdO211+r555/XCSecoNatW+uqq65Sw4YNtXnzZs2YMUPr1q3L38fvrLPO0gMPPKCBAweqU6dOmjt3rt555539NgK/6qqrNHr0aA0YMECzZs1SzZo19dZbb+23YXlUVJQee+wxDRw4UJ07d1a/fv3yt3qoX79+gW0GLr/8cj311FPq3r27rrjiCm3ZskVjxoxRq1attHv37vzHxcXFqWXLlnr//ffVtGlTJScnKzU1VampqYf8nfzyyy/Kzs7e7/42bdoUaquIA6lataqGDx+u+++/X6effrp69eqlxYsX64UXXlCHDh3Uv3//Yj2vJJ1wwgmqUqWKJk+evN+o6T7PPvusJOmGG27Iv++MM87QoEGDdNFFF6lTp0568MEHdeWVVxb4usmTJ8t1XZ199tnFzgcAAACgBIqyNOi+7Qdmzpy53+ds23YbNWrkNmrUKH9rguXLl7sDBgxwa9So4UZFRbm1a9d2zzrrLPejjz7K/7rs7Gz35ptvdmvWrOnGxcW5xx9/vDtjxowDbsOwevVqt1evXm58fLybkpLi3nDDDe7XX39dYKuHfd5//333qKOOcmNiYtzk5GT34osvdtetW7df7rfffttt2LChGx0d7R555JHuN998s99WD67rutOnT3fbtWvnRkdHH3bbh8Nt9fDvr5XkDho0qEi/a9fdu7VD8+bN3aioKLd69erudddd5+7cubPAYzp37uy2atXqoDkPZOjQoW7jxo0P+LlNmza5FStWdCdMmLDf5yZNmuQ2b97crVSpkjtgwAA3IyOjwOcvuOAC94QTTihSFgAAAAChY7juQZZ3RERasWKFmjdvrkmTJunUU08NyXNu2rRJDRo00Pjx4xn5AwAAADxC+cN+rrvuOi1btkzfffddSJ7vjjvu0A8//KDff/89JM8HAAAAoOgofwAAAAAQAUKy2icAAAAAILxR/gAAAAAgAlD+AAAAACACUP4AAAAAIAJQ/gAAAAAgAlD+AAAAACACBLwOgMOzbVvz5s2TJKWmpsqyLI8TAQAAAPAb9vkDAAAAgAjAtE8AAAAAiABM+/SB3NxcjRs3TpJ02WWXKTo62ttAAAAAAHyHaZ8+kJmZqdTUVEnSvHnzFB8f73EiAAAAAH7DyB+AsOS6rtxgUE5e7t6PYJ6cvDy5ti3JlVxJhiTDlBkIyAxEyYyKkhEVLSs6WobJwkgovGDQ1sb1m7Vt83Zt37pDW7fs0I6tO5WTnatgMCjDMGRZlmLjYpScUlkp1ZOVUjVZKdWqqGadaizEhSLJSM/c+/e2Zbu2bt6hbVu3a9eONOXlBWUHbZmWKcuylJiUsPfvrHoVpVStouq1qqpKSmWv4wPwMcofgLDgBIMKZuxRMCtTwcwM2VkZ/xS9fzP2Fr78CQvGP/+7/wQGMzpGgfgEBeLjZcVVUCC+ggzD2O9xiExrV63X37MWaNH8ZZo/Z7GWLVqpvNy8/M+bpinTNLXf35ZhyLFtOc7/3x8dE60mLRqoVZtmapbaRG3btVTtI2qW0U+CcBfMC2renEVa8PdiLZy3VHNnL9SGdRv173lXlmX96/XpnzNb/7zWBYMFXwcrJSepVZtmatmmqVq0bqqjOrRWQsUKZfXjAPA5pn36ANM+UV7ZOdnK271Lubt3KZiRXqrfyzAtRSUmKTqxkqIqJslgpCaiBIO25v25UL98/5umfDtNG9ZukiQFAtZ+B9fF9e/nqlu/trp076QTTz1WLds0ZWQwwqTvydD0n2bq58kz9MsPvyozI0uGacg0DNm2U+LnNwxDpmnKtm2Zpqmjj2mtLt2O14mnHqtadWqE4CcAUF5R/nyA8ofyxHVs5e7aoextW2RnZ3mWIyqpsmJTqikQn8CIYDm2cd1mfTr+K302fpL2pKXLsizZ+40olw7LMmXbjiolJ+mcfmeo9wU9VK1mSpl8b5Q913U169c5+uCtCfrpu+lyHKfM/t4M09g7G9511Ty1iS4YcLa6ntlZsbExpf69AfgL5c8HKH8oD+ycbGVv36KcHdskp+RnvkPFjIlVbEo1xVSuwnWC5YTruvr15z/04ZsTNeOXP2QaphyP/+ZM05TrujrhlI7qc0lPdeh0JCcdyomM9Ex98fG3Gv/GZ1q3ekOZnmA4EMM05DquKlSM1zkXnKG+l/RiNBBAPsqfD1D+4GdOXq4yN21Q7s5tXkc5JMMKKK5GbcUkV5FhsAWqX83+7W899+hYLZq3NH/kLZzsy9T6qBYafMcVanN0S68joZhyc3L1yXtf6pVRb2vP7r3T1sPtkMq0TBmSzruopy4ffBGLxQCg/PmBbduaOXOmJKlDhw5cOwJfcIJBZW/dpOxtmyUfvcyYUdGKq1lH0UmVGZnxkSULluv5x1/X71Nny7RMOWFW+v5rXwk8/uRjdP2tA9WwST2vI6GQHMfR1xN+0POPv6Ytm8L7pNY+pmkqKiqg/lf1Vf8r+7BADBDBKH8AQi43bacy1q2Wawe9jlJsgQoVVaFufVnRXDMTznJycvXKM2/p3bGf5C+A4SeWZcl1HV163YUaeP2FioqO8joSDmHtqvW679bH9ffsBTIMI+xG+g7HMA1VTq6kex67Wcd3OcbrOAA8QPkDEDJOMKjM9WuUm7bD6yihYZiKr1VXMckpjAKGoXl/LtL9tz6h9Ws2+u4g/L8Mw1C9hnV035O3qlmrxl7HwX84jqMP3vxcox57VY7t+O4kw7/tuybwrPO6adjd16piYoLXkQCUIcqfD+Tl5em9996TJPXr109RUZwZRvjJ27Nb6WtW+Hq072ACCRWVcERDmQH+7YUD27b16rNv640xH8gwjbCf4llYpmVKrqurbrhEA649/599BuG1bVu2a/iQh/XXH/O8jhJSpmmqUnKSRj53l44+po3XcQCUEcqfD7DgC8KZ67rK2b5FmRvWeh2lVBlRUapYv4kCcfz781L6ngzdc+NjmvHzH15HKVWdu3XSvY/forj4WK+jRLT5fy/WsKvuUdrOtLBbPCgUTNOQZOj2B4bo3H5neh0HQBngtCKAYnMdRxnrVpX74idJbl6edi9bqNy0nV5HiVhrV63XwHNu0G9TZ3sdpdT9MvlXXdnnJm1cv9nrKBHr6wk/6Krzb9Kuclr8JMlxXDmOo5F3P6v/3fucgnnlb+YGgIIofwCKxbGD2rNisXJ3bvc6StlxXaWvXq6srZu8ThJx/p69QJf1HqqN6zZ5vmdfWXAcR6tXrNOlvYZo8fxlXseJKK7r6pVRb2nETY8qGAyWm2nFh/PRO19oyGXDlZWZ5XUUAKWI8gegyJxgUHuWL1EwM8PrKJ7I2rhOWZs3eB0jYsz+ba6GDLhT2Vk55XYE5kBs21ZGeqauu+g2zftzkddxIoLruhr9+Gt6+dm3/vlvjwOVIdd1Nfv3uRo04A6l74nM13YgElD+ABTJvhE/OzvT6yieytq8gQJYBv6aOU83XX638vLyImLE778cx1FOdq6GXHqnFs5d4nWccs11XT3/xGt686X3vY7iGcdxNH/OYg25bLgyMxgBBMojyh+AQnMdR3tWLJGdzUGBtLcAZm/lmqzSsmjeUt10xQgFg7ZcJ4KGYP7DcRzl5uRqyIA7tXzJKq/jlFvjXhyvN8ZEbvHbx3EcLfh7iW66aoTycvO8jgMgxMJitc8Vk7/zOkJYy8rJUc8hQyVJE58bpbiY/Tedbtj1tLKOhQjjuq7S16xQHgue7CehfmNFJ1byOka5sm3LDl169mDt2rE7Ikf8DsSyTKVUq6I3Pn9OSZUTvY5Trnw/6WfdMfghr2OEFcMw1Ktvd931yE3scwqUI4z8+UB0IKCHBg/WQ4MHKzoQ8DoOIlT21k0Uv4NIX7OC0dAQysnJ1a3X3K+0nRS/f7NtR9u2bNcdgx5iVcYQWrxgue4Z9hgF5z9c19XnH3ytD9+a4HUUACFE+fMBy7J0bJvWOrZNa1mW5XUcRKDc3buUtWm91zHCl+Noz8qlcoIckJeU67p6bMRzWjx/WUQt7lJYtu1ozh/z9czDL3sdpVzYsW2nbrribtm2rTCYCBWWnnzwBc2c/qfXMQCECOUPwCE5eblKX7PC6xhhz8nLVca6VV7H8L0vP/5Okz79ngPxQ3BdVx+/84W+n/SL11F8zXVd3XPz/7Rj+05ONByCK+mOwQ9p5/ZdXkcBEAKUPx8IBm19M326vpk+XcGg7XUcRBDXdZW+dpXE1LtCydu9Szm7dngdw7e2bNympx4Y43UMXzAMQ4/d/Zx2cEBebBM/+ka/TZ1F8TsM13GVkZ6hx+4d7XUUACFA+fOBPDuox8e9ocfHvaE8m2llKDu5O7crmL7b6xi+krl+tZwgK+QVleu6euSuZ5TL6oKF4rquMjIy9cS9z3sdxZc2bdiiJ+5/wesYvmHbjr6f9LO+n/Sz11EAlBDlD8ABOXm5ytiwxusYvuPatjLWrfY6hu989clk/fbLbNk2sxsKy7Ed/fjNNKZ/FpHrunpo+NPKzc31OoqvGIahh+98humfgM9R/gAcUOam9Uz3LKa83buUx4hpoWVmZGnUo6+KxRaLzjAMPf3gS8rJocgU1rQpvzPdsxj2jTa/+tw7XkcBUAKUPwD7CWZnKXfndq9j+FrmxnUsWlJI41//VHvS0sWvq+hc19WObTv0ybtfeh3FF2zb1qhHX5FpcvhTHI7t6ON3J2rdmo1eRwFQTLz6AdhP1sZ1XkfwPTsrU3m7d3kdI+zt3J6mt17+kKJcAq4rvfbcu0rfk+F1lLD3zcQftXLZGvaPLBFDY54e53UIAMVE+QNQQF5GuvL2pHkdo1xg9O/w3nzpfeXmsMhLSWVkZOqdVz/2OkZYy8vN0/OPv8Zm7iVk27a+mfijlixc7nUUAMVA+QNQQPbWTV5HKDec3ByK9CGk78nQJ+9+xShMCLiOqw/enKDs7Byvo4StH7+Zqi2btnFCJgQs09K7r33idQwAxUD584HoQEAjrr5aI66+WtGBgNdxUI45eblMVQyx7G1bvI4QtiZ99oPyWHExZDLTM/X9lyzFfzDvv/k51/qFiG3b+mbCj9q1k4WtAL/hVdAHLMtS5/bt1Ll9O1mW5XUclGPZ27d6HaHcCabvlp2T7XWMsOO6rj5883MxBhM6hmnogzcneB0jLC1bvFJ/z17AKHMI2batiR9943UMAEVE+QMgSXJdRzmUv1LB73V/f/4+V2tXbRDtL3Rcx9WSBcu14O8lXkcJOx+9M5GTpyHmuq4+ePNzCjXgM5Q/H7BtWz/9MUs//TGLDZBRaoLp6XLtoNcxyqWcndu5zug/vpnwIwfjpcCyLH07cYrXMcJKMGjr689/4P2zFGzasEXz5yz2OgaAIqD8+UBuMKgHX35ZD778snKDHJyjdORyrV+pce2g7KxMr2OEDcdx9NO30zkYLwW2bevHb6ZysuFf5syar4x0/v2VBssy9fP3M7yOAaAIKH8A5LquctN2eh2jXKNc/7+Ffy9R2q49Xscot7Zs3KaVy9Z4HSNs/Pz9DEaZS4ltO/rx66lexwBQBJQ/ALKzs+QG2WutNOWl7fI6QtiY+sNvsizefkqLaZqa+sNvXscIC67r6sevpzLKXIpWr1yndas3eB0DQCHx7gtAeeks113a7JwsORRsSdK0KTNl2ywSUVoc19H0KTO9jhEWNqzbpI3rN3sdo1wzDEO/Tp3ldQwAhVSi8peTk6Pbb79dtWrVUlxcnDp27KjvvvsuVNkAlJFgZobXESJCMJPrjnJz8rRiyWqvY5RvrrR4/jJWYZS0cO5SryOUe6ZlauFcVpgF/KJE5e+yyy7TU089pYsvvljPPvusLMvSGWecoalTmf8N+IlN+SsTdha/5xVLVzEFrwxkZ+Xs3Uojwi2cu0RWgOv9SpMdtDXvr0VexwBQSMUuf7///rvGjx+vkSNH6vHHH9fVV1+tH374QfXq1dNtt90WyowASpFjB+Xk5XodIyIEKX9aNG+Z1xEixqJ5jHrN/3ux7CAnG0rbquVrlZPD+wjgB4HifuFHH30ky7J09dVX598XGxurK664QnfeeafWrl2runXrhiRkpIuyArr1skvzbwOh5KstCAxDsSnVFVO5iszoGLmOo2DGHmVt2eiLn4PptXunIwYCloJhfkCemJSgi6/so9ZHt1CL1k0UGxcrSfryk+/00O1Pe5zu8AIBS4sXLFf3Xid7HcVTfijATVs2UrczO+uoY1qrRq3qqpycpPQ9GZr31yK9+fIH+uuPeV5HPCzHcbRs8Uq1atPM6ygADqPYTeLPP/9U06ZNlZiYWOD+Y445RpL0119/Uf5CJBCw1L1TJ69joJxycv1ztrZi/SaKqvj/rzmGaSo6qbKiKiZpz6qlCqaH9/YBbjAo13VlGIbXUTyzcd3msC9+klS9VjUNuPZ8r2MUm2072rR+i9cxPJWRnumL/f3O7XemzrvorAL3Va5SSSeeeqw6demg4YMf0o/fTvMoXeFtWr+Z8gf4QLHL38aNG1WzZs397t9334YNB77WICcnRzk5OQXvy81VTHR0caMAKAG/rEAZU6VafvELZmUqa/MGBeLiFVe9lgzTVIU6DZS2eK4U5ptbu8E8GVGR+3q3eeNWryMUSl5env78fa7mzl6oylWS1LNvd68jFYnrutq8IbLL39Yt272OUGjbtmzX5x9+ozl/zFPFpARdNeQS1W9UV5Zl6ca7rgn78mcYhrZu9s/vG4hkxb7mLysrSzExMfvdHxsbm//5Axk5cqSSkpIKfIwZP764MSKCbdv69e+5+vXvuSyUgJBz8vIkhf9IVGyVqvm3M9avVt7uXcravEG5e9IkSVZ0tKIqJnkVr9D2/r4j1/atO72OUCirlq3V9RffrhefHOfbFSP9VH5Kw/YtO7yOUCiTPvtevU++TGOeGqcZP/+hbydO0Z1DH87/fK06NVS5SiXP8hWGZVnattUfv28g0hW7/MXFxe03gidJ2dnZ+Z8/kOHDhystLa3Ax7UXXljcGBEhNxjU3aNH6+7Ro5UbDHodB+XM3sVewnu0zLAsWbF7X1NcxymwOmkwIz3/dlSFimWeragiufwF84Laszv98A9ESOzaniY3zEfCS5Nfyu+cWfOVk13weGrNqvUF/js7K7ssIxWZ6zraxsgf4AvFnvZZs2ZNrV+/fr/7N27cKEmqVavWAb8uJiZmvxHDbUz5BDzj+uCEghn9/68Zrl0w77/zmz54Lfn7ve+0bcW2Mv2eziE2VDetEu34UyQZBzhhiNKTlxfU9/e8pOhA2S4U5h7i780ow7+3WQuXylC4n9o6sFNOPyH/9uzf5yorM7zLn2072rVrt9cxABRCsd8RjjzySP3444/avXt3gUVffvvtt/zPAwh/fhgZMIz/P2D8b17X/f8DTcP0w35e7iHLWFkryyx+WOilvLGDtlyj7ArX4RyqGIaaY9uSYYT9dcD/1Ty1iW69d5AkKScnV08/PMbjRIUTzAv/E4kASjDts0+fPrJtWy+//HL+fTk5OXr99dfVsWNHVvoEfCP8D4wKFLz/HMgWKIZOeJcL13VlmOF/fWVpcXx2EF4eOE7k/s4d1/XB1cwFtW3XSi++/T9VTExQMC+ou28c6YvtKiRO7gB+UeyRv44dO6pv374aPny4tmzZosaNG+uNN97QqlWrNHbs2FBmBFCqwv/wyMn9/+mCRqDg6J4ZFfWvx4X3thWGYciN4INxM4K3uPCKGcEnG0zD8MGprf/X8YR2evzFexUXH6ucnFzdOfRh/Tx5htexCi0Q8MPMCwAluhDgzTff1IgRI/TWW29p586datOmjb744guddNJJocoHoJT5Yc8517ZlZ2fJio2TYZgKxFfI3zA9EF8h/3F5GeG9z5/kj2m2pYXyV/Yi+XdumqZvpnx26Xa8Hn5muKJjopWZkaVbrr1XM6f/5XWsIglEle21pQCKp0T/UmNjY/X444/r8ccfD1UeAGXMKOPFIIore/tWVah9hCQpvk59ZW1ar0BcfP72DnZurvL+2fYhnAVzIve6mNh/jdKGu5jYGHXq0l6S1LRlw/z7a9SqppNPP16StPDvpdoUxnvpWaapKCtyR2Pio6N9MfJ3ao8T9dAzdyoQsOQ4jl557m3l5uSpbbtW+Y9ZMHeJ8nLDd6VgyzJVqVLi4R8IwHP+OOqLcFFWQEP6XZh/GwglMypa8sGaeDnbtyg6sZKiKiYqEBunivUb53/OdRxlrFvpi7P8wexgma6wKYXPap+mZSo2KkrZPtjuonKVJD3y3F373d/u2LZqd2xbSdKDtz+lrz6ZXNbRCq1CbIxMD6bihctqn0kJ8WX2vUrihJM75k+ZNE1TN9xx1X6P6XXSJdq4fnNZRys0wzCVUr2K1zEAFAJNwgcCAUtnn3yy1zFQTu29Zi78S5Mk7Vm1VLEp1RVTuYrM6Bi5jqNgxh5lbdkoOyvT63iFcvzN/f4p3JHpjb//0qrla72OERHqNK6rk+690usYnjlixVq9+O0Ur2NEBNu2lVI12esYAAqB8gdEODPgn6l4cl1lb92k7K2bvE5SbIafft+loHrNqr4of5vWb9FxTc7wOkaxGYah6rWqeR3DU1Wr+WMk6v7bntD9tz3hdYwScV1XVRn5A3whfDb/wUHZjqO/Fi/WX4sXy3bCZ38wlA9+2Bi9vDACAV8ssFOaatapzqqAZcCyTNWoHdnlr0JCvCr4ZOpneVCjdnWvIwAoBMqfD+Tm5emWJ5/SLU8+pVwfXCsDf7HiODgqK/9emTRSNWvVmP3AykAwaKtZy0Zex/Bc89QmXkeICKZpqnGzBl7HAFAIlD8gwplWIKKvQStLgTjKX/PUxod/EEKC4iO1atOMkeYyUL9RXcXE8D4C+AHlD4AsRqTKBKOsUsMm9WVF8PYDZSU2LkZ169fyOobnmqc2YaS5lFkBS63aNvc6BoBCovwBYESqjPB7lqJjotSgyRFexyjfDKlZy8Z7NzmPcC1aN/U6Qrnn2I5atGaUGfAL3hkAKKoim/OWNis29p9tNXD8ycfIKuO9DiOJaZg67p8N6iNd7bo1VJOFSEqV67o67kT+3gC/4N0XgKzYuIjfgqC0RSVW9jpC2DjxlI6yD7EROErGcRydeOqxXscIC4Zh6OTTT2CqcSk6on5t1anHFGPALyh/AGQYhqKTKCelKTqxktcRwkaLNk2VVKmi1zHKreo1q6pBY6bW7nPSqcfJtrnurzRYlqmTTz/B6xgAioDy5wMBy9JV552rq847VwHOXqKUUE5Kj2EFWOzlX0zTVOdunRiNKQWWZalL9+Mjfj/Jf2vbrhX7/ZUS23Z00qnHeR0DQBFQ/nwgKhDQBd2764Lu3RUVCHgdB+VUICFBhsXfV2mIqVyFg/H/6NazC6MxpcC2bZ12VmevY4SVQMDS6b1O4WRDKahRq5pSj2SlT8BPKH8AJEmGYSqmSlWvY5RL/F73d3THNnuvE6ITh4xhGGrSoqFatW3mdZSwc97FZ3GyIcQMw9D5A85mVVnAZ/gX6wO242jRqlVatGqVbIdFElB6YikpIRdISJQVE+t1jLCz98CxF90vhFzX1fkDenkdIyw1ad5QrY9qQVEJIcuy1LNPd69jACgiXgV9IDcvT4MfGanBj4xUbl6e13FQjplR0Yri2r+Qik2p5nWEsNXjnFMVFR3tdYxyIz4hXl3PPMnrGGHrggG95XACNSQsy1L3nl1UqTLbBAF+Q/kDUEBs1RpeRyg3zOgYRVVM8jpG2EqoWEHn9DuD0ZgQMM29I6mxcYwyH8wpp5+gajVSuP42BGzb1kVXnOd1DADFYLiu63odAoeWmZmp1NRUSdK8efMUH8+qZShde1YuVd6eNK9j+F5CvUZsoXEYO7en6dyTL1N2Vo7XUXwtoWIFffrTOCVUrOB1lLD21aeTde8t//M6hq9ZlqlTzzhJDz9zp9dRABQDp1sB7CeuZh2vI/ieFRfPFNpCqFwlSf2v6stoTAkYhnT54H4Uv0Lo3utk1W9Ul9HmEnBd6bphA72OAaCYePUDsJ9AbJyiK1XxOoavxdesQ6EppAsH9lZCIsWlOAzDUHJKss69+Cyvo/iCZVkaesdVXPtXTKZl6ryLz1KdI2p6HQVAMVH+ABxQfM3aEmfHiyUqsZKiElgIobAqJMRryO1Xeh3Dl1zX1Y13X62YGBbOKawTTu6oY44/WpbF61tRGIahChXiddWQ/l5HAVACvPIBOCAzKloVah3hdQzfMUxLFWrX8zqG75zV5zQdcwIH5EVhWaY6d+ukU3uc6HUUXzEMQyMeHaao6Civo/iK67q68+EbVblKJa+jACgB3mV9IBAIaOjQoRo6dKgCgYDXcRBBoitXUYARrCKJr1NPZhQHlUVlGIbueuRGtn4oJMMwFF8hXrc9MJjpxcVQo1Y13Tzieq9j+IZpmTq5+wnqegZbiQB+x2qfAA7Jyc3VriXzJK6ROayoxEpKqNeIg/ESmPjht3rkzme8juELDz5zu7qe2dnrGL7luq4GXzpcs379S7bN69vBGKahhIQK+ui7sUpOYfViwO8Y+QNwSGZ0tBKOaOh1jLBnRkWrQp36FL8SOqvPaep+9skyTH6PB2MYhs656AyKXwkZhqEHn7pdlatUYrrxIRiSHh09guIHlBO82vmA4zhasmSJlixZwgpl8ER0YiXF1ajtdYzwZZiq2KCJTKZll5hhGBr+8A1q2qIRB+QHYFqm2rZrpWF3X+t1lHIhOaWynnn1IZmWJc7bHNiwu6/TMccf5XUMACHCO6sPZGdn6/TTT9fpp5+u7Oxsr+MgQsVWraEoNiw/oIR6DWXFxnkdo9yIiYnW4y/dq8RKiezH9i+mZSqlarJGPn+XAlGcaAiVZq0a64EnbxcXwRRkGIZ69e2u8wec7XUUACHEuyqAQjEMQwl168uKi/c6SliJq1lH0WzmHnJVq1fRk6/cp6jogEymgMo0TcXGxujJV+9XpeQkr+OUO13POEnX3nSp1zHChmmaOrJ9K91+/xCmsgPlDOUPQKEZpqWKDZsyyvWPuOq1FFe1htcxyq0WrZvq6bEPygoEIvoaQNM0FR0TpefeHKnGzRp4HafcunzQRRpw9flex/CcaZlq0bqpnhn7sKLZPxIodyh/AIrEtAKq2LBZxBfAuOq1FFutptcxyr2jjmmtZ157UFFRURE5BdS0TMXERGvUG4+oZZumXscp1wzD0ODbrtAlV/X1OopnTNNUy9bNNPqNkYqvENmv8UB5FRZbPayY/J3XEcJaVk6Oeg4ZKkma+NwoxcXEFOnrG3Y9rTRiIcI5dlB7Vi6VnZnhdZQyF1ejtuIofmVqzqz5GnbFPcrJzomYZfkty1R8hXiNeuNhNU9t4nWciOG6rl4Z9ZZeGfW211HKlGEYOvqY1nrqlQcpfkA5FnmnUQGEhGkFlNiwmaIrV/E6StkxDCXUa0Tx80Dbdq30+qfPqkbt6jIjYBVQ0zR1RIM6euPz5yh+ZcwwDF19wwDd/+RtCgQCETPifN5FZ2n0G49S/IByLjJe0QCUCsM0VaFOfcXXrON1lFJnBKKU2LiFolnx1DNHNKijcZ+NUodOR3odpdSdeGpHvfrR06pZp7rXUSLWGb276tUPnlJS5URZluV1nFJhmqZM09QdDw7V7Q8MYRVZIAJQ/nwgYFnq2+009e12mgLl9A0I/mUYhmKr1lDFBk1klNO/z0CFikpq2lIBVjr1XELFCnrylft16XUXSIbK1aiMZZkyTUNX3dBfj4y+ixGYMNCqbXO9M/FFtWrbzOsoIWeappIqJ+qFt/+n8y46y+s4AMoI1/xFAK75Q1lxgnnKWL9GeWk7vY4SGoah+FpHKCY5heXOw9DcPxfqvpsf18Z1mxUGb2UlYhiGjmhYR/c9cQvTPMOQ4zh6/43P9dz/XpVj276+7tQwDLmuqzPPPU3D7r5WiUkVvY4EoAxR/iIA5Q9lLTdtpzLWrZJr215HKbZAhQRVqNtAVnTRFlhC2crOztErz7ytd1/7WJZp+u6g3LJMua6rAddeoIHX91N0TJTXkXAIa1au1323/k9z/1yYX6L8xDANVaqcpHseu1knnNzR6zgAPED58wHHcbRlxw5JUrXk5CJPc6L8wQtOMKjsrZuUvW2z5P3LTKGZUdF7N25Pqsxon48snr9czz/+mmZO+1OmZcoJ8xJoWXuL6vEnH6PrbrlMjZrW9zoSCslxHH39+Q8a/fhr2rp5m9dxCsW0TAUClvpf2VeXXNVXCRUreB0JgEcofz7AVg/wMyc3V5mbNyh3Z3gfJBlWQHE1aismuYoMo/xcRxZpZv06R6Mfe02L5i3NL1jhxLIs2bat1KOaa/DtV6htu1ZeR0Ix5ebk6pP3vtQro97Wnt3pkhR2I4F7R5al8y4+S5cPukgpVZO9jgTAY5Q/H6D8oTywc7KVvX2LcnZsk5zwOSA3Y2IVm1JNMZWryDDL54I1kcZ1Xf368x/68M2JmvHLHzJN70cCTXPv9M4TTumoPpf0VIdORzKyXE5kpGfqi4+/1fg3PtO61RvyC75XDNOQ67iqkBCvcy48Q33691TtumxPA2Avyp8PUP5QnriOrZydO5SzfYvs7CzPckQlVVZsSjUF4hM4CC/HNqzdpM/GT9Jn4ydpz+70Mj0w3zfymFQ5Uef0O0O9L+yh6jWrlsn3RtlzXVezfp2jD976XD99N0OO45TZ39u+1zDXddWsVWNdMKC3Tjurs2JjuWYZQEGUPx+g/KG8snOylbt7l/LSdimYmV6q38swTUUlVlJ0YiVFVUwqt9tS4MCCQVtzZy/QLz/8pinfTNPGdZslSVbAkh0MzcF5IGAp+M9z1alXSyd3P14nnNpRrdo2K7f7xOHA9uxO14yfZuqnyTM09cfflJmRJdM0JMMIySi0YRgyTVO2bcs0TR11TGt1Oa2TTjz1WEb5ABwS5c8HKH+IBE4wqGDGHgWzMhXMzJCdlXGA1UL3jdC5/7q9778LMqNjFIivoEBcBVnx8YzwoYDVK9Zp7uwFWjR/mebPWazli1YqLy+Y/3nTNGU79oH+tCRDMv719xcdHaXGLRqqVZtmapbaWG3atVTderXK4KeAHwTzgpr710It+HuxFs5bqrmzF2rDuk0FHmMFrL2vT670/390hiRXQbvg32FS5US1atNMLds0U/PUJmrXsQ0LuAAotIDXAQBAksxAQNFJlRWdVFnS3ulLbjBPTl6unLw8OcE8OXl5/xRCd+8KosbeM+lmIGrvR1SUjECUrOgYRvZwSPUa1lG9hnV0Vp9ukvaODG5ct0lbN+/Q9q07tG3Ldj098iU5/7k+1ZUr0zI18pm7VKVqslKqV1HN2tUVCPD3hgMLRAV0VIfWOqpD6/z70vdkaOP6zdq2ZYe2btmu7Vt2aMf2XQoGg7KD9t7VOS1LFZMqKqVaslKqVVFKtWRVr1mVRVsAlAjlD0BYMgxDRlS0zKhor6MgAgQClurWr6269Wvn3/fEyBeUZ+ft99goK0pdz+xclvFQziRUrKAmzRuqSfOGXkcBEGEofz5gmaZ6demcfxsAAAAAiory5wPRUVEaetFFXscAAAAA4GMMIwEAAABABGDkzwdc11Va+t5l8JMSWLEQAAAAQNFR/nwgOzdXfW6+RVLxtnoAAAAAgGJP+0xPT9e9996r008/XcnJyTIMQ+PGjQthNAAAAABAqBS7/G3btk0PPPCAFi5cqLZt24YyEwAAAAAgxIo97bNmzZrauHGjatSooT/++EMdOnQIZS4AAAAAQAgVe+QvJiZGNWrUCGUWAAAAAEApYasHAAAAAIgAZb7aZ05OjnJycgrel5urmOjoso4CAAAAABGjzEf+Ro4cqaSkpAIfY8aPL+sYvmKZprodd5y6HXecLJPBWgAAAABFV+Yjf8OHD9ewYcMK3Ld+6i9lHcNXoqOidNvAy7yOAQAAAMDHyrz8xcTEKOY/m5RvY8onAAAAAJSqMi9/KDrXdZWdmytJio2OlmEYHicCAAAA4DdcQOYD2bm56jlkqHoOGZpfAgEAAACgKEo08jd69Gjt2rVLGzZskCRNnDhR69atkyQNGTJESUlJJU8IAAAAACixEpW/J554QqtXr87/708++USffPKJJKl///6UPwAAAAAIEyUqf6tWrQpRDAAAAABAaeKaPwAAAACIAJQ/AAAAAIgAlD8AAAAAiADs8+cDlmnqpKOPzr8NAAAAAEVF+fOB6Kgo3XPtNV7HAAAAAOBjDCMBAAAAQASg/AEAAABABKD8+UBWTo66Xn2Nul59jbJycryOAwAAAMCHKH8AABxAXm5eke4HACDcUf4AAAAAIAJQ/gAAAAAgAlD+AAAAACACUP4AAAAAIAJQ/gAAAAAgAgS8DoDDs0xTx6Sm5t8GAAAAgKKi/PlAdFSUHhk6xOsYABBRoqKjDritQ1R0lAdpAAAoOYaRAAAAACACUP4AAAAAIAKExbTPhl1P8zpCWMvMzFSHDh0kSTNnzlR8fLzHiQAAAAD4TViUPxxeVlaW1xEAAAAA+BjTPgEAAAAgAlD+AAAAACACUP4AAAAAIAJQ/gAAAAAgAlD+AAAAACACsNqnD5imqY4dO+bfBgAAAICiovz5QGxsrN577z2vYwAAAADwMYaRAAAAACACUP4AAAAAIAJQ/nwgMzNT7du3V/v27ZWZmel1HAAAAAA+FBbX/K2Y/J3XEcJaVk6OduzYIUla+eMPiouJKZXv07DraaXyvAAAAAC8x8gfAAAAAEQAyh8AAAAARADKHwAAAABEAMofAAAAAEQAyh8AAAAARICwWO0Th2YahprWq5d/GwAAAACKivLnAzHR0Xrhrju9jgEAAADAx5j2CQAAAAARgPIHAAAAABGA8ucD2Tm5unj4nbp4+J3Kzsn1Og4AAAAAH+KaPx9w5Wrz9u35twEAAACgqBj5AwAAAIAIwMgfACBiua6rzRu3asHcxVq+dJW2bt6urVu2a+P6zcrLzTvg1+Tl5WnYtfeoarVkVa2eokZNG6hl66aqVj1FBtvxAADCGOUPABAxXNfVkoXL9dPk6Zo982/Nm7NIu9P2SJIsy5JhGLJtW657iCn2rvT91z/Lsiy5riPbdiRJSZUSlXpkC7U7po06d+2kxk0bUAYBAGGF8gcAKNccx9Hv0//Uj9/+osmTftbWLdtlmqZc1y1Q8mzbLvRzuq6rYDBY4L60Xbs1/affNePnmRr1v1dUvWZVde3RWad2P1HtOralCAIAPEf5AwCUS7t2pumzDybpvTc+0cb1m2UFLNnBvQXPcZxS+Z7/LpSbN27V+Dc+1TuvfaQ69WrposvOU6/zuisxqWKpfG8AAA6H8ucDhgzVq1kz/zYA4ODWrFqnl597S199NrnAFM59xa8s7RtNXL9mox5/YLSeefQl9Ty3m64afIlq1alR5nkAAJHNcA95YUPZWDH5O68jQFLDrqd5HQEAim3blu0a8+wb+ujdifnX7oUjy7IkQ+p36bm6clB/JVep5HUkAECEoPwhH+UPgB9lZ+do7PNv6/WXxssOBvMXYAl3pmUqOjpaV15/sS675kJFx0R7HQkAUM4Ve5+/mTNnavDgwWrVqpUqVKigI444Queff76WLFkSynwAABzUnFnzdF63y/Ty6LeUm5Prm+InSY7tKDsrW88/9Zr69rhCC+Yu9joSAKCcK/bIX58+fTRt2jT17dtXbdq00aZNmzR69Gilp6fr119/VWpqaqGfi5G/Q8vOydWgRx6RJD1/552KLaWzw4z8AfCL7OwcPf/ka3rzlfdlGEapLeBSVixr7+qjVw66RFcPuYRRQABAqSh2+Zs+fbrat2+v6Oj/f4NaunSpWrdurT59+ujtt98u9HNR/g4tKydHPYcMlSRNfG6U4mJiSuX7UP4A+MG6NRs1eODtWrl8zaH34/MhwzDUtEUjPffaSNWoWc3rOACAcqbY0z47depUoPhJUpMmTdSqVSstXLiwxMEAAPiv36fP1gVnXqnVK9eVu+In7d0qYtnilTq/x5WaM2ue13EAAOVMscvfgbiuq82bNyslJSWUTwsAgN5/6zNdffHNykjPDNuVPEPBtm3tTtujgecP1ecfTvI6DgCgHAnpPn/vvPOO1q9frwceeOCgj8nJyVFOTk7B+3JzFRPN9Q0AgP25rqvRT4zVK6Pf8jpKmXEcR44jjbjlUW3bukNXXH+x15EAAOVAyEb+Fi1apEGDBum4447TpZdeetDHjRw5UklJSQU+xowfH6oYAIByxHVdPT1yTEQVv/969rGX9eIz47yOAQAoB0JS/jZt2qQzzzxTSUlJ+uijj/ZuYHsQw4cPV1paWoGPay+8MBQxAADlzHOPv6pxL3GC8MWnX9erzxd+ITUAAA6kxNM+09LS1KNHD+3atUu//PKLatWqdcjHx8TEKOY/q1VuY8rnIRkyVL1KlfzbABAJ3nr1AwrPv4z63yuqlJykPv16eh0FAOBTxd7qQZKys7PVrVs3zZo1S5MnT9Zxxx1XrOdhq4fwwFYPAMLFtJ9+1/WX3lYuV/QsCdM09er4Z9S+Y1uvowAAfKjY0z5t29YFF1ygGTNm6MMPPyx28QMA4N9WrVirm6+7RwYTHQ7oxqvu1IZ1m7yOAQDwoWJP+7z55ps1YcIE9ezZUzt27NhvU/f+/fuXOBwAILKk78nQoMtuU052rhyHUb//chxHGelZGnTZ7Xp34kuKi4v1OhIAwEeKPe2zS5cu+umnnw76+aI8LdM+Dy0nN1c3Pf6EJOnpW28ptW0xmPYJwGv33f4/ffbBJDmO43WUsGaahi4a2Ee33TPY6ygAAB8p9rTPKVOmyHXdg34gdBzX1ZLVq7Vk9Wo5/G4BlFPTf56pT8Z/SfErBMdx9fZrH2r2zL+9jgIA8JGQ7fMHAEBx7dmdrhE3j5Rp8rZUWKZh6s4bH1ZWVrbXUQAAPsG7LADAc88+9rK2b9vJqF8ROI6jTRs268WnX/c6CgDAJyh/AABPrVy+Rh+9O4HiVwyO4+qtsR+y+icAoFAofwAAT4167GUZBm9HxeZKzz/1mtcpAAA+wLstAMAz8+Ys1Pff/CLbtr2O4lu2beuLT77R0sUrvI4CAAhzlD+fSEpIUFJCgtcxACCknn3sFVmW5XUM3zNNS88/MdbrGACAMFfsTd5RduJiYvTxU096HQMAQmrlstX6bdosr2OUC7Zt68fvpmnj+s2qWbu613EAAGGKkT8AgCc+eGcCo34hZBiGPnp3otcxAABhjPIHAChzmZlZ+nT8l1zrF0KO4+iDtz9XXm6e11EAAGGK8ucDObm5GvbEkxr2xJPKyc31Og4AlNg3E39QZmaW1zHKnbRdu/X9N794HQMAEKYofz7guK7+XrJEfy9ZIsd1vY4DACX27ZdTZJq8BYWaZVmaPOknr2MAAMIU77wAgDKVmZGp36bNZlP3UmDbtn7+YQZTPwEAB0T5AwCUqRm//KFgMOh1jHIrOytHf/z2l9cxAABhiPIHAChTUyZPkxVglc/SYgUsTflumtcxAABhiPIHAChTv02bLTvIKp+lxQ7a+m3abK9jAADCEOUPAFBm0nbt1qYNW7yOUe6tWrFW2dk5XscAAIQZyp9PxEZHKzY62usYAFAiC+ct8TpCRHAcR4sXLPM6BgAgzAS8DiBJDbue5nWEsLfgzLO8jgAAJbZg7hKZphnWK302adZQA6/rp5atmymlarLi4uOUviddSxYu16fvf6WvPp/sdcTDMgxDC+cuUdujW3kdBQAQRsKi/AEAIsOShcslw+sUh9a0ZSOddU63AvdVTq6kjse3U8fj26lm7eoa+8I7HqUrHMsytWTRcq9jAADCDOUPAFBmNm7YLMcO31E/ae91iR+9O1Gzfp+jbVu2KzEpUZdc2VdHtkuVJF008LywL3/BoK3NG7d6HQMAEGYofz6Qk5Oj6667TpL04osvKiYmxuNEAFA8WzaFfyGZ+uNvmvrjbwXuW7NqnT6cNFaSVKFCnBeximzTRhbWAQAURPnzAdu2NWXKlPzbAOBX27ft9DpCkRiGoZSqyep7Ua/8+2bO+Mu7QEWwbct2ryMAAMIM5Q8AUCYyM7OUneWf7Qfe/vQFtfnXgimO4+iXH37Vvbc95mGqwtu1c7ds25ZlWV5HAQCECbZ6AACUiayMLK8jlIjjOAoGbRmmP946XddVTk6u1zEAAGGEkT8AQJnICwa9jlAk9w9/QolJFVWjVjWd3/9sHdW+tU49/URVr1lVF/W6xut4hRLM89fvHABQuih/AICy4XodoGiWLlqRf/v7ST/r5zkTFRsbo9S2zVWvQR2tXrnOw3SF47o++6UDAEqVP+auAAB8zy/XnsXERB/w/n8XqYqJCWUVp0QCAc7xAgD+H+8KAIAyER0T5XWEQnnvi5f1958L9OfMudq0YbOSq1TWBZf0VlxcrCQpKytbK5at9jhl4URF8TYPAPh/vCv4QHx8vFasWHH4BwJAGEtMqijLssJ+y5q4uFide8GZOveCMw/4+aceflGZPli8Jr5CnKIPMooJAIhMlD8AQJkwDEOVq1QK+/3n3njlfXU+tZMaNamvyslJMgxDW7ds15zZ8/XBW59r9sy/vY5YKClVk72OAAAIM2FR/lZM/s7rCMXSsOtpXkcAAF+pVr1K2Je/8W98qvFvfOp1jBKrXrOa1xEAAGGGBV98ICcnR4MGDdKgQYOUk+OfDZIB4L+q16wmwzC8jlHuWZap6jVSvI4BAAgzlD8fsG1bkyZN0qRJk8L+WhkAOJQGjY6QZfHWU/oM1W94hNchAABhhndgAECZadm6qYJBTmKVNtu21aJ1U69jAADCDOUPAFBmWrZu5nWEiMHvGgDwX5Q/AECZqV23piokxHsdo9xLqZqsKimVvY4BAAgzlD8AQJkxDENtj24l0+Ttp7RYlqkj26d6HQMAEIZ49wUAlKkuXY+X67pexyi3bNtR567Hex0DABCGKH8AgDLVuWsnyl8pMgxDJ558rNcxAABhKCw2ecehxcXFad68efm3AcDPataursbNGmjZ4pVeRyl3DMNQm6NaKrlKJa+jAADCECN/PmAYhuLj4xUfH8/myADKha49Ostkv7+QMwzplO4neh0DABCmeOcFAJS5s/ucLtdxvI5R7hiGqZ7ndvM6BgAgTFH+fCAnJ0e33nqrbr31VuXk5HgdBwBKrHbdmjqhy7GyLMvrKOWGZVnq2uMkpVSr4nUUAECYovz5gG3b+vjjj/Xxxx/Ltm2v4wBASFx46Tm8poWQbdu68NJzvI4BAAhjlD8AgCeO73yMataqLi5lLjnTNNSg0RE6ukMbr6MAAMIY5Q8A4AnTNHXtjZeKXR9KznFcXT9sIIuCAQAOifIHAPBMz/O664gGdWSavB0Vl2mZataysU47o4vXUQAAYY53WwCAZwKBgG664xo5rPxZbI7taNid11KgAQCHxTsFAMBTp3Q/Ua3aNGflz2KwLEvtjz1Sx53YwesoAAAfoPwBADxlGIbue+xWuVz8V2Smaeiekbd4HQMA4BPFLn/z589X37591bBhQ8XHxyslJUUnnXSSJk6cGMp8kBQXF6eZM2dq5syZiouL8zoOAIRcs5aNde2Nl7JgSRHdcPvVqt+wrtcxAAA+Uezyt3r1au3Zs0eXXnqpnn32WY0YMUKS1KtXL7388sshC4i9Z8WrVKmiKlWqcGAEoNy64vr+aty0PtM/C8GyLLU+soUuvryP11EAAD5iuCGcZ2Pbttq1a6fs7GwtWrSo0F+3YvJ3oYpQphp2Pc3rCABQrixesEz9el2jYF7Q6yhhyzAMRUdH6YNJY9Wg0RFexwEA+EhIr/mzLEt169bVrl27Qvm0ES8nJ0f33HOP7rnnHuXk5HgdBwBKTbOWjfXA/273OkZYc11Xj44aQfEDABRZictfRkaGtm3bpuXLl+vpp5/WpEmTdOqpp4YiG/5h27befvttvf3227Jt2+s4AFCqzjq3mwZe28/rGGFr0LDLderpJ3kdAwDgQ4GSPsHNN9+sl156SZJkmqbOPfdcjR49+qCPz8nJ2W/0Kic3VzHR0SWNAgAoJ4bedpWWLFyuGb/8wR6A/zBNU6d0P1FXDx3gdRQAgE+VeOTvxhtv1Hfffac33nhDPXr0kG3bys3NPejjR44cqaSkpAIfY8aPL2kMAEA5YlmWHn/+PjVr2Vimxa5Epmmq7dEt9fDTd7LwFwCg2EK64IskdevWTbt27dJvv/12wDeoA438rZ/6iy9H/spqwZfMzEylpqZKkubNm6f4+Pgy+b4A4LXdaXs08PyhWrF0lWw7MkcATdNUi9SmevW9p1Uhgdd/AEDxhfx0ap8+fTRz5kwtWbLkgJ+PiYlRYmJigQ8/Fj8AQOlLTKqo195/Vk1bNIrIEUDTNNXmqJYUPwBASIT8nTQrK0uSlJaWFuqnBgBEoKRKiXr1vWfU4dgjI27K4wldOmrM209Q/AAAIVHs8rdly5b97svLy9Obb76puLg4tWzZskTBAADYp2Jigl588/GI2NR8X8G9clB/jRr7iOLj4zxOBAAoL4q92uc111yj3bt366STTlLt2rW1adMmvfPOO1q0aJGefPJJJSQkhDJnRIuNjdXPP/+cfxsAIlEgENBt9wxWk2YN9MDwJ+W6brlbCdSyTJmmqQefHK4zzu7qdRwAQDlT7AVfxo8fr7Fjx2ru3Lnavn27KlasqHbt2mnIkCHq1atXkZ5rxeTvihPBc2W14AsAoKC5fy3UHUMf0Lo1GxXidcs8YxiGGjQ6Qo+OGqHmrZp4HQcAUA6FfLXP4qD8AQCKKjs7Ry889ZreePl9GYbh21FAyzLluq6uGnyJrh4yQFHRUV5HAgCUU5G3dJoP5ebmauTIkRo5cuQh91AEgEgSGxujYXdepzc/eV5H1K8tSb5aEGZf1gaN6+ndCS9r0M1XUPwAAKWKkb8SYJ8/AAgPtm1r4sff6LnHX9W2rTt8MRW0Rs1quuH2q9Xj7FNlmpyLBQCUvmIv+AIAQLiwLEu9zz9DPXqdqvff+kwvjXpTe3anyzQNOU54FEHTNOU4jipVTtR1Nw5Un4t6MtIHAChTlD8AQLkRExujAVddoPMv6a1vv/xR777+iRbMXSzLsmTbtieZ9n3v1ke2UL/LzlXX009SdEy0J1kAAJGN8gcAKHdiY2PU67zT1eu807Vg7mJ9/N4X+u6rn7RrZ1qZFEHTMuXYjqqkVNZpZ3RRn4t6qmmLRqX6PQEAOBzKHwCgXGvZuplatm6mux66SfP/XqyfJk/X5K9/0splq+W6kmkaMgxDtl281UIty5LjOHJdV4ZhqHHTBjq1x0nq0vV4tUht4qtFaAAA5RvlDwAQEUzTVOsjW6j1kS00+JYrlJGeqYXzl2rB34u0YO4SLV64TFs3b9ee3emHXTDGMAwlVaqolGpV1LxVk38KZlM1b9lY8RVYlAsAEJ4ofwCAiFQhIV7tO7ZV+45tC9yflxfUju079eBFDyovNyhHrgxJhgxZpqn42Fg9+tWjCgR4CwUA+AvvXD4QGxurr7/+Ov82AKD0REUFVL1GVVWKqyg7sP+1gVaURfEDAPgS714+YJqmmjZt6nUMAAAAAD7GrrIAAAAAEAEY+fOB3NxcvfDCC5Kk66+/XtHR7A8FAAAAoGgofz4QDAY1atQoSdLVV19N+QMAAABQZEz7BAAAAIAIQPkDAAAAgAhA+QMAAACACED5AwAAAIAIEBYLvjTseprXEQAAAACgXGPkDwAAAAAiQFiM/OHQYmJi9Omnn+bfBgAAAICiovz5gGVZatu2rdcxAAAAAPgY0z4BAAAAIAIw8ucDubm5GjdunCTpsssuU3R0tLeBAAAAAPgO5c8HgsGgHn30UUlS//79KX8AAAAAioxpnwAAAAAQASh/AAAAABABKH8AAAAAEAEofwAAAAAQASh/AAAAABABKH8AAAAAEAHCYquHFZO/8zpCWLMdR0/cPEyStH7qL7LMw3f2hl1PK+1YAAAAAHwkLMofDs0yTR3ZrJnXMQAAAAD4GNM+AQAAACACMPLnA8GgrS9/+VmSdOaJJykQsDxOBAAAAMBvKH8+kGcH9dx74yVJ3Tp1ovwBAAAAKDKmfQIAAABABKD8AQBwAHaeXaT7AQAId5Q/AAAAAIgAlD8AAAAAiACUPwAAAACIAJQ/AAAAAIgAbPXgA9GBgB4aPDj/NgAAAAAUFU3CByzL0rFtWnsdAwAAAICPMe0TAIADsKKsIt0PAEC4Y+TPB4JBW9///psk6dRjOioQ4MADAAAAQNFQ/nwgzw7q8XFvSJJOateO8gcAAACgyJj2CQAAAAARgPIHAAAAABGA8gcAAAAAESBk5e/hhx+WYRhKTU0N1VMCAAAAAEIkJOVv3bp1euSRR1ShQoVQPB0AAAAAIMRCstrnLbfcomOPPVa2bWvbtm2heEoAAAAAQAiVuPz9/PPP+uijj/Tnn39qyJAhociE/4gOBDTi6qvzbwMAAABAUZWoSdi2rSFDhujKK69U69atQ5UJ/2FZljq3b+d1DAAAAAA+VqLyN2bMGK1evVqTJ08u9Nfk5OQoJyen4H25uYqJji5JFAAAAADAIRR7wZft27frnnvu0YgRI1S1atVCf93IkSOVlJRU4GPM+PHFjRERbNvWT3/M0k9/zJJt217HAQAAAOBDxR75u/vuu5WcnFzk6/yGDx+uYcOGFbhv/dRfihsjIuQGg3rw5ZclSROfG6U4y/I4EQAAAAC/KVb5W7p0qV5++WU988wz2rBhQ/792dnZysvL06pVq5SYmKjk5OT9vjYmJkYxMTEF7tvGlE8AAAAAKFXFmva5fv16OY6joUOHqkGDBvkfv/32m5YsWaIGDRrogQceCHVWAAAAAEAxFWvkLzU1VZ9++ul+9999993as2ePnn32WTVq1KjE4QAAAAAAoVGs8peSkqLevXvvd/8zzzwjSQf8HAAAAADAO8Ve7RMAAAAA4B8l2ufvv6ZMmRLKpwMAAAAAhEhIyx9KR5QV0K2XXZp/GwAAAACKiibhA4GApe6dOnkdAwAAAICPcc0fAAAAAEQARv58wLZtzZy/QJLUoVVLWZblcSIAAAAAfkP584HcYFB3jx4tSZr43CjFUf4AAAAAFBHTPgEAAAAgAlD+AAAAACACMO0TQNhzHEe7d+3R9q07lbEnU7Zty7EdWQFLVsBS5eQkValaWXEV4ryOinIgLy+ondt2KTM3R8G8oFxXkiEZkgzDUIwRrWBeUIEo3kJRchnpmdq2ZYd27tilYDAoO2jLtCwFLEsJiRWUUq2KKlVOlGEYXkcFUA7wzgUgbATzglq1fK2WzF+e/7F5w1bt2rFbjuMc9utjYmNUuUqSjmhYW81SG6tpq0Zq1qqRUqpX4cAJ+8nYk6kVi1Zp2YKVWrpghVYuXqOd23YpY0/mYb/2nA6XKqFiBVVOqaRGzeurUcsGatyyvho2r694TkLgP1zX1aYNW7Rw3lItnLtEC+Yu1uoV67Rj+y7lZOcc9usDAUuVKiepRu3qatWmqZqnNlWL1CZq0LieAgHWAQBQeJQ/AJ7avGGrpv84U9O+/01z/ligYF5QkmQFLNlBu0jPlZOdo03rt2jzhq2aNf1v2fber0+qnKjjTzlGnU7poHbHtVVsXEzIfw6EP8dxtGTecv3+05+a8f1MrVu5QZJkmIYMGYU6wZDPldJ3Zyh9d4bWr96onyZNl+u6kiEd0aiOjjulgzp2OVqNWtSXaXKFRSTKzMjSr7/8oZ+//1U/fz9Dabt2S9r72ubYzt6/l0IKBm1t27pD27bu0KJ5SxT857UxKjpK7Tu2VZdux+ukU49TtRoppfKzACg/DLcorz6lZMXk77yOENaycnLUc8hQSf+s9hlz+APXhl1PK+1YQLHt2LZLX308Wd9/8bNWLVsrwzBkGJLjlN7LkWVZsm1bgaiA2h3XRj3O66rjT+7A1L0IsHT+Cn3z8Q+aPnmm9qSly7RMOXYRil4xmKYpx3GUlJyo4087Rqefd4oaNKtXqt8T3svLzdMP30zVxI++0e8z/pQdtIt1IqsoTNOU6zpyXalpi0bqcfYp6tnndFVOTiq17wnAvyh/PhAM2vryl58lSWeeeFKhpnhQ/hBuXNfVvNkL9em7k/TzN3tHSUqz7B3KvoP/SlWS1LtfD53Z9zSlVEv2JAtKR052rn75ZoYmvvutVixaJcsyZZdy4TuYfd+7aetG6tmvu44/7RhFRUd5kgWlY9OGLfpk/Jf66J2JStu5O7/8e8EwDFmWpe49u6jvJWcrtW1zpr0DyEf5K6cofwgXruvqj+lz9NITb2j5olX5I3DhYt+UvNPPOVmXDrpQ1WoybcrPcrJz9eX73+mDVz5Txp5MGaYh16OTDP9lmoYcx1XFpARdeM056tH3VEqgz61fu1EvPj1OX3/+gwyjiFOHS9m+19qWbZrphjuuUvtjj/Q6EoAwQPkrpyh/CAcL/16iMY+/ob//WODpmfDCMC1TpmHovAFnqd+V5yqpcqLXkVAEdtDW5Ak/6+3RH2rXjjTJ83e2w6tSPVkDhpyvzmccL8viukA/2bFtp8a+8K4+fGuCJIXVCa3/2jfyfOyJ7TTktivVvFUTryMB8BDlzwdsx9HcpUslSa2bNJFViMUDKH/wUtrO3Xr2wVf046Spnk63Kw7TNBUTG61rbrlUPS/oxmIdPrDwryV6ZsRL2rBmkwzDKNJCGl7al/WIhrV140PXqkmrhl5HwmHYtq333/hMo594TXm5eWF9Quu/9o0EnnVeN91893VKTKrodSQAHqD8+QALvsBPfvp2hp685wVlpGeW+qIapa1th1a6Y+RQ1ahdzesoOICc7Fy9PfoDffb2JJlGeI8sH4ppmXJdV30u76V+15zDVNAwtWblOt1zy2Oa++dCr6OUiGmaqlQ5Ufc8dotOPOVYr+MAKGOc0gYQErt37dEDw57QfTf8T+m7M3xf/CRp3uyFuuysIZrw/je+GU2KFIv/XqbB592uz9/+WnLl2+Inae+y/46rj8ZO0NDz79Tyhau8joR/cV1X777+ic7vcZUW/L3Y6zgl5jiOdu5I041X3q17bnlMe3anex0JQBmi/AEosVXL1urq827WT9/OkKRyU5Rs21FOdq6evm+MHh0+Srk5uV5HgqRvP5mi2y67X1s2bCs3f2vS3n83G9Zs0i2X3KspX03zOg4kZWVl647BD+rJB19QXm6er6awH8q+fzeTPvtel5x9vdasXOdxIgBlJSymfeLQMjMzlZqaKkmaN2+e4uPjPU4E/L8ZP87U/cOeVDCv/BwYHYhhGGraqpEefn64qrAthCfsoK2xT76jie9+43WU0mVIcqU+l/dU/8HnsxiMRzZt2KIbrrhLK5au9vXI8uFYlqmY2Bg9/sJ9OvbEdl7HAVDKeEcBUCyu62r82E9156BHlJuTW66Ln7T35122cIWuOvdmLV2wwus4ESdjT6ZGXPuovnjvW6+jlL5/Tsl+9NpEPTT0CWVnZnubJwLN/XOBLjrrGq1cVr6Ln7R3hkNWZraGDLxD77/5mddxAJQyyh+AInNdV2OffUcvPfGm5JafaZ6HY9uO0nbu1g2X3KUFc5Z4HSdi7ElL151XPqT5sxZFzN/aPrOn/60R1z6qzPRMr6NEjFm/zdE1F92iPbszyv1JrX1c15XjuPrffaM19vl3vI4DoBRR/gAUieu6evnJt/TOSx97HcUTjrP3OsBhl43Q/D8XeR2n3NuTlq7hlz+kVUvXlvsRmANxHFdL5i7XXVc9osyMLK/jlHt//PqXBl16h/LyghH59yZJLzz5ul5+9k2vYwAoJVzz5wO5ubkaN26cJOmyyy5TdHS0t4EQ0V5/7j29+cIHXsfw3L79AJ9+8yE1a9XI6zjlUmZ6pu688mGtXLKmXKweWxKmaapZm0Z64MU7FBsf63WccmnOrPm6rv+tys3Lk+twaDT09qt06TUXeB0DQIhR/gAU2pcfTdYTI573OkbYME1TCYkV9OqnT6lqjRSv45Qrtu3o/sH/05xf50fsCMx/maahjl3a6Y4nb5BpMnEnlNat2aCLe16nzIxMORS/fCNH3aVuZ53sdQwAIcS7B4BCmTt7oZ6+70WvY4QVx3GUsSdDw697WDnZOV7HKVfeHDVef06fS/H7F8dxNeOHP/T+y595HaVcyUjP1NDL71JWZjbF718MQ7rnlv9p4bylXkcBEEKUPx+wbVtz5szRnDlzZNu213EQgTZv2Kq7r38k4hbbKAzbdrRiyWo9dudofj8h8sPEX/TJuC+9jhG23n3xY02fPNPrGOWC4zi668ZHtHbVet5f/8N19x5/3HDFXdq+dafXcQCECOXPB3JycnTOOefonHPOUU4OowsoW8G8oO4ePFIZ6UyHOhjXcfXjpKn66I2JXkfxvZWLV2vUfa94HSOsGYahJ4Y/r3WrNngdxffGPv+ufvnhV0aYD8KxHe3asUu3XHcv5RgoJyh/AA7pnZc/1vJFKyNmyfOSePnJN7VmxTqvY/hWMC+oJ4a/wAjqYbiuK9u29dRdY/h3WQKLFyxjVctCsG1Hf89eoPde/9TrKABCgPIH4KCWLVqpN1/4QByLF47junrk9mc5Q15MH479XGtWrIv4lT0Lw7EdLZ23XBPenuR1FF/Ky83T3TeNlGF4ncQ/Rj/+qlatWOt1DAAlRPkDcEDBvKAeue0ZiYOjQnNsR4vnLWP6ZzGsWLRK41/6TOJEQ5G8+dwHTP8shtdeeFcrl61m5LQIHMfVvbc8xsktwOcCXgeQpBWTv/M6QljL+td1fit//EFxMTGF/tqGXU8rjUiIAJ+886VWLVvDqF8xvPrMOzq5xwmqVpPtHwrDdV2NfmAsJxqKwXEcvfDga3pk7N1eR/GNtavW69XR7/DaVkS2bWveX4v0+QeTdG6/s7yOA6CYGPkDsJ/0PRl683mmexaX4zh64/nxXsfwjV9/+ENL569gumcxOLajuX8s1J8z5nodxTdGP/GaDOZ7FothSC88+bqysrK9jgKgmCh/APbz/tjPlJmZ5XUM33JsR5M++YHFXwrBDtp6/Zn3ZJgcjBeXaZp67al3WbGyEBbOW6rJX/3E1MVicl1p187dGj+OxV8Av6L8+UDAsnTJWWfpkrPOUsCyvI6Dcm7H1p364PXP5bKtQ4mYpqFXn37b6xhh74eJv2jjms38vZWA4zhatWSNpn33u9dRwt5z/3tFlsWhT0m4rqvXXnhXu9P2eB0FQDHwCugDUYGALu3VU5f26qmoQFhcpoly7MM3JirIWfESs21Hv0z+TSuXrvE6SthyHEfvjfmEKXghYBiG3n3xY7bJOIT5cxbpt6mzWeQlBLKzcjT+jc+8jgGgGCh/APLl5uRq4gffcO1ViFiWqYnvf+N1jLA1e/rf2rppO4UlBFzX1bqVG7Tgz8VeRwlbH749QRazZ0LCcRx9+PYEBYOcKAT8hvLnA47jaNWGDVq1YQPXdKBUTfl6ujL2ZHodo9ywbUdfffy9MjO4fvJAvnjvW5lMwQsZyzL1xXvfeh0jLO3amaavJ/zAtX4htGPbTv38/QyvYwAoIt51fSAnL09X3ne/rrzvfuXk5XkdB+XYJ29/ycIbIZaTnaPJE3/yOkbY2bRui2ZNm8MocwjZtqPpk2dq57ZdXkcJOxM++oZRqhAzTVPvv/mZ1zEAFBHlD4AkadWytVo8bxkLb4SYYRia+D6jMf/1/YSfZRq8BYWaK1c/fjHV6xhh55N3v2B6cYg5jqM/ZvylDes2eR0FQBHwzgtAkjT9x99lmrwkhJrrulq2aKW2bt7udZSwMv37mUxjLw2uqxnfz/Q6RVhZvWKd1q7e4HWMcskwDKZ+Aj7DkR4ASdIv3/0qx+VgvFQY0owpf3idImxs2bhNa5axB2JpcF1p8dzlStux2+soYePnH2Ywnb20GNKP307zOgWAIqD8AdCObbu0aN4yiVlRpcI0TE37/jevY4SNmT/NFrs7lB7XdfXH1L+8jhE2fvxmKq9tpcR1XM3+7W/t2Z3udRQAhUT5A6Dff5nNwVEpchxHs2f8reysHK+jhIXfpswW7a/0mJap33+a7XWMsLA7bY/+nr2A6/1KkeM4+nXqLK9jACgkyh8ALZizWFaA/a9KUzBoa/milV7H8Jzrulr091IWFipFju1owZ9LvI4RFhb8vYTiV8oCAUvz/lrkdQwAhRTwOgAOL2BZ6tvttPzbQKgtnLNUNsuglyrDMLRkwQq1Oqq511E8tXn9VmVlZHsdo9zbtT1Nu7anqVKVJK+jeGrhvCUyTZPFhUpRMGhr/hzKH+AXlD8fiAoEdE2fPl7HQDmVl5unlcvWeB2j3DNNU0vmL/c6hueWLWD0s6wsW7hS7U840usYnlo4lxHQsrBo3lI5jsOK0YAPUP6ACLdq2VpfjvqNHHOXju3cPv+/B5wxWGtXrvcw0aHZtq0FcxZ7HcNzyxaslBWwwvpvLrV9C40ce/dBP//uix/rvTGflGGiojMtU8sXUP7m/rXQN6N+NWpV08Dr++m4E9urarUqyszM1ro1GzTl22l6/cX3vI53SFlZ2Vq3eoOOaFDH6ygADoPy5wOO42jLjh2SpGrJyZxZQ0iFc2E6mK5nnVSg+PnF+jWb5LqujAhe7GT9qg1ybH8cjPvdulUbvY7gqbzcPG3ZtM3rGIXStl0rjXrtESVUrJB/X3RMtCpVTlRSUsWwL3+StGrFOsof4AOUPx/IyctT/zvvkiRNfG6U4mJiPE6E8mT71p2+uiYmsVJFDRp+uRzHUTBoKzo6yutIhWYHbe1JS1dipYpeR/HM1k3bfbUAx0uPvqEVi1YVuG/rxu3ehCkCx3a0fctOr2N4atvWHV5HKJSEihX02OgRSqhYQcGgrc/e/0ozfp6pnOxc1alXS/V8Uqi2bQ3/fxcAKH9AxNu+dYdM05BPup8GD79ClZKTNPH9b9ThhKNUo3Y1ryMVyfYtOyK6/O3YusvrCEWyaula366cuW1zZB+Mb9vij5//nAvPVNXqKZKkl599U2Off+f/P/mLR6GKyApYEf/3BvhFsecPTpkyRYZhHPDj119/DWVGAKVo+9adcnyy7H6HE47Sab06a+vm7XrpiTe9jlMs27dG7miM67pK27nb6xhFcsvI6/XJzHF675eX9cCYO9S2YyuvIxXazm1pXkfw1NYt/hj5O+nUY/Nvm6ah9ye9omkLvtQXv7yjwbde4YvZDYakbT75fQORrsQjf0OHDlWHDh0K3Ne4ceOSPi2AMrJtyw5fTPmMjY/VsPuulSQ9+8DLykjP9DhR8Xz7zIda+8HUMv2eziEWVzHLcH/HnLw8313vV6VasiQpKjpKRx3XWm07ttKoe1/R9xN+9jjZ4WVnZmvz7N8UFVXGk3wONa23DK93XTtnTpl9r5Jo2Lhe/u1rb7os/3bN2tU18Lp+at6qiQZfdocHyQovGLS1bRvlD/CDEr8jnHjiierDNgSAb+Vm53odoVCuvOFi1ahdTVMmTdO0H373Ok6xBYPBQ5axslaWWfLygmX2vUrCsR3N+X2+Znw/UxvXbFaFxHidc8kZapLaSKZp6spb+2vqd78pJyvH66iHFcyzFVWGBf+wyvB6z7y8PJmGISfMrzFNSEzIv522a7eeeOAFSdIt91yvpEqJOu6k9urctZN+mjzdq4iF4pf3EiDSheR04J49exQXF6dAgEsIAb8J5yX396nboLZ6X9xDu3ft0aiHX/E6Ton4ZYptafDLQi8L/lysu696pMB9s6f9rVe/ekYJiRWUkFhBLdo20V+/zvMoYeHZPhtpDSXbdvbORwzzP7u83FwFAnGSpI/emaivPpssSWrQ+Ahdfv1FkqRjjj867MtfXl6e1xEAFEKJ9wwYOHCgEhMTFRsbq5NPPll//PFHKHIBKCs+2HYgOaWSLMtSYqWK+mTqOP248FP9uPDTAou9vPnVaL3yyVMepiycSN7mYe+RuD9l7MnUxjWb8v87qXKih2kKL5L/3Pzyb23Thi35tzeu//ftzfm3ExLiyzRTcbANFeAPxR6qi46O1nnnnaczzjhDKSkpWrBggZ544gmdeOKJmj59uo466qgDfl1OTo5ycgpOlcnJzVVMdHRxo5R7lmmqV5fO+beBUAqU9fVAEc70yQFpafDLz96oRX0tX7iqwH0VKsarVr2a+f+9c7s/FlMJWGE05bOMWZZZlrNMi23OrPlq8M91fzVq/f8JrX/f3rRxa5nnKqqoqPBfmAZACcpfp06d1KlTp/z/7tWrl/r06aM2bdpo+PDh+vrrrw/4dSNHjtT9999f4L6hl/TXDQMGFDdKuRcdFaWhF13kdQyUUxV8cEZ5/ZpNGj1y7H73D7ju/PxtE9556SOtWra2rKMVWVQEH4wHLH+cvLri5otVoWIF/fDFL1q1ZI0SK1fUOZecoQoV9/5bSduxW4vmhP/2D4YhRUVH7t9bXGy0L6Yaf/r+JPXqe7pM01Sfi3tq1fI1kqTzLuqZ/5gfvg7vPR9M01R8QpzXMQAUQkhP+Tdu3Fhnn322PvnkE9m2LesABznDhw/XsGHDCty3fmp4v6gB5VlKtWRZASusr/3btnm7Pn7zi/3u7zOgZ375++bzKVq7cn1ZRyuyhPjYMl1hUwqf1T5jApYs05Ttg9VlGzavp4bN6+13f15eUKMfeFW5OeF/fVOFhDiZXpxsCJPVPpOT/TE1d95fC/XWKx/q0msuUKXKiXro6eEFPj9uzHgtXrDMo3SFY1qmUqpW8ToGgEII+XyvunXrKjc3VxkZGUpM3P+FNyYmRjExMQXu28aUz0NyXVdp6emSpKSEBN9cxwB/qFKtso+vxPKfcx66UrWPqHn4B5ZTX56xTJvXh/cUtteffk+de3RSm2Naqkq1ZMUnxClt527Nm7VIn4z7QisWrfY6YqFUqZGi5NbtvI7hmYaBSpJe9zpGoYx67BUtX7JK5w84W42a7D3psGzxKr3/5qea9PkPHqc7PNdxVLU65Q/wg5CXvxUrVig2NlYJCQmHfzAKJTs3V31uvkWSNPG5UYr7T3kGSqJK1WTZdviO+h1Kv67XeB2hyKpUTfY6gqeqVEsO+/K3dP4KLZ2/wusYJRbpB+MpPvu39uWn3+nLT7/zOkax2LajlGr++n0DkarYF2Bs3br/m/ecOXM0YcIEdevWjVWfAJ9IqZ7si0URyoO4+FjFxkX2yZuqNavw/lAGrIClKtUj+2C8UnKSAuG0x2E5V7V6itcRABRCsUf+LrjgAsXFxalTp06qVq2aFixYoJdfflnx8fF69NFHQ5kRQClq1Ky+1xEiRqPm9b2O4Ln6TY7QL1//6nWMcs+xHTVoWtfrGJ4yTVP1Gx2hZYtXeh0lIjRp3tDrCAAKodinX3v37q1t27bpqaee0vXXX6/3339f5557rv744w+1aNEilBkBlKLqtar6YsVPv7MClpq3buJ1DM81btlAjg8WfPE713XVqGUDr2N4rvVRLWQx+lfqUqolq3JyktcxABRCscvf0KFD9dtvv2n79u3Ky8vThg0b9NZbb6lx48ahzAeglBmGoeatG/t5/21fsIO2mqXy+tiYQlImDNNQg6b7r1YaaVq2burba5r9wjRNpbblpD/gF1x4AUDNWjc54NYsCK2mrRp5HcFzCYkVlFIjshciKQt16tdUTCwrabdIbSpxTXPpMqSWbZp6nQJAIVH+AKhth1Zhvc9feZBUuaLq1IvcLR7+7ciOqbJ8suG7H1mWqbbHpHodIyw0bt5QcfGxXsco1xzb0dEd2ngdA0Ah8e7rA5Zpqttxx6nbccfJYpU8lIIjj0lllKAUWZalE7oeyyqX/zimy9Gyba77Ky227ajjyZG7v9+/RUUFdNKpxzGzoRQlVKygNu1aeh0DQCFxJOID0VFRum3gZbpt4GWKjoryOg7KoejoKB1z4tEyGY0pFbZtq9PJHbyOETaOOjaVRThKUUxcjFq1a+51jLBx0qnHcd1fKbEsS11O60S5BnyEIz0AkqTjTzlGDqMxpSIqOqCjj2Va1D6x8bFq27GVTJNVhkLNtEy1P+FIRUUVeyencqdT5w6MupcS27bVuWsnr2MAKAJeDX3AdV1l5eQoKydHLrtxo5Qc27kdozGlwLJMHXtSu4jf3P2/TjitoxyH17NQc2xHx592jNcxwkpiUkV16HQk15mWgpiYaB17YnuvYwAoAl4JfSA7N1c9hwxVzyFDlZ2b63UclFNJlRN1co/jOUAKMdt2dHa/Hl7HCDsndj9WsfEU4lCrWClBx57Cwfh/9e1/NteZhphlWTrrvG6KrxDndRQARcBRHoB8vfv14AAplAypVt0aOvo4pnz+V2x8rLqdezLXmYaQaZo6o29XpnwewImnHKuUaslexyhXbNtW34t7eR0DQBHxrgsgX8sjm6lBkyNkGFyLFQqGDJ3T/wx+nwfRo++pXGcaQq7rqnufU7yOEZYCAUvnX3I215mGiGmaan1USzVp0dDrKACKiPIHIJ9hGOpzaU+uLQ2R6Jhond6bg/GDqVO/lo48NpXRvxAwLVPHntxOVWtU8TpK2Op9/hmsShkijuPoosvP9ToGgGLgHRdAAd3PPlk161aXwRnyEjEMQ/2uPEcJiRW8jhLWLhlyPqN/IeA6ri4e1NfrGGGtStXK6jfwXFb+LCHTNNWoSX117XGS11EAFAOvgAAKsAKWrh52iVxWYiyRhMQKOv8yroc5nKapjdTp1A4sNFQCpmXq5J4nqF7jOl5HCXuXXXuhYmJZaKgkHMfRDcOvpkQDPsW/XAD76dy9kxq3aMB0vBK4bPCFimMVvEIZMPQCOUw1LjbDMHTx9X28juELSZUSdfn1/bgOt5gsy9SR7VPVqXMHr6MAKCaO7HzAMk2ddPTROunoo2Vxpg1lwDAMDbrjcqbjFYNpmqpRu5p6nt/N6yi+Ubt+TfXocyojCcVgmIbO7n+6qtVM8TqKb/QbeK6qVK3M31sx2I6jm+66lvIM+BivfD4QHRWle669Rvdce42io6K8joMIceQxqTqr72kcIBWR4zq687EbFBXNv9WiuPSGC5RUJZFrTYvANE1Vq5miftee53UUX4mLi9W9/7tVjsPJraIwDEMXX95HqW2bex0FQAlwVAfgoK697TJVTqnE8uiFZJiG+lzSU63btfQ6iu/EJ8Trxgeu4VrTInAcR8Mevk6xcVzDVlSdTuqg3uf34ORWIZmmqVp1a+j6mwd6HQVACfGqB+CgKiTEa/jIoXI4ID8s0zRVvWZVXXHjxV5H8a2jO7XZu/E7B+SHtXe6Zw+1PKqZ11F866a7rlVySiX+3grBcR098MTtimWxHMD3DJcNvcJeZmamUlNTJUnz5s1TfHy8x4kQaZ5/9DV9/OZE8WpxcFbA0qi3H1HLtk29juJrmemZuvHCu7V5w1auOT0I0zJVp34tPfnOA4z6ldAfv/6l6/rfygmuw7hi8MW6fhijfkB5wOkuAId17S2X6siOrVn98xBuefB6il8IxCfE697RtyomJprr/w7ANA3FV4jTvaNvofiFQPtjj9St9w72OkbYMk1TJ516nK698VKvowAIEY7kAByWFbB039O3qlqNFArgfxiG1PeyXjq99yleRyk3atevqTuevEFiMGZ/hqG7n71Z1WpV9TpJudG3fy+d2+9MVrD8D8uyVLd+bT309HCmxgLlCP+aARRKYqWKevSluxUTE80CMP8wTVNHH9dW19w8wOso5c7Rndroylv7ex0j7Fx/9+VqdTTX+YWSYRi67d7BatuulSxObkna+9oWVyFWo157WBUSuNQEKE94lQNQaPUa1dX/Xr1XgaioiC+ApmmqRZsmevC5O2QFLK/jlEu9Lj5d5191ttcxwsaAoReo+7knex2jXIqKjtIzrz6kxs0aRnwBNE1TMbExGvP2E6pzRC2v4wAIsch+hQNQZKlHNddjL4+I6AJomqaatmqkx165R3HxsV7HKdf6D+qr8y47y+sYnrvouvPU94peXsco1yomJujFt/+nBo3rRez09r3FL1ovvvWYWqQ28ToOgFIQma9uAErkyGNS9eTr9ys6JjriDpIM01CrI5vpydfvZzpUGTAMQ5feeKEuuPocr6N45tIbLlS/a8/1OkZESKqUqFfff1rNWjaOuOvcLMtUfIU4vfLeU2p9FHuVAuVVZL2y+ZRlWerSpYu6dOkiy2J6GcJD6lHN9fz4x1SlauWIKoCn9DhBj4+9V/EV4ryOEjEMw1D/QX10/V0DZZpmRIw4m6YpK2DpxgevUZ/Le3odJ6JUTEzQy+8+qZO6Hud1lDJjWqZq1K6uNz4drRatWbUYKM/Y5w9AiaTt3K17hjymubMXqry+nBiGIVeurh42QBde0ZtVAT0094+FevjGp5SVmV1u9wE0LVMJiRU0YtTNat6GqXdecRxHrz73tl569s29rwHl+PXtmOOP1mOjR6hiYoLXcQCUMsofgBIL5gU1euRYff7e1+XuIMmyTEVFR+nep2/VsZ3beR0Hkjav36oHBj+utSs3lKu/NWnvgXjD5vU04tmbVaV6stdxIOn7ST9rxLBHFQzasm3b6zghY5iGXMfVxVf00Q13XMXMIiBCUP4AhMzU73/T43c/r/TdGXKc8jEqc/SxrXXbw0NUnX3VwkpuTq7efeFjffLGlzIMw/d/b6ZlSq50/lVn6/yreisqKuB1JPzL2tUbdO8tj2nOrPleRwkJ0zRVuUol3fe/W9Sp8zFexwFQhih/PpCZmakOHTpIkmbOnKn4eBaZQPjavWuPRj30ir7/8hffjgJalqlAVJQGD79cZ/Y9jWmeYWzx38v05F0vaNPaLb78W5P2jvbVbVBLwx65Xo1a1Pc6Dg7CcRx98NbnevbRl2UHHV+OApqmKcdx1KtPdw27+zqmeQIRiPLnA5mZmUpNTZUkzZs3j/IHX5j2w+96/tHXtHHtZsmQ5INXGssyZduOTup2nK6/fSCjfT6Rm5OrD8dO0CfjvlAwz/bNKKBpmoqKDqjvlWfr3MvOYrTPJ9au3qCnHnpRP38/I/81I9ztOxFXr2Fd3XLP9ep0UgevIwHwSFiUvxWTv/M6ghp2Pc3rCAdF+YNf2UFbkz75XmNHvau0HbvDdmRm39nwozq21jW3DFCz1MZeR0Ix7Nyepvdf+lSTPvxeMhS2C8KYlilDhnpe1E19rjhbSZUreh0JxTBn1nw9M/Il/T17Qf5rSDgyDEMp1ZI16JYrdEbvU7m2D4hwlL9/UP6A0pOdlaPP3v1KH70xUdu37pRpmWFxYL4vR9sOrdT/mj5qf/yRXkdCCGxat0Xvv/KZpnw5TXbQlivX85HnfVOHA1EBndrrRPW98mxVq5nibSiUmOu6mjbld732wruaM2u+LMsKi+mg+0Ykq9esqv5X9lWfi85SdEy017EAhAHK3z8of0Dps21bv/40S5++85VmTZ8j0zTkuGV7YL7voCguPlZnnNdVvS7sriMa1im7ACgze9LS9f2EXzTx3a+1ZcM2T6bo7fuetY6ooZ4XddfJZ52gChV5DS+Pli1eqY/emagJH32jnOycMv97Mwzjnyn2rjp1PkYXDOit405qH3Gb1QM4NMrfPyh/QNlav2ajfv5mhn6Z/KsWzl0quSq1EcF9Z+Nj42J0bJf2Ov6UY3T8KccoLj425N8L4cdxHM37Y6F+/XGWpk/+Xdu37JRpmnJdN+RTkfcdgLuOq6o1U9Tp1A467tT2anlUMxYOihAZ6Zn68dup+mnyDE2b8vveIhiwZAdDPyK477XNMAy1ObqlTu5+gk49/UTVqlMj5N8LQPlA+fsH5Q/wzs7tu/TrT7M0+9e/tWDOEm1Yu0ly9x5IW5Ypx3ULVQqtwN5rWfYdZEVHR6lRiwZq1baZju3cTm3at1RUdFSp/iwIb67ravWytfptymwt/HOJlsxbrj1p6ZL+uRbPMOTYzmFLoWEaskxTjuPmX+uVWLmimqY2Usujmqljl6NVt2FtCl+Ey83J1R+/zdG0Kb9r7uwFWrJohfJy8yRJgYAlVypUKbQsS4ZhyLZtua67d4XY+rXV+qgW6nj80Tq+yzGqVDmplH8aAOUB5e8f4Vz+srOzNXDgQEnS66+/rthYRitQvmVmZGnZwpVatmiltm7aru1bdmjr5u3aunm7MvZkyLYdObbzz5YMAVWqkqRqNVKUUr2KqlStrFp1a6hpq0aq26AWixvgkFzX1Y4tO7Vs4UqtWb5eO7bu1M5tu7R143Zt37pTeTl5+ddwWZal6JgoValWWSk1U5ScUknJVSvriEa11bhlAyVXrezxT4NwFwzaWrV8jRbOW6r1azZq29bt2rJpmzZv3Kod23fJDgZl245M05RlmaqYlKDqNaqqWs2qSqmarBo1q6lZq8Zq2qKh4uLjvP5xAPgQ5e8f4Vz+AAAAAKCkuAoYAAAAACIA5Q8AAAAAIgDlzwcyMzPVvn17tW/fXpmZmV7HAQAAAOBDAa8DoHB27NjhdQQAAAAAPsbIHwAAAABEAMofAAAAAEQAyh8AAAAARADKHwAAAABEAMofAAAAAEQAVvv0AdM01bp16/zbAAAAAFBUlD8fiI2N1eeff+51DAAAAAA+xjASAAAAAESAEpe/2bNnq1evXkpOTlZ8fLxSU1M1atSoUGQDAAAAAIRIiaZ9fvvtt+rZs6eOOuoojRgxQgkJCVq+fLnWrVsXqnyQlJWVpW7dukna+zuPi4vzOBEAAAAAvyl2+du9e7cGDBigM888Ux999BELkZQi13W1fv36/NsAAAAAUFTFbmzvvvuuNm/erIcfflimaSojI0OO44QyGwAAAAAgRIpd/iZPnqzExEStX79ezZo1U0JCghITE3XdddcpOzs7lBkBAAAAACVU7PK3dOlSBYNBnX322erevbs+/vhjXX755RozZowGDhx40K/LycnR7t27C3zk5OYWNwYAAAAAoBCKXf7S09OVmZmpAQMGaNSoUTr33HM1atQoXXPNNRo/fryWLl16wK8bOXKkkpKSCnyMGT++2D8AAAAAAODwil3+9q042a9fvwL3X3TRRZKkGTNmHPDrhg8frrS0tAIf1154YXFjAAAAAAAKodirfdaqVUvz589X9erVC9xfrVo1SdLOnTsP+HUxMTGKiYkpcN+26OjixogIhmGoSZMm+bcBAAAAoKiKPfLXrl07ScrfgmCfDRs2SJKqVq1aglj4t7i4OH3zzTf65ptv2OMPAAAAQLEUu/ydf/75kqSxY8cWuP/VV19VIBBQly5dShQMAAAAABA6xZ72edRRR+nyyy/Xa6+9pmAwqM6dO2vKlCn68MMPNXz4cNWqVSuUOQEAAAAAJVDs8idJY8aM0RFHHKHXX39dn376qerVq6enn35aN954Y4jiQZKysrLUu3dvSdJnn33G1E8AAAAARWa4rut6HWLF5O+8jqCGXU/zOsJBZWZmKjU1VZI0b948xcfHe5wIAAAAgN8U+5o/AAAAAIB/UP4AAAAAIAJQ/gAAAAAgAlD+AAAAACACUP4AAAAAIAKUaKsHlA3DMFS7du382wAAAABQVJQ/H4iLi9Mvv/zidQwAAAAAPsa0TwAAAACIAJQ/AAAAAIgAlD8fyM7O1tlnn62zzz5b2dnZXscBAAAA4ENc8+cDjuNo7ty5+bcBAAAAoKgY+QMAAACACED5AwAAAIAIQPkDAAAAgAhA+QMAAACACED5AwAAAIAIwGqfPpGcnOx1BAAAAAA+Rvnzgfj4eP3xxx9exwAAAADgY4bruq7XIQAAAAAApYtr/gAAAAAgAlD+fCA7O1v9+vVTv379lJ2d7XUcAAAAAD7ENX8+4DiOfvvtt/zbAAAAAFBUjPwBAAAAQASg/AEAAABABKD8AQAAAEAEoPwBAAAAQASg/AEAAABABGC1T5+Ii4vzOgIAAAAAHzNc13W9DgEAAAAAKF1M+wQAAACACED5AwAAAIAIQPnzgZycHF1++eW6/PLLlZOT43UcAAAAAD7Egi8+YNu2pkyZkn8bAAAAAIqKkT8AAAAAiACUPwAAAACIAJQ/AAAAAIgAlD8AAAAAiACUPwAAAACIAJQ/AAAAAIgAnpe/nJwc3Xfffexfdwjx8fFauHChBgwYIMuySuV78P8DAAAAUL4Zruu6XgbYvXu3kpKSlJaWpsTERC+jhLXS/j3x/wMAAABQvnk+8gcAAAAAKH2UPwAAAACIAJQ/AAAAAIgAnpe/mJgY3XvvvYqJifE6Slgr7d8T/z8AAAAA5ZvnC74AAAAAAEqf5yN/AAAAAIDSR/kDAAAAgAhA+QMAAACACED5AwAAAIAIEPLy9/zzz6t+/fqKjY1Vx44d9fvvvx/y8R9++KGaN2+u2NhYtW7dWl999VWBz7uuq3vuuUc1a9ZUXFycunbtqqVLl4Y6dpkaOXKkOnTooIoVK6patWrq3bu3Fi9efMivGTdunAzDKPARGxu73+PuvfdeJSYm5j8mISFBb7zxxkGf95NPPlH79u1VqVIlVahQQUceeaTeeuutAo9JT0/X4MGDVadOHcXFxally5YaM2ZM8X54AAAAAJ4Iafl7//33NWzYMN17772aPXu22rZtq+7du2vLli0HfPz06dPVr18/XXHFFfrzzz/Vu3dv9e7dW/Pmzct/zP/+9z+NGjVKY8aM0W+//aYKFSqoe/fuys7ODmX0MvXTTz9p0KBB+vXXX/Xdd98pLy9P3bp1U0ZGxiG/LjExURs3bsz/WL16dYHPL1++XE899ZS6deumzz77TN9995169Oihq666SvPnzz/gcyYnJ+uuu+7SjBkz9Pfff2vgwIEaOHCgvvnmm/zHDBs2TF9//bXefvttLVy4UDfeeKMGDx6sCRMmlPyXAQAAAKBMhHSrh44dO6pDhw4aPXq0JMlxHNWtW1dDhgzRHXfcsd/jL7jgAmVkZOiLL77Iv+/YY4/VkUceqTFjxsh1XdWqVUs333yzbrnlFklSWlqaqlevrnHjxunCCy8MVXRPbd26VdWqVdNPP/2kk0466YCPGTdunG688Ubt2rXroM9z4YUXKioqar+Ru+TkZD3++OO64oorCpXn6KOP1plnnqkHH3xQkpSamqoLLrhAI0aMyH9Mu3bt1KNHDz300EOFek4AAAAA3grZyF9ubq5mzZqlrl27/v+Tm6a6du2qGTNmHPBrZsyYUeDxktS9e/f8x69cuVKbNm0q8JikpCR17NjxoM/pR2lpaZL2lrRDSU9PV7169VS3bl2dffbZBUbzHMfRl19+qaZNm6p79+6qVq2ajjnmGN18883KyMjQcccdd9gcruvq+++/1+LFiwuU0E6dOmnChAlav369XNfVjz/+qCVLlqhbt27F/IkBAAAAlLWQlb9t27bJtm1Vr169wP3Vq1fXpk2bDvg1mzZtOuTj9/1vUZ7TbxzH0Y033qjjjz9eqampB31cs2bN9Nprr+nzzz/X22+/Lcdx1KlTJ61bt06StGXLFqWnp+vRRx9VmzZtlJ6erlmzZumpp57SAw88oJYtWx70udPS0pSQkKDo6GideeaZeu6553Taaaflf/65555Ty5YtVadOHUVHR+v000/X888/f9BRSgAAAADhJ+B1gEg3aNAgzZs3T1OnTj3k44477rgCo3edOnVSixYt9NJLL+nBBx+U4ziSpLPPPlsPP/ywrrnmGqWlpenCCy/Uvffeq549ex60AFasWFF//fWX0tPT9f3332vYsGFq2LChunTpImlv+fv11181YcIE1atXTz///LMGDRqkWrVq7TdyCwAAACA8haz8paSkyLIsbd68ucD9mzdvVo0aNQ74NTVq1Djk4/f97+bNm1WzZs0CjznyyCNDFd0zgwcP1hdffKGff/5ZderUKdLXRkVF6aijjtKyZcsk7f39BwKB/2vvvsOiuNo+AP92wWUpgiJSE6kqgqgRhBCN2NFgbMGWiGhseWP9EjWxBWOMvb7GIEZfNcQoKtZojCVYokaNJRYsoFhi7FFBRED2+f4gO+7s7LJLB/e5r4sL9sw5Z8+cHeaZs3NmBn5+flAoFPDx8QEAdOvWDXFxcVi4cCHi4uJ01iWXy4X8jRo1woULFzB9+nS0aNECWVlZGD9+PDZt2oSIiAgAQIMGDXD69GnMmTOHB3+MMcYYY4xVEiU27VOhUCAwMBB79+4V0lQqFfbu3av3erPQ0FBRfgDYvXu3kN/T0xPOzs6iPOnp6Th69KhR17BVVESEYcOGYdOmTfj111/h6elZ6Dry8vJw9uxZYVCsUCjQpEkTySMjLl++DAsLC2RnZxtdt0qlEvLn5uYiNzcXcrl4UzEzMxPONjLGGGOMMcYqvhKd9vnJJ58gOjoaQUFBCA4OxoIFC5CZmYn+/fsDAPr27Qs3NzdMnz4dADBy5EiEhYVh7ty5iIiIwNq1a/HHH39g6dKlAACZTIZRo0Zh6tSpqF27Njw9PTFp0iS4urqiS5cuJdn0MjV06FD8+OOP2LJlC6pWrSpcv2hnZwdLS0sA0r6aMmUK3nzzTfj4+ODx48eYPXs2rl+/joEDBwr1jhkzBpGRkXB2dkZERAR27dqFLVu2AAA++OADnfVOnz4dQUFB8Pb2RnZ2Nnbs2IH4+HjExsYCyH+8RFhYGMaMGQNLS0u4u7tj//79+P777zFv3ryy6TDGGGOMMcZY8VEJW7RoEdWqVYsUCgUFBwfT77//LiwLCwuj6OhoUf5169ZRnTp1SKFQkL+/P23fvl20XKVS0aRJk8jJyYksLCyodevWdOnSpZJudpkCoPNnxYoVQh7tvho1apTQr05OTvTOO+/QyZMnJXU3a9aMzM3NCQCZm5tTgwYNaNeuXXrrnTBhAvn4+JBSqaTq1atTaGgorV27VlTn7du3qV+/fuTq6kpKpZLq1q1Lc+fOJZVKVWJ9whhjjDHGGCtdJfqcP8YYY4wxxhhjFVOJXfPHGGOMMcYYY6zi4sEfY4wxxhhjjJkAHvwxxhhjjDHGmAngwR9jjDHGGGOMmQAe/DHGGGOMMcaYCeDBH2OMMcYYY4yZAB78McYYY4wxxpgJ4MEfY4wxxhhjjJkAHvwxxhhjjDHGmAngwR9jjDHGGGOMmQAe/DHGGGOMMcaYCeDBH2OMMcYYY4yZAB78McYYY4wxxpgJ4MEfY4wxxhhjjJkAHvwxxhhjjDHGmAngwR9jjDHGGGOMmQAe/DHGGGOMMcaYCeDBH2OMMcYYY4yZAB78McYYY4wxxpgJ4MEfY4wxxhhjjJkAHvwxxhhjjDHGmAngwR9jjDHGGGOMmQAe/DHGGGOMMcaYCeDBH2OMMcYYY4yZAB78McYYY4wxxpgJ4MEfY4wxxhhjjJkAHvwxxhhjjDHGmAngwR8zKTdv3oRSqcShQ4dKpL6HDx/C2toaO3bsMCr/5MmTIZPJIJPJYGNjUyJtYGXv8ePHwucok8kwZ86c8m4SY4wxA9atWwd7e3s8ffq0ROrbuXMnbGxscP/+faPyt2jRQogbHTt2LJE2sLK3efNm0THAH3/8Ud5NKhQe/JWwlStXFrghtGjRAvXr1y/jVlUez549w+TJk7Fv375SqX/KlCkICQlB06ZNhbRDhw6hcePGqFq1Klq0aIGLFy9Kyo0YMQLh4eGS9Bo1amDgwIGYNGlSodoRHx+P5cuX610eHBwMmUyG2NjYQtVb2WRnZ+Ozzz6Dq6srLC0tERISgt27dxtd/tatW+jRoweqVasGW1tbdO7cGVevXhXlycrKwoABA1C/fn3Y2dnBxsYGDRs2xMKFC5Gbmyupc/fu3WjWrBmsrKxQvXp1REZG4tq1a6I81tbWiI+Px/z584u03oyxknflyhUMGTIEXl5eUCqVsLW1RdOmTbFw4UJkZWUJ+Tw8PCCTyTB8+HBJHfv27YNMJsOGDRsky86fP48+ffrAzc0NFhYWcHV1xQcffIDz58+L8mkeFBb0U1pxrjJLTk7G5MmTJfvckpCXl4eYmBgMHz5c9OVrXFwcPD09YW9vj6ioKKSnp4vKqVQqvPHGG5g2bZqkzvbt28PHxwfTp083uh2+vr6Ij4/H6NGjdS5//PgxlEolZDIZLly4YHS9lZExMVwflUqFJUuWoFGjRrCxsYGTkxM6dOiAw4cPF1ju66+/hkwmkxyLP3v2DIsXL0a7du3g4uKCqlWr4o033kBsbCzy8vJEeYOCghAfH4/BgwcXboUrCmIlasWKFQSAjh8/rnN5WFgY+fv7l3GrKo/79+8TAIqJiSnxuu/du0dVqlShH3/8UUh7/Pgx1ahRgyIiIig2NpZCQkLIz8+PXrx4IeQ5d+4cKZVKOn/+vM56k5OTCQDt3bvXYBtiYmLI0L/d5cuXCQB5eHhQ06ZNjVy7yqlXr15kbm5Oo0ePpri4OAoNDSVzc3M6ePCgwbIZGRlUu3ZtcnR0pJkzZ9K8efPo9ddfp9dee40ePHgg5Hv48CGFhITQmDFjaPHixRQbG0tRUVEkk8mod+/eojq3bdtGcrmcgoKCaOHChfTVV1+Rg4MDubm50b179yRtSEtLIwA0e/bs4ncGY6zIfvrpJ7K0tKRq1arRiBEjaOnSpfTNN99Qr169qEqVKjRo0CAhr7u7OwEgCwsLunXrlqiepKQkAkDr168XpScmJpJCoSBnZ2eaMGECLVu2jCZOnEguLi6kUCho48aNQt74+HjRT9u2bQmAJP3OnTul2ymV0Pr16wkAJSUllXjdmzZtIplMRn/99ZeQdvDgQZLJZDRy5EhauHAhOTs70+DBg0XllixZQp6envT8+XOd9X777bdkZWVF6enpBtsQFhZGYWFhBeZZunQpKZVKYVt7VRkbw/X55JNPCAD16dOH4uLiaObMmeTl5UXm5uZ09OhRnWVu3rxJVlZWZG1tLTkWP3v2LMlkMmrTpg3NmjWLlixZQl27diUA1LdvX531GTrmr6h48FfCKsLg7+nTpzrTVSoVPXv2rFh1Z2VlUV5entH5c3NzKTs72+j8pTn4mzdvHllaWlJGRoaQ9vPPP5OVlRVlZWUR0cuD+YsXLwp52rRpQ8OHDy+w7vr161NUVJTBNhgz+Pviiy/I0dGREhMTSSaTUVpamsF6K6OjR49KBk5ZWVnk7e1NoaGhBsvPnDmTANCxY8eEtAsXLpCZmRmNGzfOYPlhw4YRALp9+7aQ5ufnRz4+PqJt9vTp0ySXy+mTTz6R1MGDP8bK39WrV8nGxoZ8fX3p77//lixPSUmhBQsWCK/d3d3J39+fzM3NJft2XYO/1NRUsrKyIl9fX8mXQPfv3ydfX1+ytramK1eu6Gzf0KFDDe73S1JmZqbO9MLGY130HV+UVP7SHPx16tSJmjVrJkr77LPPqGXLlsLrFStWkLOzs/D60aNH5ODgQImJiXrrvXv3LpmZmdHy5csNtsGYwV/z5s2pW7du9H//93/k6elpsM7KqjgxPDc3lywtLSkyMlKUfvXqVQJAI0aM0FmuZ8+e1KpVK53H4vfv36dz585JyvTv358AUEpKimRZZR388bTPCuzo0aNo37497OzsYGVlhbCwMMm1aupryJKTk/H++++jevXqaNasGYD8qS0dO3bEL7/8gqCgIFhaWiIuLg4AcPXqVXTv3h329vawsrLCm2++ie3bt4vqVk9/Wbt2LSZOnAg3NzdYWVlJpkSoXbt2Tbj+acGCBfD29oaFhQWSk5ORk5ODL774AoGBgbCzs4O1tTXefvttJCUlicrXrFkTAPDll18KU2MmT54s5Ll48SIiIyNhb28PpVKJoKAgbN261aj+3Lx5M0JCQkTTPbKysqBUKqFUKgEA9vb2APJP/6vLnDp1Cl9++WWBdbdt2xbbtm0DERnVloL8+OOPiIyMRMeOHWFnZ4cff/xRWLZhwwbIZDLs379fUi4uLg4ymQznzp0T0tavXw8/Pz8olUrUr18fmzZtQr9+/eDh4VHsdhbXhg0bYGZmJpo2oVQqMWDAABw5cgQ3b940WL5JkyZo0qSJkObr64vWrVtj3bp1Bt9f3QePHz8GAPzzzz9ITk5G165doVAohHwNGzZEvXr1sHbt2kKsHWOsrMyaNQtPnz7F8uXL4eLiIlnu4+ODkSNHitI8PDzQt29ffPfdd/j7778LrH/27Nl49uwZli5dKsQoNQcHB8TFxSEzMxOzZs0q/spo+OGHHxAYGAhLS0vY29ujV69ekv2i+lKSEydOoHnz5rCyssL48eMLjMcA8Ouvv+Ltt9+GtbU1qlWrhs6dO0umGBZ0fKGL+rKX/fv34+OPP4ajoyNee+01AMD169fx8ccfo27durC0tESNGjXQvXt30fTOlStXonv37gCAli1b6pwe+/PPPwvtrlq1KiIiIiTTbnV5/vw5du7ciTZt2ojSs7KyUL16deG1vb29EP/VfRAQEIBu3brprdvR0RENGjTAli1bDLbDkBs3buDgwYPo1asXevXqhbS0NNE0xmHDhsHGxkbURrXevXvD2dlZmKKoUqkwefJkuLq6wsrKCi1btkRycjI8PDzQr1+/Yre1uIoTw3Nzc5GVlQUnJydRuqOjI+RyOSwtLSVlDhw4gA0bNmDBggU663RwcIC/v78kvWvXrgDwSk3BNS/vBryqnjx5ggcPHkjSdV1jpMuvv/6KDh06IDAwEDExMZDL5VixYgVatWqFgwcPIjg4WJS/e/fuqF27NqZNmyYagFy6dAm9e/fGkCFDMGjQINStWxd3797FW2+9hWfPnmHEiBGoUaMGVq1ahU6dOmHDhg3Chq721VdfQaFQYPTo0cjOzhYdGOuyYsUKPH/+HIMHD4aFhQXs7e2Rnp6OZcuWoXfv3hg0aBAyMjKwfPlyhIeH49ixY2jUqBFq1qyJ2NhY/Oc//0HXrl2FnW2DBg0A5F9v0bRpU7i5ueHzzz+HtbU11q1bhy5duiAxMVHSbu1+P378OP7zn/+I0t944w08efIEc+fORWRkJBYsWAA7OzvUrVsX2dnZ+PTTT/Hll1+KgoMugYGBmD9/Ps6fP1+sazqPHj2K1NRUrFixAgqFAt26dcPq1asxfvx4AEBERARsbGywbt06hIWFicomJCTA399feP/t27ejZ8+eCAgIwPTp0/Ho0SMMGDAAbm5uRW5fdnY2MjIyjMrr4OBQ4PJTp06hTp06sLW1FaWrt+3Tp0/j9ddf11lWpVLhzJkz+PDDDyXLgoODsWvXLmRkZKBq1apCek5ODtLT05GVlYU//vgDc+bMgbu7O3x8fIR1A6AzaFhZWeH8+fO4c+cOnJ2dC1wvxljZ2rZtG7y8vPDWW28VqtyECRPw/fffY8aMGfjvf/9bYP0eHh54++23dS5v3rw5PDw8JF+gFsfXX3+NSZMmoUePHhg4cCDu37+PRYsWoXnz5jh16hSqVasm5H348CE6dOiAXr16oU+fPqIDYl3xeM+ePejQoQO8vLwwefJkZGVlYdGiRWjatClOnjwp+XJQ3/GFPh9//DFq1qyJL774ApmZmQCA48eP4/Dhw+jVqxdee+01XLt2DbGxsWjRogWSk5NhZWWF5s2bY8SIEfjvf/+L8ePHo169egAg/I6Pj0d0dDTCw8Mxc+ZMPHv2DLGxsWjWrBlOnTpV4JeaJ06cQE5ODho3bixKb9KkCZYtW4Zdu3bB09MTc+fOFWJQcnIylixZgmPHjhlc58DAQGzevNlgPkPWrFkDa2trdOzYEZaWlvD29sbq1auFbbtnz55YvHgxtm/fLgyUgfwvrLdt24Z+/frBzMwMADBu3DjMmjUL7777LsLDw/Hnn38iPDwcz58/L3L7nj59alT5KlWqwM7OTu/yosRwTep7BKxcuRKhoaF4++238fjxY3z11VeoXr265Fq8vLw8DB8+HAMHDkRAQIDB9mu6c+cOAMPHNJVKOZ95fOWoTwEX9GNo2qdKpaLatWtTeHg4qVQqIf3Zs2fk6elJbdu2FdLU0wi1r10ienldw86dO0Xpo0aNIgCi66oyMjLI09OTPDw8hGmd6ukvXl5eRk0XVU+Bs7W1lUyNefHihWS6yaNHj8jJyYk+/PBDIa2gaZ+tW7emgIAA0bx7lUpFb731FtWuXbvAtqWmphIAWrRokWTZ7NmzyczMjACQpaWlcE3g119/TfXr1xdd/6fP4cOHCQAlJCQUmM/QtM9hw4bR66+/Lnzuu3btIgB06tQpIU/v3r3J0dFR1K7bt2+TXC6nKVOmCGkBAQH02muviaa57tu3jwCQu7u7wXXSxZjtW/1jiL+/P7Vq1UqSfv78eQJAS5Ys0VtWvZ1orq/a4sWLJVN3iYjWrFkjal9QUBCdOXNGWJ6Xl0fVqlWj1q1bi8o9ePCArK2tCQD98ccfomU87ZOx8vXkyRMCQJ07dza6jLu7O0VERBBR/pQupVIpTBfVnvb5+PFjo+rv1KkTAdB53Vdhp31eu3aNzMzM6Ouvvxalnz17lszNzUXpYWFhOveXBcXjRo0akaOjIz18+FBI+/PPP0kul4uubSro+EIXdXxo1qyZJG7qOoY4cuQIAaDvv/9eSNM37TMjI4OqVasmunaTiOjOnTtkZ2cnSde2bNkyAkBnz54Vpb948YK6desmxIXXX39diAvt2rWjjz76yOB6ExFNmzaNANDdu3cLzGdo2mdAQAB98MEHwuvx48eTg4MD5ebmElH+MY+bmxu99957onLr1q0jAHTgwAEiyu8Xc3Nz6tKliyjf5MmTCQBFR0cbtV7aoqOjjYr/hqa2FiWGa0tJSaHGjRuL3tfLy0tnuW+++Ybs7OyE/wVjL8HKzs4mPz8/8vT0FD4DTZV12ief+SslixcvRp06dSTpn376qeSuQdpOnz6NlJQUTJw4EQ8fPhQta926NeLj46FSqSCXv5y1+9FHH+msy9PTU3KXyh07diA4OFg0fcPGxgaDBw/GuHHjkJycLDp7FR0drfNsiD7vvfeeZGqMmZmZ8G2USqXC48ePoVKpEBQUhJMnTxqs859//sGvv/6KKVOmICMjQ3T2KTw8HDExMbh165bes1rqftR1Bm/06NGIiopCWloa6tati+rVq+Pvv//G9OnTsXnzZrx48QKjRo3Cli1b4OzsjPnz54vuFqpZr66zvcZ68eIFEhISEB0dDZlMBgBo1aoVHB0dsXr1ajRq1AhA/jd/a9aswb59+9C6dWsA+dMnVCoVevbsCQD4+++/cfbsWYwfP140zTUsLAwBAQF6p+4aEh4eXqi7cRYkKysLFhYWknT1FFzNu/PpKgugUOVbtmyJ3bt34/Hjx9i7dy/+/PNP4VtpAJDL5RgyZAhmzpyJcePG4cMPP0R6ejrGjh2LnJwcg21ijJU99b5M3xkCQyZOnIj4+HjMmDEDCxculCxXxxpD9auXp6enF7ktahs3boRKpUKPHj1EMcXZ2Rm1a9dGUlKSMBsEyN8P9u/fX2dd2vH49u3bOH36NMaOHStc5gDkz7Bp27atzscW6Tu+0GfQoEFCvFfTPIbIzc1Feno6fHx8UK1aNZw8eRJRUVEF1qned/fu3VvUJ2ZmZggJCRFdQqKLvmMAMzMzJCYmIjU1FU+ePIG/vz+USiW2bt2KY8eOYfXq1bh16xY++ugjnDhxAoGBgYiLi4Orq6uoHs1jAEdHxwLbos+ZM2dw9uxZ0Z1De/fujWnTpuGXX35BREQEZDIZunfvjri4ODx9+lSI7wkJCXBzcxOO6/bu3YsXL17g448/Fr3H8OHDRZfSFNbYsWPRp08fg/kMzZYqSgzXVrVqVfj7+yM0NBStW7fGnTt3MGPGDHTp0gUHDx4UztQ9fPgQX3zxBSZNmiQ5NjVk2LBhSE5Oxvbt22Fu/uoMmV6dNalggoODERQUJEmvXr26wQFCSkoKgPxBlz5PnjwR/XN5enrqzKcr/fr16wgJCZGkq6dWXL9+XTT401e3Pvryr1q1CnPnzsXFixdF01+NqT81NRVEhEmTJul9rMK9e/cMTmkkPVNWnJycRFNlPvvsM7Ru3RqtW7fGxIkTsXfvXiQkJCApKQkRERG4du2aaNqNul71oK0odu3ahfv37yM4OBipqalCesuWLbFmzRrMnDkTcrlcuA40ISFBGPwlJCSgUaNGwhcO169fBwBhSqMmHx8fowbcuri4uOi8pqYoLC0thamWmtRTSgr6wkG9rDDlNT/jyMhITJs2DW3btkVKSoowlXPKlCl48OABZs2ahRkzZgAA2rVrhwEDBmDJkiX8bEbGKhj1tHFjp6Nr8/LyQlRUFJYuXYrPP/9cslw9kDNUv7GDRGOkpKSAiFC7dm2dy6tUqSJ67ebmpvdyDO34qo4NdevWleStV68efvnlF2RmZsLa2lpvHYboyp+VlYXp06djxYoVuHXrligWP3nyxGCd6uOiVq1a6VyuffmAPvqOATRjZU5ODj799FPExMTAwcEBb7/9NlxcXLBt2zbMmDED77//vuQxHSVxDPDDDz/A2toaXl5ewjGAUqmEh4cHVq9ejYiICAD5XwAvWLAAW7duxfvvv4+nT59ix44dGDJkiPD++o4B7O3tDQ7MCuLn5wc/P78il1crSgzX9OLFC7Rp0wYtWrTAokWLhPQ2bdrA398fs2fPxsyZMwHkf8Fjb2+v89EuBZk9eza+++47fPXVV3jnnXcKVbai48FfBaRSqQDkb3jqsz3atA9C9f2TFOaMnT6FrUNX/h9++AH9+vVDly5dMGbMGDg6OsLMzAzTp0/HlStXDNap7pPRo0frfN4eoHugo1ajRg0AwKNHjwy+1++//44NGzYIN05Zs2YNJk2ahNDQUISGhiIuLg4//fST6Nsvdb3FmRO+evVqAECPHj10Lt+/fz9atmwJCwsLdOnSBZs2bcK3336Lu3fv4tChQzqfQVTSsrKyjArUAAxeG+fi4oJbt25J0m/fvg0Akm9WNdnb28PCwkLIW9jyQP4AcMKECdiyZQuGDBkCAFAoFFi2bBm+/vprXL58GU5OTqhTpw7ef/99yOXyArcxxljZs7W1haurq+hGV4U1YcIExMfHY+bMmejSpYtomZ2dHVxcXHDmzJkC6zhz5gzc3NyMHoQURKVSQSaT4eeff5acQQOMj/+GlhmrJI4Bhg8fjhUrVmDUqFEIDQ2FnZ0dZDIZevXqJcT3gqjzxMfH64wths7KaB4DqG9Co8/8+fNhbm6OYcOG4ebNm/jtt9+QlpYGDw8PzJo1C15eXvjrr79E9RT3GICIsGbNGmRmZuocXN27d0840/fmm2/Cw8MD69atw/vvv49t27YhKytLmPlTmp48eWLUDBiFQiE6s6ytuDH8wIEDOHfuHObNmydKr127NurVqyfcHDElJQVLly7FggULRDd2ev78OXJzc3Ht2jXY2tpK2rpy5Up89tln+OijjzBx4kSD61vZ8OCvAvL29gaQH9S070xVEtzd3XHp0iVJuvrh5u7u7iX+nhs2bICXlxc2btwo+mYsJiZGlE/ft2ZeXl4A8r/xLEqf1KpVC5aWlkhLSyswHxFhxIgRGDlypPA5/P3336KdkKurq2TQoq5Xffa0sDIzM7Flyxb07NkTkZGRkuUjRozA6tWr0bJlSwD53/ytWrUKe/fuxYULF0BEoh2/+jPUPIOopivNWAkJCXqnF2nT9w2rWqNGjZCUlIT09HTRAdPRo0eF5frI5XIEBATgjz/+kCw7evQovLy8DH4Drw5gugazmmcJ8/LysG/fPsmdYhljFUPHjh2xdOlSHDlyBKGhoYUu7+3tjT59+iAuLk7nrJiOHTviu+++w2+//abzbpcHDx7EtWvXhC+Risvb2xtEBE9PT52XjxSHOjboOwZwcHAQnfUrKRs2bEB0dDTmzp0rpD1//ly427KavmMAdTx2dHQs0jGAr68vgPxYXdANP27fvo2pU6di/fr1MDc3FwYM6mMA9e9bt26JBn9paWlwcHAo9LRCtf379+Ovv/7ClClTJMcRjx49wuDBg7F582bhS+cePXpg4cKFSE9PR0JCAjw8PPDmm28KZTSPATTPxD58+NCoL8H1GTlyJFatWmUwX1hYmOTsqKbixvC7d+8CgM7LqHJzc/HixQsA+Z+TSqXCiBEjMGLECEleT09PjBw5UnQH0C1btmDgwIHo1q0bFi9erLcNlRk/6qECCgwMhLe3N+bMmYOnT59Klt+/f79Y9b/zzjs4duwYjhw5IqRlZmZi6dKl8PDwKJFT+trU315qDgiOHj0qagOQf1dFAJKA4OjoiBYtWiAuLk7nN0WG+qRKlSoICgrSuaPRtHLlSty8eRMTJkwQ0pycnISBcW5uLlJTUyXfPJ44cQJ2dnY6bxNsjE2bNiEzMxNDhw5FZGSk5Kdjx45ITEwUpki0adMG9vb2SEhIQEJCAoKDg0U7eFdXV9SvXx/ff/+9aBvav38/zp49K3n/K1euGHUGVn3NnzE/hkRGRiIvLw9Lly4V0rKzs7FixQqEhISI7vR548YN4TPQLH/8+HHRZ3rp0iX8+uuvorugPXjwQOdAdNmyZQCgc3q2pjlz5uD27dv49NNPDa4TY6zsjR07FtbW1hg4cKBwUKjpypUrOq/n0zRx4kTk5ubqfFzDmDFjYGlpiSFDhkiuw//nn3/w0UcfwcrKCmPGjCneivyrW7duMDMzw5dffinZdxGRpA2F4eLigkaNGmHVqlWiOHvu3Dns2rWr1Ka3mZmZSdZl0aJFkoN39cBT+xggPDwctra2mDZtms67phs6BggMDIRCoTB4DPD555+jefPmaN++PQAIXwKq44/6dv+6jgGK8sWDmnrK55gxYyTxf9CgQahdu7YwOwjI/wI4Ozsbq1atws6dOyUzhlq3bg1zc3PExsaK0r/55hvJe+fm5uLixYs6j620jR071qj4rznI18fYGA7k9/+NGzeE1+ovRbQfwXTy5ElcunQJb7zxBgAIj7jS/vH390etWrWwadMmDBgwQCh/4MAB9OrVC82bN8fq1atF99Z4lfCZvwpILpdj2bJl6NChA/z9/dG/f3+4ubnh1q1bSEpKgq2tLbZt21bk+j///HOsWbMGHTp0wIgRI2Bvb49Vq1YhLS0NiYmJpbKxd+zYERs3bkTXrl0RERGBtLQ0LFmyBH5+fqLBiaWlJfz8/JCQkIA6derA3t4e9evXR/369bF48WI0a9YMAQEBGDRoELy8vHD37l0cOXIEf/31F/78888C29C5c2dMmDBBcqZJLSMjA+PHj8e0adNE3zhFRkZiypQpUKlUOHToEJ4/fy4JkLt378a7775b5Pn+q1evRo0aNfTeqrxTp0747rvvsH37dnTr1g1VqlRBt27dsHbtWmRmZmLOnDmSMtOmTUPnzp3RtGlT9O/fH48ePcI333yD+vXrS75UUF87qPnMJV1K8pq/kJAQdO/eHePGjcO9e/fg4+ODVatW4dq1a1i+fLkob9++fbF//37RwcPHH3+M7777DhERERg9ejSqVKmCefPmwcnJSTRQ++GHH7BkyRJ06dIFXl5eyMjIwC+//CJ8ZprXkPzwww9ITExE8+bNYWNjgz179mDdunUYOHAg3nvvvRJZb8ZYyfL29saPP/6Inj17ol69eujbty/q16+PnJwcHD58GOvXrzf4XDP12T9dZzVq166NVatW4YMPPkBAQAAGDBgAT09PYV/14MEDrFmzRjg7VRLrM3XqVIwbNw7Xrl1Dly5dULVqVaSlpWHTpk0YPHgwRo8eXeT6Z8+ejQ4dOiA0NBQDBgwQHvVgZ2dXrJuBFKRjx46Ij4+HnZ0d/Pz8cOTIEezZs0eYjqnWqFEjmJmZYebMmXjy5AksLCyEG5/FxsYiKioKjRs3Rq9evVCzZk3cuHED27dvR9OmTXUObNSUSiXatWuHPXv2YMqUKTrzHDt2DAkJCaIpvh4eHggKCkK/fv0wYMAALFu2DCEhIaIZUvfu3cOZM2cwdOjQIvVNdnY2EhMT0bZtW+FmJ9o6deqEhQsX4t69e3B0dETjxo3h4+ODCRMmIDs7WzLl08nJCSNHjsTcuXPRqVMntG/fHn/++Sd+/vlnODg4iI5Vbt26hXr16iE6OhorV64ssK0ldc0fYHwMB/JnVWmeTQwMDETbtm2xatUqpKeno127drh9+zYWLVoES0tLjBo1CkD+NFztqdwAhDN9msuuX7+OTp06QSaTITIyEuvXrxeVadCggfDosUqvrG8v+qozdNtXY28vS0R06tQp6tatG9WoUYMsLCzI3d2devToQXv37hXyqG/FfP/+fUl5zdtZa7ty5QpFRkZStWrVSKlUUnBwMP3000+iPNq3vDakoNveq1QqmjZtGrm7u5OFhQW98cYb9NNPP1F0dLTksQOHDx+mwMBAUigUksc+XLlyhfr27UvOzs5UpUoVcnNzo44dO9KGDRsMtu/u3btkbm5O8fHxOpePGTOGgoKCRI/XICJ6+vQp9e3bl6pVq0a+vr6SR2dcuHCBANCePXsMtkHXox7U7YqKitJb7tmzZ2RlZUVdu3YV0nbv3k0ASCaT0c2bN3WWW7t2Lfn6+pKFhQXVr1+ftm7dSu+99x75+vqK8rm7uxf58Q/FkZWVRaNHjyZnZ2eysLCgJk2aSPqX6OXtzLXdvHmTIiMjydbWlmxsbKhjx46UkpIiynP8+HHq3r071apViywsLMja2poaN25M8+bNk9y6+ejRo9S8eXOqXr06KZVKatiwIS1ZskSyTajxox4YqzguX75MgwYNIg8PD1IoFFS1alVq2rQpLVq0SPSIIH2xMSUlRXjsj664d+bMGerduze5uLhQlSpVyNnZmXr37i15fIC2wj7qQS0xMZGaNWtG1tbWZG1tTb6+vjR06FC6dOmSkEffMYWhfdOePXuoadOmZGlpSba2tvTuu+9ScnKyKE9Bxxe6FHT88+jRI+rfvz85ODiQjY0NhYeH08WLF8nd3V3y2IHvvvuOvLy8hM9C87EPSUlJFB4eTnZ2dqRUKsnb25v69esneQyPLhs3biSZTEY3btyQLFOpVBQSEkKffPKJZFlqaio1b96cbGxsqHnz5nTlyhXR8tjYWLKystL5mA9tuh71kJiYSABo+fLlesupH9O0cOFCIW3ChAkEgHx8fHSWefHiBU2aNImcnZ3J0tKSWrVqRRcuXKAaNWqIHmGh3laK+viH4jAmhhORzsdHPHv2jKZMmUJ+fn5kaWlJdnZ21LFjR9GjsfTR9X+jPubV96PrEWSV9VEPMiIjntjJ2CtiwIABuHz5Mg4ePFhidY4aNQoHDhzAiRMnDJ75mzx5Mr788kvcv38fMplM8q1nWWjUqBFq1qxZYo9sMEX079SrmzdvonHjxpg9e3axvolnjDFWuvLy8uDn54cePXrgq6++KrF633jjDbRo0QLz5883mLdFixbIzc3Fli1boFAoSuQGQYXx+PFjVK9eHVOnThVd3sIKJycnB+np6Vi7di2GDx+O48ePG7yEpCJ5NSezMqZHTEwMjh8/LtwJqrgePnyIZcuWYerUqYWa8lmzZs1SubGOJs2LntX27duHP//8Ey1atCjV937VPXnyBDVr1kTjxo3LuymMMcaMYGZmhilTpmDx4sU676dQFDt37kRKSgrGjRtndJnDhw+jZs2aeP/990ukDfrouiunerojHwMUz44dO1CzZs1CPz6iouAzf4yVoatXr+Lq1asA8m9NXZo74GvXrqFNmzbo06cPXF1dcfHiRSxZsgR2dnY4d+5cuZx1fFW8ePFCdCezOnXqoFatWuXXIMYYYxXeiRMnhLtt1qxZEw0bNiy191q5ciVWrlyJd955BzY2Nvjtt9+wZs0atGvXDr/88kupva8puH//vug+EyEhISXyjM+ywoM/xl5RT548weDBg3Ho0CHcv38f1tbWaN26NWbMmFFiNyZgjDHGWMVz8uRJjB07FqdPn0Z6ejqcnJzw3nvvYerUqfzYIhPHgz/GGGOMMcYYMwF8zR9jjDHGGGOMmQAe/DHGGGOMMcaYCagQD3l//vw5cnJyyrsZjDHGACgUCr0PG2ZMjWM3Y4xVHMbG7nIf/D1//hxVre3wQsUBhDHGKgJnZ2ekpaXxAJDpxbGbMcYqFmNjd7kP/nJycvBClQNftzdhJjcDAMhkcsjx8plpMpkMcplc+FtIh0zyWi56LReWyyX5Xs54za9fz3KNdLlMBpmkXdBZTvt9NcvJZTLJe+Lf5er11t9u8ToL9cte5slP16j53zKicii4Hs12a+fTbLbQXu3PQoaCywn1a+fT+oy1+1gmU3eVpG+065e0R2/f6C4npGu/1rE+mvVol5d8RqJtRtoG7fLCesi01lnSV//+lkvL62vry1boeF+5gXJ62g25tF2Sduro04LySdqjo62idujY/jVWVaO8+MOQiTcO6Wcg11NOJpOUFa2f5LPUqMdA23W+r9b2DbnWa+3103wt/geWfAgZmZlo0K4jcnJyePDH9BJit2sIzMxeHkoYE79lkP4fGRO/X+7DjYjfuuKbJL5CUk5nXIRWO3TEb+111le+oLiY3wZI6jEmfuuOr4bjt87PQmtfrKv+l7tScV8WNn6/fH+t+g3Eb0mc1ihXUJySxuOXr7XfUzvein5rrFNBcbIw8Vscx3Svo674ra+eQsdvucbfBbRTWlZcTjtOAxrxW1efSuKbdrvFcVEa38T1aK5fwXFS4z30xH51Pr3x1VD81l4u1F9Quwp4XUD8znj2zOjYXe6DPzUzuRnM5PnNKczgr+AgUPzBn2QHKGlXweWMHfzpCi66261v0KYdZPCynExHuZIa/GnkK2jHZnxwMhw8tNv4sh5x/fp2YIUd/OkPMrrrMTz4k7ZLshPW8/6lMvjT3oY06imonN4gV5jBn55gp51P0h4dbRW1Q1fw+Ldt4nUVB4KSH/zJhDyidmouL83Bn6730+pT6CjHmLHkGrEbMC5+GzeIK97gr6BBXEHHBUUZ/Enjn75264qn2vVAZz2lMviTySTrlv++huO3voF0YeO30YM/Pe+jq1xBcar4g7/CxdfCxO8iDf509ZURgz+d7SzM4E9uuG90xm9dfWrM4E8uTtOVv2QHf+J8euN7aQ3+9LVHq0+LGr/5hi+MMcYYY4wxZgJ48McYY4wxxhhjJoAHf4wxxhhjjDFmAnjwxxhjjDHGGGMmgAd/jDHGGGOMMWYCePDHGGOMMcYYYyaAB3+MMcYYY4wxZgJ48McYY4wxxhhjJoAHf4wxxhhjjDFmAnjwxxhjjDHGGGMmgAd/jDHGGGOMMWYCePDHGGOMMcYYYyaAB3+MMcYYY4wxZgJ48McYY4wxxhhjJoAHf4wxxhhjjDFmAnjwxxhjjDHGGGMmgAd/jDHGGGOMMWYCePDHGGOMMcYYYyaAB3+MMcYYY4wxZgJ48McYY4wxxhhjJoAHf4wxxhhjjDFmAszLuwFqeao84W+ZTA6CTOO1DCSTC38L6ZBBpfVaLnotF/LLJflejntlMu1yGss10uUyGWRa7ZK/fCkqp/2+muXkMpnkPfHvcvm/v/W3WybqA6F+2cs8+ekaNf9bRlQOBdej2W7tfJrNFtqrlU8mQ8HlhPq182l9xtp9LJOpu0rSN9r1S9qjt290lxPStV/rWB/NerTLSz4j0TYjbYN2eWE9ZFrrLOmrf3/LpeX1tfVlK3S8r9xAOT3thlzaLkk7dfRpQfkk7dHRVlE7dGz/GquqUV78YcjEG4f0M5DrKSeTScqK1k/yWWrUY6DtOt9Xa/uGXOu19vppvhb/A0s+hIzMTDBmLJUqD3mi/1vD8Vu9Ly5s/H65DzcifuuKb5L4Ckk5nXERWu3QEb/lWuusr3xBcTG/DZDUY0z81h1fDcdv7T7J/9tw/H65KxX3ZWHj98v316rfQPyWxGmNcgXFKWk8fvla+z21463ot8Y6FRQnCxO/xXFM9zrqit/66il0/JZr/F1AO6VlxeW04zSgEb919akkvmm3WxwXpfFNXI/m+hUcJzXeQ0/sV+fTG18NxW/t5UL9BbWrgNcFxO+MZ89grHIf/CkUCjg7O+Pird/LuymMMcYAODs7Q6FQlHczWAUmxO6/j5Z3UxhjjMH42C0jIiqD9hTo+fPnyMnJKe9mVDjp6el4/fXXcfPmTdja2pZ3c0wK93354b4vP+q+v3v3LhwdHcu7OayCq4yxm/cvxcd9WDK4H0sG9+NLCoUCSqXSYL5yP/MHAEql0qjGmipbW1uT36DLC/d9+eG+Lz+8P2bGqMyxm/cvxcd9WDK4H0sG96Px+IYvjDHGGGOMMWYCePDHGGOMMcYYYyaAB38VmIWFBWJiYmBhYVHeTTE53Pflh/u+/HDfs1cdb+PFx31YMrgfSwb3Y+FViBu+MMYYY4wxxhgrXXzmjzHGGGOMMcZMAA/+GGOMMcYYY8wE8OCPMcYYY4wxxkwAD/4YY4wxxhhjzATw4K+MLV68GB4eHlAqlQgJCcGxY8cKzL9+/Xr4+vpCqVQiICAAO3bs0Jv3o48+gkwmw4IFC0q41a+G0uj7CxcuoFOnTrCzs4O1tTWaNGmCGzdulNYqVFol3fdPnz7FsGHD8Nprr8HS0hJ+fn5YsmRJaa5CpVWYvj9//jzee+89eHh4FLgvKeznyVhpKey2+PjxYwwdOhQuLi6wsLBAnTp1JPsXU9y+C7POLVq0gEwmk/xEREQIefr16ydZ3r59+7JYlXJTmD7Mzc3FlClT4O3tDaVSiYYNG2Lnzp3FqvNVcODAAbz77rtwdXWFTCbD5s2bDZbZt28fGjduDAsLC/j4+GDlypWi5ZMnT5Zsi76+vqWzApUFsTKzdu1aUigU9L///Y/Onz9PgwYNomrVqtHdu3d15j906BCZmZnRrFmzKDk5mSZOnEhVqlShs2fPSvJu3LiRGjZsSK6urjR//vxSXpPKpzT6PjU1lezt7WnMmDF08uRJSk1NpS1btuit01SVRt8PGjSIvL29KSkpidLS0iguLo7MzMxoy5YtZbValUJh+/7YsWM0evRoWrNmDTk7O+vclxS2TsZKS2G3xezsbAoKCqJ33nmHfvvtN0pLS6N9+/bR6dOni1znq6Cw6/zw4UO6ffu28HPu3DkyMzOjFStWCHmio6Opffv2onz//PNPGa1R2StsH44dO5ZcXV1p+/btdOXKFfr2229JqVTSyZMni1znq2DHjh00YcIE2rhxIwGgTZs2FZj/6tWrZGVlRZ988gklJyfTokWLyMzMjHbu3CnkiYmJIX9/f9G2eP/+/VJek4qNB39lKDg4mIYOHSq8zsvLI1dXV5o+fbrO/D169KCIiAhRWkhICA0ZMkSU9tdff5GbmxudO3eO3N3defCnQ2n0fc+ePalPnz6l0+BXSGn0vb+/P02ZMkWUp3HjxjRhwoQSbHnlV9i+16RvX1KcOhkrSYXdFmNjY8nLy4tycnJKrM5XQXHXef78+VS1alV6+vSpkBYdHU2dO3cu6aZWWIXtQxcXF/rmm29Ead26daMPPvigyHW+aowZ/I0dO5b8/f1FaT179qTw8HDhdUxMDDVs2LAUWlh58bTPMpKTk4MTJ06gTZs2QppcLkebNm1w5MgRnWWOHDkiyg8A4eHhovwqlQpRUVEYM2YM/P39S6fxlVxp9L1KpcL27dtRp04dhIeHw9HRESEhIUZNUTAlpbXdv/XWW9i6dStu3boFIkJSUhIuX76Mdu3alc6KVEJF6fvyqJOxoijKtrh161aEhoZi6NChcHJyQv369TFt2jTk5eUVuc7KriTWefny5ejVqxesra1F6fv27YOjoyPq1q2L//znP3j48GGJtr2iKEofZmdnQ6lUitIsLS3x22+/FblOU2TM8QIApKSkwNXVFV5eXvjggw9M/vIcHvyVkQcPHiAvLw9OTk6idCcnJ9y5c0dnmTt37hjMP3PmTJibm2PEiBEl3+hXRGn0/b179/D06VPMmDED7du3x65du9C1a1d069YN+/fvL50VqYRKa7tftGgR/Pz88Nprr0GhUKB9+/ZYvHgxmjdvXvIrUUkVpe/Lo07GiqIo2+LVq1exYcMG5OXlYceOHZg0aRLmzp2LqVOnFrnOyq6463zs2DGcO3cOAwcOFKW3b98e33//Pfbu3YuZM2di//796NChgzDQfpUUpQ/Dw8Mxb948pKSkQKVSYffu3di4cSNu375d5DpNkb7jhfT0dGRlZQEAQkJCsHLlSuzcuROxsbFIS0vD22+/jYyMjPJocoVgXt4NYEV34sQJLFy4ECdPnoRMJivv5pgUlUoFAOjcuTP+7//+DwDQqFEjHD58GEuWLEFYWFh5Nu+Vt2jRIvz+++/YunUr3N3dceDAAQwdOhSurq6SbwEZYwzI3287Ojpi6dKlMDMzQ2BgIG7duoXZs2cjJiamvJtXKS1fvhwBAQEIDg4Wpffq1Uv4OyAgAA0aNIC3tzf27duH1q1bl3UzK5yFCxdi0KBB8PX1hUwmg7e3N/r374///e9/5d20V06HDh2Evxs0aICQkBC4u7tj3bp1GDBgQDm2rPzwmb8y4uDgADMzM9y9e1eUfvfuXTg7O+ss4+zsXGD+gwcP4t69e6hVqxbMzc1hbm6O69ev49NPP4WHh0eprEdlVBp97+DgAHNzc/j5+Yny1KtXz+SnE2gqjb7PysrC+PHjMW/ePLz77rto0KABhg0bhp49e2LOnDmlsyKVUFH6vjzqZKwoirIturi4oE6dOjAzMxPS6tWrhzt37iAnJ8ckt+/irHNmZibWrl1r1AG0l5cXHBwckJqaWqz2VkRF6cOaNWti8+bNyMzMxPXr13Hx4kXY2NjAy8uryHWaIn3HC7a2trC0tNRZplq1aqhTp84ruS0aiwd/ZUShUCAwMBB79+4V0lQqFfbu3YvQ0FCdZUJDQ0X5AWD37t1C/qioKJw5cwanT58WflxdXTFmzBj88ssvpbcylUxp9L1CoUCTJk1w6dIlUZ7Lly/D3d29hNeg8iqNvs/NzUVubi7kcvHuy8zMTDgjy4rW9+VRJ2NFUZRtsWnTpkhNTRXtJy5fvgwXFxcoFAqT3L6Ls87r169HdnY2+vTpY/B9/vrrLzx8+BAuLi7FbnNFU5w+VCqVcHNzw4sXL5CYmIjOnTsXu05TYuh4QZenT5/iypUrr+S2aLTyvuOMKVm7di1ZWFjQypUrKTk5mQYPHkzVqlWjO3fuEBFRVFQUff7550L+Q4cOkbm5Oc2ZM4cuXLhAMTExeh/1oMZ3+9StNPp+48aNVKVKFVq6dCmlpKQItxg+ePBgma9fRVYafR8WFkb+/v6UlJREV69epRUrVpBSqaRvv/22zNevIits32dnZ9OpU6fo1KlT5OLiQqNHj6ZTp05RSkqK0XUyVlYKu33fuHGDqlatSsOGDaNLly7RTz/9RI6OjjR16lSj63wVFbYf1Zo1a0Y9e/aUpGdkZNDo0aPpyJEjlJaWRnv27KHGjRtT7dq16fnz56W+PuWhsH34+++/U2JiIl25coUOHDhArVq1Ik9PT3r06JHRdb6KMjIyhBgEgObNm0enTp2i69evExHR559/TlFRUUJ+9aMexowZQxcuXKDFixdLHvXw6aef0r59+ygtLY0OHTpEbdq0IQcHB7p3716Zr19FwYO/MrZo0SKqVasWKRQKCg4Opt9//11YFhYWRtHR0aL869atozp16pBCoSB/f3/avn17gfXz4E+/0uj75cuXk4+PDymVSmrYsCFt3ry5tFejUirpvr99+zb169ePXF1dSalUUt26dWnu3LmkUqnKYnUqlcL0fVpaGgGQ/ISFhRldJ2NlqbD7lsOHD1NISAhZWFiQl5cXff311/TixQuj63xVFbYfL168SABo165dkrqePXtG7dq1o5o1a1KVKlXI3d2dBg0a9EoPWogK14f79u2jevXqkYWFBdWoUYOioqLo1q1bharzVZSUlKQzBqn7Ljo6WhKPkpKSqFGjRqRQKMjLy0v0vEmi/Ec/uLi4kEKhIDc3N+rZsyelpqaWzQpVUDIiovI558gYY4wxxhhjrKzwNX+MMcYYY4wxZgJ48McYY4wxxhhjJoAHf4wxxhhjjDFmAnjwxxhjjDHGGGMmgAd/jDHGGGOMMWYCePDHGGOMMcYYYyaAB3+MMcYYY4wxZgJ48McYY4wxxhhjJoAHf4wxxhhjjDFmAnjwxxhjjDHGGGMmgAd/jDHGGGOMMWYCePDHGGOMMcYYYybg/wHfiRLZD91J7AAAAABJRU5ErkJggg==\n",
          "text/plain": "<Figure size 1100x900 with 5 Axes>"
         },
         "metadata": {},
         "output_type": "display_data"
        }
       ]
      }
     },
     "2bb33fb978654b3d8b0f4a2725d2ba98": {
      "model_module": "@jupyter-widgets/controls",
      "model_module_version": "2.0.0",
      "model_name": "HTMLStyleModel",
      "state": {
       "description_width": "",
       "font_size": null,
       "text_color": null
      }
     },
     "2d823a1decee4142bf6ffcc210774c4a": {
      "model_module": "@jupyter-widgets/base",
      "model_module_version": "2.0.0",
      "model_name": "LayoutModel",
      "state": {
       "max_height": "620px"
      }
     },
     "2ff297c04f2a4729a45e7cec463ebfaa": {
      "model_module": "@jupyter-widgets/controls",
      "model_module_version": "2.0.0",
      "model_name": "HTMLStyleModel",
      "state": {
       "description_width": "",
       "font_size": null,
       "text_color": null
      }
     },
     "34eb1147d28f48d58a903374e61c3c34": {
      "model_module": "@jupyter-widgets/controls",
      "model_module_version": "2.0.0",
      "model_name": "HTMLMathModel",
      "state": {
       "layout": "IPY_MODEL_79cf302acd9148c8b529593cd9ac2da7",
       "style": "IPY_MODEL_b1176d054ace4f22b60fbf6ffe5ba370",
       "value": "<table><style>\ntable {\n    border-collapse: collapse;\n    width: auto;\n}\n\nth, td {\n    text-align: left;\n    padding: 8px;\n}\n\ntr:nth-child(even) {background-color: #f6f6f6;}\n</style><tr><th>Property</th><th>Value</th></tr><tr><td><font style='font-weight:bold'>n_qubits</font></td><td>7</td></tr><tr><td><font style='font-weight:bold'>quantum_volume</font></td><td>32</td></tr><tr><td><font style='font-weight:bold'>operational</font></td><td>True</td></tr><tr><td><font style='font-weight:bold'>status_msg</font></td><td>active</td></tr><tr><td><font style='font-weight:bold'>pending_jobs</font></td><td>111</td></tr><tr><td><font style='font-weight:bold'>backend_version</font></td><td>1.2.8</td></tr><tr><td><font style='font-weight:bold'>basis_gates</font></td><td>['id', 'rz', 'sx', 'x', 'cx', 'reset']</td></tr><tr><td><font style='font-weight:bold'>max_shots</font></td><td>20000</td></tr><tr><td><font style='font-weight:bold'>max_experiments</font></td><td>100</td></tr></table>"
      }
     },
     "355248ed6ab4441c9bfdedbb83e53041": {
      "model_module": "@jupyter-widgets/base",
      "model_module_version": "2.0.0",
      "model_name": "LayoutModel",
      "state": {}
     },
     "35e30b6fe57f403c885f7a403a44ad52": {
      "model_module": "@jupyter-widgets/base",
      "model_module_version": "2.0.0",
      "model_name": "LayoutModel",
      "state": {
       "grid_area": "bottom",
       "width": "auto"
      }
     },
     "3722db901cf24769ad696f7042995a47": {
      "model_module": "@jupyter-widgets/controls",
      "model_module_version": "2.0.0",
      "model_name": "GridBoxModel",
      "state": {
       "children": [
        "IPY_MODEL_d63f233615ed4be98d58ad11a4322b0d",
        "IPY_MODEL_6b06efb7ddd748f5a1ef67f7a7f435b2",
        "IPY_MODEL_733a62a4f6d043ccb50f7c16eac26b4e",
        "IPY_MODEL_39209ebea9a543678dd3f599e7ae4429"
       ],
       "layout": "IPY_MODEL_6e65c9e4b5074adc960fd5bc70416c87"
      }
     },
     "382f3385400747dbbc53eef5e2ab60f2": {
      "model_module": "@jupyter-widgets/controls",
      "model_module_version": "2.0.0",
      "model_name": "GridBoxModel",
      "state": {
       "children": [
        "IPY_MODEL_820e5d4de3094f26ab2e4a9588ebe6f1",
        "IPY_MODEL_b6d3a58fdaa14b2397096af38cf93e98",
        "IPY_MODEL_03c9ba815f9740e69d91ef3420d29953"
       ],
       "layout": "IPY_MODEL_1cdbf7d03abf453cbb95f65982891f0f"
      }
     },
     "39209ebea9a543678dd3f599e7ae4429": {
      "model_module": "@jupyter-widgets/controls",
      "model_module_version": "2.0.0",
      "model_name": "HTMLModel",
      "state": {
       "layout": "IPY_MODEL_6eec917d9ca6441c8ddc3a76ab547f71",
       "style": "IPY_MODEL_cf4ff1436d2f4c368e71f5b3c4ca8735",
       "value": "<table><style>\ntable {\n    border-collapse: collapse;\n    width: auto;\n}\n\nth, td {\n    text-align: left;\n    padding: 8px;\n}\n\ntr:nth-child(even) {background-color: #f6f6f6;};\n</style><tr><th></th><th>Type</th><th>Gate error</th></tr><tr><td><font style='font-weight:bold'>cx2_1</font></td><td>cx</td><td>0.00918</td></tr><tr><td><font style='font-weight:bold'>cx1_2</font></td><td>cx</td><td>0.00918</td></tr><tr><td><font style='font-weight:bold'>cx0_1</font></td><td>cx</td><td>0.00886</td></tr><tr><td><font style='font-weight:bold'>cx1_0</font></td><td>cx</td><td>0.00886</td></tr></table>"
      }
     },
     "39cef59fca354ab4bc249423d4e5e028": {
      "model_module": "@jupyter-widgets/controls",
      "model_module_version": "2.0.0",
      "model_name": "HTMLModel",
      "state": {
       "layout": "IPY_MODEL_355248ed6ab4441c9bfdedbb83e53041",
       "style": "IPY_MODEL_a677decaada84197b65346a1595c8b0c",
       "value": "<table><style>\ntable {\n    border-collapse: collapse;\n    width: auto;\n}\n\nth, td {\n    text-align: left;\n    padding: 8px;\n}\n\ntr:nth-child(even) {background-color: #f6f6f6;}\n</style><tr><th></th><th>Frequency</th><th>T1</th><th>T2</th><th>RZ</th><th>SX</th><th>X</th><th>Readout error</th></tr><tr><td><font style='font-weight:bold'>Q0</font></td><td>5.15756 GHz</td><td>120.59989 us</td><td>89.95798 us</td><td>0</td><td>0.001</td><td>0.001</td><td>0.0281 </td><tr><td><font style='font-weight:bold'>Q1</font></td><td>5.03355 GHz</td><td>231.52861 us</td><td>54.15815 us</td><td>0</td><td>0.00029</td><td>0.00029</td><td>0.0304 </td><tr><td><font style='font-weight:bold'>Q2</font></td><td>4.86266 GHz</td><td>214.19581 us</td><td>95.99622 us</td><td>0</td><td>0.00027</td><td>0.00027</td><td>0.0338 </td><tr><td><font style='font-weight:bold'>Q3</font></td><td>5.1251 GHz</td><td>227.02594 us</td><td>227.96729 us</td><td>0</td><td>0.00025</td><td>0.00025</td><td>0.0161 </td><tr><td><font style='font-weight:bold'>Q4</font></td><td>5.15921 GHz</td><td>159.08268 us</td><td>132.51376 us</td><td>0</td><td>0.00031</td><td>0.00031</td><td>0.0293 </td><tr><td><font style='font-weight:bold'>Q5</font></td><td>4.97861 GHz</td><td>187.2179 us</td><td>142.08915 us</td><td>0</td><td>0.00034</td><td>0.00034</td><td>0.03 </td><tr><td><font style='font-weight:bold'>Q6</font></td><td>5.15664 GHz</td><td>212.36727 us</td><td>231.38187 us</td><td>0</td><td>0.00027</td><td>0.00027</td><td>0.0114 </td></table>"
      }
     },
     "3adf27f12b2d42138d94eefe7511a116": {
      "model_module": "@jupyter-widgets/controls",
      "model_module_version": "2.0.0",
      "model_name": "HBoxModel",
      "state": {
       "children": [
        "IPY_MODEL_e630390298604fa5b0a6a5f030570b73",
        "IPY_MODEL_52f57362ba0c412ca847dab75fc8b5a8",
        "IPY_MODEL_d806ce4a62564077afbfa4246824016c",
        "IPY_MODEL_f7ff42f16c6b445eb8822133d89919e9",
        "IPY_MODEL_c4ec429e10414580828ba9228f907491"
       ],
       "layout": "IPY_MODEL_7608d5d8325442a3b01f5637d794331b"
      }
     },
     "3eb1835d59e443a48ac83790c3e106ce": {
      "model_module": "@jupyter-widgets/controls",
      "model_module_version": "2.0.0",
      "model_name": "HTMLStyleModel",
      "state": {
       "description_width": "",
       "font_size": null,
       "text_color": null
      }
     },
     "4397e3ca2d0b4652a41db64e6e7e2523": {
      "model_module": "@jupyter-widgets/controls",
      "model_module_version": "2.0.0",
      "model_name": "HTMLModel",
      "state": {
       "layout": "IPY_MODEL_f9a53de8e9984497ac71f0b0380a3866",
       "style": "IPY_MODEL_a6c8fe7329554114bf5ec7e779080833",
       "value": "<div><font style='font-weight:bold'>last_update_date</font>: Fri 15 September 2023 at 02:51 UTC</div>"
      }
     },
     "43a77e4079e246cebf99affdae16f516": {
      "model_module": "@jupyter-widgets/controls",
      "model_module_version": "2.0.0",
      "model_name": "HTMLStyleModel",
      "state": {
       "description_width": "",
       "font_size": null,
       "text_color": null
      }
     },
     "453f5a67fd424e99b5fba8092d5420e6": {
      "model_module": "@jupyter-widgets/base",
      "model_module_version": "2.0.0",
      "model_name": "LayoutModel",
      "state": {
       "width": "95px"
      }
     },
     "457feecf6cc0464eb33af864ad96fe4a": {
      "model_module": "@jupyter-widgets/base",
      "model_module_version": "2.0.0",
      "model_name": "LayoutModel",
      "state": {}
     },
     "46244b6dac6e4f31b09cb747b93e0a08": {
      "model_module": "@jupyter-widgets/controls",
      "model_module_version": "2.0.0",
      "model_name": "HTMLModel",
      "state": {
       "layout": "IPY_MODEL_6f0fab26cfb34f339724195ed538be34",
       "style": "IPY_MODEL_14ac53c69fd44dee963343d5e6aabc61",
       "value": "<div><font style='font-weight:bold'>last_update_date</font>: Fri 15 September 2023 at 02:51 UTC</div>"
      }
     },
     "468610f4c9a3401b872cc503bbf5ce57": {
      "model_module": "@jupyter-widgets/controls",
      "model_module_version": "2.0.0",
      "model_name": "HTMLStyleModel",
      "state": {
       "description_width": "",
       "font_size": null,
       "text_color": null
      }
     },
     "47348c41e9b942569cf95d3ed84ab363": {
      "model_module": "@jupyter-widgets/controls",
      "model_module_version": "2.0.0",
      "model_name": "HTMLModel",
      "state": {
       "layout": "IPY_MODEL_4ea013e9bbd44cb6b225c830a98b8f9d",
       "style": "IPY_MODEL_43a77e4079e246cebf99affdae16f516",
       "value": "<h1 style='color:#ffffff;background-color:#000000;padding-top: 1%;padding-bottom: 1%;padding-left: 1%; margin-top: 0px'>ibm_perth</h1>"
      }
     },
     "493d3399ed5748dd8d3a4ef910ff80be": {
      "model_module": "@jupyter-widgets/base",
      "model_module_version": "2.0.0",
      "model_name": "LayoutModel",
      "state": {
       "grid_gap": "0px 0px",
       "grid_template_areas": "\n                                                   \"top top top\"\n                                                   \"left middle right\"\n                                                   ",
       "grid_template_columns": "33% 33% 33%",
       "grid_template_rows": "auto auto"
      }
     },
     "4c71b7b6b3564727a869454065a37150": {
      "model_module": "@jupyter-widgets/controls",
      "model_module_version": "2.0.0",
      "model_name": "HTMLModel",
      "state": {
       "layout": "IPY_MODEL_a9a11c989fa646b4b05088fec3d77bb0",
       "style": "IPY_MODEL_24ee53b4608041c187add52fe265b8ed",
       "value": "<table><style>\ntable {\n    border-collapse: collapse;\n    width: auto;\n}\n\nth, td {\n    text-align: left;\n    padding: 8px;\n}\n\ntr:nth-child(even) {background-color: #f6f6f6;};\n</style><tr><th></th><th>Type</th><th>Gate error</th></tr><tr><td><font style='font-weight:bold'>cx3_5</font></td><td>cx</td><td>0.00708</td></tr><tr><td><font style='font-weight:bold'>cx5_3</font></td><td>cx</td><td>0.00708</td></tr><tr><td><font style='font-weight:bold'>cx3_1</font></td><td>cx</td><td>0.00517</td></tr><tr><td><font style='font-weight:bold'>cx1_3</font></td><td>cx</td><td>0.00517</td></tr></table>"
      }
     },
     "4cdad5a1fd774de1be50d88762bec796": {
      "model_module": "@jupyter-widgets/controls",
      "model_module_version": "2.0.0",
      "model_name": "HTMLModel",
      "state": {
       "layout": "IPY_MODEL_afcf6ba3e0d34513a8bbdb9fc71a7697",
       "style": "IPY_MODEL_a5e5c856f01f48dbbba02a45580147ad",
       "value": "<table><style>\ntable {\n    border-collapse: collapse;\n    width: auto;\n}\n\nth, td {\n    text-align: left;\n    padding: 8px;\n}\n\ntr:nth-child(even) {background-color: #f6f6f6;};\n</style><tr><th></th><th>Type</th><th>Gate error</th></tr><tr><td><font style='font-weight:bold'>cx6_5</font></td><td>cx</td><td>0.01173</td></tr><tr><td><font style='font-weight:bold'>cx5_6</font></td><td>cx</td><td>0.01173</td></tr><tr><td><font style='font-weight:bold'>cx4_5</font></td><td>cx</td><td>0.00853</td></tr><tr><td><font style='font-weight:bold'>cx5_4</font></td><td>cx</td><td>0.00853</td></tr></table>"
      }
     },
     "4cf69f9708874abc8a7b632b0c02d7c9": {
      "model_module": "@jupyter-widgets/controls",
      "model_module_version": "2.0.0",
      "model_name": "GridBoxModel",
      "state": {
       "children": [
        "IPY_MODEL_94bb359ef7484770be66a23a57f666c2",
        "IPY_MODEL_4cdad5a1fd774de1be50d88762bec796",
        "IPY_MODEL_4c71b7b6b3564727a869454065a37150",
        "IPY_MODEL_0265f33acea74a37b031537a07363105"
       ],
       "layout": "IPY_MODEL_493d3399ed5748dd8d3a4ef910ff80be"
      }
     },
     "4e7abf9ec03b4534afa2ad15bea43dab": {
      "model_module": "@jupyter-widgets/controls",
      "model_module_version": "2.0.0",
      "model_name": "HTMLStyleModel",
      "state": {
       "description_width": "",
       "font_size": null,
       "text_color": null
      }
     },
     "4ea013e9bbd44cb6b225c830a98b8f9d": {
      "model_module": "@jupyter-widgets/base",
      "model_module_version": "2.0.0",
      "model_name": "LayoutModel",
      "state": {
       "margin": "0px 0px 0px 0px"
      }
     },
     "52f57362ba0c412ca847dab75fc8b5a8": {
      "model_module": "@jupyter-widgets/controls",
      "model_module_version": "2.0.0",
      "model_name": "HTMLModel",
      "state": {
       "layout": "IPY_MODEL_21b93f118bec42b7a35e48072828a932",
       "style": "IPY_MODEL_9d8814b072f44a4a88a16e1a654c47e0",
       "value": "<h5>Backend</h5>"
      }
     },
     "56a237fee3604fa7b4a67f522ec13139": {
      "model_module": "@jupyter-widgets/base",
      "model_module_version": "2.0.0",
      "model_name": "LayoutModel",
      "state": {
       "grid_area": "top"
      }
     },
     "5b2c6a749cb744e384624c8a0e3dbdb1": {
      "model_module": "@jupyter-widgets/controls",
      "model_module_version": "2.0.0",
      "model_name": "GridBoxModel",
      "state": {
       "children": [
        "IPY_MODEL_bfa9837092e6468eb6a39cecb6de7873"
       ],
       "layout": "IPY_MODEL_be3c5a08c1934ecf8bfad1902061272e"
      }
     },
     "5ba2f565e75f42d3aa19857d88cfb600": {
      "model_module": "@jupyter-widgets/base",
      "model_module_version": "2.0.0",
      "model_name": "LayoutModel",
      "state": {
       "align_items": "center",
       "display": "flex-inline",
       "grid_area": "right",
       "max_height": "325px",
       "padding": "10px 10px 10px 10px",
       "width": "auto"
      }
     },
     "6003405c1acf4dc29d65c1d187020eec": {
      "model_module": "@jupyter-widgets/output",
      "model_module_version": "1.0.0",
      "model_name": "OutputModel",
      "state": {
       "layout": "IPY_MODEL_5ba2f565e75f42d3aa19857d88cfb600",
       "outputs": [
        {
         "data": {
          "image/png": "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\n",
          "text/plain": "<Figure size 500x500 with 1 Axes>"
         },
         "metadata": {},
         "output_type": "display_data"
        }
       ]
      }
     },
     "601a2eb9fd9a4f56b1b869895abb29b0": {
      "model_module": "@jupyter-widgets/controls",
      "model_module_version": "2.0.0",
      "model_name": "TabModel",
      "state": {
       "children": [
        "IPY_MODEL_382f3385400747dbbc53eef5e2ab60f2",
        "IPY_MODEL_acc700eb8be740c5aa9c125bbe2d4674",
        "IPY_MODEL_3722db901cf24769ad696f7042995a47",
        "IPY_MODEL_256cc71a22774b4f83f6bec4064d57b6",
        "IPY_MODEL_75744fd1f01d423fadb99399f6ae9836"
       ],
       "layout": "IPY_MODEL_14277a8d19254823a1a06a4ec8d3a9d4",
       "selected_index": 0,
       "titles": [
        "Configuration",
        "Qubit Properties",
        "Multi-Qubit Gates",
        "Error Map",
        "Job History"
       ]
      }
     },
     "61d6fd1f61c64638bb6e9c270771b577": {
      "model_module": "@jupyter-widgets/base",
      "model_module_version": "2.0.0",
      "model_name": "LayoutModel",
      "state": {
       "width": "190px"
      }
     },
     "676593bd8d8a4c90a682405f04e4dc00": {
      "model_module": "@jupyter-widgets/base",
      "model_module_version": "2.0.0",
      "model_name": "LayoutModel",
      "state": {
       "align_items": "center",
       "display": "flex-inline"
      }
     },
     "695740cafab145929a9a56e4296c7538": {
      "model_module": "@jupyter-widgets/base",
      "model_module_version": "2.0.0",
      "model_name": "LayoutModel",
      "state": {
       "grid_area": "middle"
      }
     },
     "6b06efb7ddd748f5a1ef67f7a7f435b2": {
      "model_module": "@jupyter-widgets/controls",
      "model_module_version": "2.0.0",
      "model_name": "HTMLModel",
      "state": {
       "layout": "IPY_MODEL_8924b513393749799ed440e3308315e5",
       "style": "IPY_MODEL_8fcba7241dcc44adaf18a442aba58a5d",
       "value": "<table><style>\ntable {\n    border-collapse: collapse;\n    width: auto;\n}\n\nth, td {\n    text-align: left;\n    padding: 8px;\n}\n\ntr:nth-child(even) {background-color: #f6f6f6;};\n</style><tr><th></th><th>Type</th><th>Gate error</th></tr><tr><td><font style='font-weight:bold'>cx6_5</font></td><td>cx</td><td>0.01173</td></tr><tr><td><font style='font-weight:bold'>cx5_6</font></td><td>cx</td><td>0.01173</td></tr><tr><td><font style='font-weight:bold'>cx4_5</font></td><td>cx</td><td>0.00853</td></tr><tr><td><font style='font-weight:bold'>cx5_4</font></td><td>cx</td><td>0.00853</td></tr></table>"
      }
     },
     "6e65c9e4b5074adc960fd5bc70416c87": {
      "model_module": "@jupyter-widgets/base",
      "model_module_version": "2.0.0",
      "model_name": "LayoutModel",
      "state": {
       "grid_gap": "0px 0px",
       "grid_template_areas": "\n                                                   \"top top top\"\n                                                   \"left middle right\"\n                                                   ",
       "grid_template_columns": "33% 33% 33%",
       "grid_template_rows": "auto auto"
      }
     },
     "6eec917d9ca6441c8ddc3a76ab547f71": {
      "model_module": "@jupyter-widgets/base",
      "model_module_version": "2.0.0",
      "model_name": "LayoutModel",
      "state": {
       "grid_area": "right"
      }
     },
     "6f0fab26cfb34f339724195ed538be34": {
      "model_module": "@jupyter-widgets/base",
      "model_module_version": "2.0.0",
      "model_name": "LayoutModel",
      "state": {}
     },
     "7139362a339140b1ba252864af08b8ac": {
      "model_module": "@jupyter-widgets/controls",
      "model_module_version": "2.0.0",
      "model_name": "HTMLMathStyleModel",
      "state": {
       "description_width": "",
       "font_size": null,
       "text_color": null
      }
     },
     "7154a3fb7da345059f83524fe7c567ed": {
      "model_module": "@jupyter-widgets/base",
      "model_module_version": "2.0.0",
      "model_name": "LayoutModel",
      "state": {
       "grid_area": "left",
       "width": "100%"
      }
     },
     "733a62a4f6d043ccb50f7c16eac26b4e": {
      "model_module": "@jupyter-widgets/controls",
      "model_module_version": "2.0.0",
      "model_name": "HTMLModel",
      "state": {
       "layout": "IPY_MODEL_695740cafab145929a9a56e4296c7538",
       "style": "IPY_MODEL_a85492e6a0b24517a7b2e4bc081f02d7",
       "value": "<table><style>\ntable {\n    border-collapse: collapse;\n    width: auto;\n}\n\nth, td {\n    text-align: left;\n    padding: 8px;\n}\n\ntr:nth-child(even) {background-color: #f6f6f6;};\n</style><tr><th></th><th>Type</th><th>Gate error</th></tr><tr><td><font style='font-weight:bold'>cx3_5</font></td><td>cx</td><td>0.00708</td></tr><tr><td><font style='font-weight:bold'>cx5_3</font></td><td>cx</td><td>0.00708</td></tr><tr><td><font style='font-weight:bold'>cx3_1</font></td><td>cx</td><td>0.00517</td></tr><tr><td><font style='font-weight:bold'>cx1_3</font></td><td>cx</td><td>0.00517</td></tr></table>"
      }
     },
     "74576b1d684e4e5f8ddf9807bc20487c": {
      "model_module": "@jupyter-widgets/controls",
      "model_module_version": "2.0.0",
      "model_name": "HTMLStyleModel",
      "state": {
       "description_width": "",
       "font_size": null,
       "text_color": null
      }
     },
     "75744fd1f01d423fadb99399f6ae9836": {
      "model_module": "@jupyter-widgets/controls",
      "model_module_version": "2.0.0",
      "model_name": "TabModel",
      "state": {
       "layout": "IPY_MODEL_2d823a1decee4142bf6ffcc210774c4a"
      }
     },
     "7608d5d8325442a3b01f5637d794331b": {
      "model_module": "@jupyter-widgets/base",
      "model_module_version": "2.0.0",
      "model_name": "LayoutModel",
      "state": {
       "margin": "0px 0px 0px 37px",
       "width": "600px"
      }
     },
     "79cf302acd9148c8b529593cd9ac2da7": {
      "model_module": "@jupyter-widgets/base",
      "model_module_version": "2.0.0",
      "model_name": "LayoutModel",
      "state": {
       "grid_area": "left",
       "width": "100%"
      }
     },
     "7b3ea610b21e475bb4bca1cd7e79b25b": {
      "model_module": "@jupyter-widgets/controls",
      "model_module_version": "2.0.0",
      "model_name": "VBoxModel",
      "state": {
       "children": [
        "IPY_MODEL_47348c41e9b942569cf95d3ed84ab363",
        "IPY_MODEL_7ebc87d11fe0431a88658f547c00284e"
       ],
       "layout": "IPY_MODEL_c065e22a41034ef1a0c4d02842ac6353"
      }
     },
     "7ebc87d11fe0431a88658f547c00284e": {
      "model_module": "@jupyter-widgets/controls",
      "model_module_version": "2.0.0",
      "model_name": "TabModel",
      "state": {
       "children": [
        "IPY_MODEL_03e5ac60a4cf45c39a30d03115d1d8e8",
        "IPY_MODEL_0b3d2f3784364a40beecfb637b361a9d",
        "IPY_MODEL_4cf69f9708874abc8a7b632b0c02d7c9",
        "IPY_MODEL_e4aa58031cf04130b9f9f414fd551d8b",
        "IPY_MODEL_f865e2123c1c4625abb56fab2bea2730"
       ],
       "layout": "IPY_MODEL_e5ec3007b5064468924846a8d626f611",
       "selected_index": 0,
       "titles": [
        "Configuration",
        "Qubit Properties",
        "Multi-Qubit Gates",
        "Error Map",
        "Job History"
       ]
      }
     },
     "820e5d4de3094f26ab2e4a9588ebe6f1": {
      "model_module": "@jupyter-widgets/controls",
      "model_module_version": "2.0.0",
      "model_name": "HTMLMathModel",
      "state": {
       "layout": "IPY_MODEL_7154a3fb7da345059f83524fe7c567ed",
       "style": "IPY_MODEL_1d4ff9fd0ed540afaed11425afa5f3c1",
       "value": "<table><style>\ntable {\n    border-collapse: collapse;\n    width: auto;\n}\n\nth, td {\n    text-align: left;\n    padding: 8px;\n}\n\ntr:nth-child(even) {background-color: #f6f6f6;}\n</style><tr><th>Property</th><th>Value</th></tr><tr><td><font style='font-weight:bold'>n_qubits</font></td><td>7</td></tr><tr><td><font style='font-weight:bold'>quantum_volume</font></td><td>32</td></tr><tr><td><font style='font-weight:bold'>operational</font></td><td>True</td></tr><tr><td><font style='font-weight:bold'>status_msg</font></td><td>active</td></tr><tr><td><font style='font-weight:bold'>pending_jobs</font></td><td>114</td></tr><tr><td><font style='font-weight:bold'>backend_version</font></td><td>1.2.8</td></tr><tr><td><font style='font-weight:bold'>basis_gates</font></td><td>['id', 'rz', 'sx', 'x', 'cx', 'reset']</td></tr><tr><td><font style='font-weight:bold'>max_shots</font></td><td>20000</td></tr><tr><td><font style='font-weight:bold'>max_experiments</font></td><td>100</td></tr></table>"
      }
     },
     "8924b513393749799ed440e3308315e5": {
      "model_module": "@jupyter-widgets/base",
      "model_module_version": "2.0.0",
      "model_name": "LayoutModel",
      "state": {
       "grid_area": "left"
      }
     },
     "8d40d26e71db4f968247eb04dc53fbf1": {
      "model_module": "@jupyter-widgets/base",
      "model_module_version": "2.0.0",
      "model_name": "LayoutModel",
      "state": {
       "grid_gap": "0px 0px",
       "grid_template_areas": "\n                               \"left right right right\"\n                               \"bottom bottom bottom bottom\"\n                               ",
       "grid_template_columns": "31% 23% 23% 23%",
       "grid_template_rows": "auto auto"
      }
     },
     "8fcba7241dcc44adaf18a442aba58a5d": {
      "model_module": "@jupyter-widgets/controls",
      "model_module_version": "2.0.0",
      "model_name": "HTMLStyleModel",
      "state": {
       "description_width": "",
       "font_size": null,
       "text_color": null
      }
     },
     "903eda51eb144395a568318d1bce5e77": {
      "model_module": "@jupyter-widgets/base",
      "model_module_version": "2.0.0",
      "model_name": "LayoutModel",
      "state": {
       "max_height": "620px"
      }
     },
     "94bb359ef7484770be66a23a57f666c2": {
      "model_module": "@jupyter-widgets/controls",
      "model_module_version": "2.0.0",
      "model_name": "HTMLModel",
      "state": {
       "layout": "IPY_MODEL_9816d354003d44f4baa7a1a05af347c9",
       "style": "IPY_MODEL_4e7abf9ec03b4534afa2ad15bea43dab",
       "value": "<div><font style='font-weight:bold'>last_update_date</font>: 2023-09-15 02:51:06+00:00</div>"
      }
     },
     "95850a497d864053a0dc9f2a069cc113": {
      "model_module": "@jupyter-widgets/controls",
      "model_module_version": "2.0.0",
      "model_name": "HTMLModel",
      "state": {
       "layout": "IPY_MODEL_d4957ebd23b34dc5a0ceb59be0df2763",
       "style": "IPY_MODEL_a520d29a777e420b940c3928e3f3e1b5",
       "value": "<h1 style='color:#ffffff;background-color:#000000;padding-top: 1%;padding-bottom: 1%;padding-left: 1%; margin-top: 0px'>ibm_perth</h1>"
      }
     },
     "9816d354003d44f4baa7a1a05af347c9": {
      "model_module": "@jupyter-widgets/base",
      "model_module_version": "2.0.0",
      "model_name": "LayoutModel",
      "state": {
       "grid_area": "top"
      }
     },
     "9d8814b072f44a4a88a16e1a654c47e0": {
      "model_module": "@jupyter-widgets/controls",
      "model_module_version": "2.0.0",
      "model_name": "HTMLStyleModel",
      "state": {
       "description_width": "",
       "font_size": null,
       "text_color": null
      }
     },
     "9e402333f2214b27997f28f8a2c170b2": {
      "model_module": "@jupyter-widgets/controls",
      "model_module_version": "2.0.0",
      "model_name": "HTMLStyleModel",
      "state": {
       "description_width": "",
       "font_size": null,
       "text_color": null
      }
     },
     "a520d29a777e420b940c3928e3f3e1b5": {
      "model_module": "@jupyter-widgets/controls",
      "model_module_version": "2.0.0",
      "model_name": "HTMLStyleModel",
      "state": {
       "description_width": "",
       "font_size": null,
       "text_color": null
      }
     },
     "a5e5c856f01f48dbbba02a45580147ad": {
      "model_module": "@jupyter-widgets/controls",
      "model_module_version": "2.0.0",
      "model_name": "HTMLStyleModel",
      "state": {
       "description_width": "",
       "font_size": null,
       "text_color": null
      }
     },
     "a677decaada84197b65346a1595c8b0c": {
      "model_module": "@jupyter-widgets/controls",
      "model_module_version": "2.0.0",
      "model_name": "HTMLStyleModel",
      "state": {
       "description_width": "",
       "font_size": null,
       "text_color": null
      }
     },
     "a6c8fe7329554114bf5ec7e779080833": {
      "model_module": "@jupyter-widgets/controls",
      "model_module_version": "2.0.0",
      "model_name": "HTMLStyleModel",
      "state": {
       "description_width": "",
       "font_size": null,
       "text_color": null
      }
     },
     "a81da285f46246b8b49fde0376cef753": {
      "model_module": "@jupyter-widgets/base",
      "model_module_version": "2.0.0",
      "model_name": "LayoutModel",
      "state": {
       "grid_area": "right"
      }
     },
     "a85492e6a0b24517a7b2e4bc081f02d7": {
      "model_module": "@jupyter-widgets/controls",
      "model_module_version": "2.0.0",
      "model_name": "HTMLStyleModel",
      "state": {
       "description_width": "",
       "font_size": null,
       "text_color": null
      }
     },
     "a9a11c989fa646b4b05088fec3d77bb0": {
      "model_module": "@jupyter-widgets/base",
      "model_module_version": "2.0.0",
      "model_name": "LayoutModel",
      "state": {
       "grid_area": "middle"
      }
     },
     "acc700eb8be740c5aa9c125bbe2d4674": {
      "model_module": "@jupyter-widgets/controls",
      "model_module_version": "2.0.0",
      "model_name": "VBoxModel",
      "state": {
       "children": [
        "IPY_MODEL_4397e3ca2d0b4652a41db64e6e7e2523",
        "IPY_MODEL_39cef59fca354ab4bc249423d4e5e028"
       ],
       "layout": "IPY_MODEL_457feecf6cc0464eb33af864ad96fe4a"
      }
     },
     "acf72c6173a5417c9b4800584752ac75": {
      "model_module": "@jupyter-widgets/controls",
      "model_module_version": "2.0.0",
      "model_name": "HTMLStyleModel",
      "state": {
       "description_width": "",
       "font_size": null,
       "text_color": null
      }
     },
     "afcf6ba3e0d34513a8bbdb9fc71a7697": {
      "model_module": "@jupyter-widgets/base",
      "model_module_version": "2.0.0",
      "model_name": "LayoutModel",
      "state": {
       "grid_area": "left"
      }
     },
     "b1176d054ace4f22b60fbf6ffe5ba370": {
      "model_module": "@jupyter-widgets/controls",
      "model_module_version": "2.0.0",
      "model_name": "HTMLMathStyleModel",
      "state": {
       "description_width": "",
       "font_size": null,
       "text_color": null
      }
     },
     "b5a0256030d74c7498f1ef4489ce75a2": {
      "model_module": "@jupyter-widgets/base",
      "model_module_version": "2.0.0",
      "model_name": "LayoutModel",
      "state": {
       "align_items": "center",
       "display": "flex-inline",
       "grid_area": "right",
       "max_height": "325px",
       "padding": "10px 10px 10px 10px",
       "width": "auto"
      }
     },
     "b6d3a58fdaa14b2397096af38cf93e98": {
      "model_module": "@jupyter-widgets/output",
      "model_module_version": "1.0.0",
      "model_name": "OutputModel",
      "state": {
       "layout": "IPY_MODEL_b5a0256030d74c7498f1ef4489ce75a2",
       "outputs": [
        {
         "data": {
          "image/png": "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\n",
          "text/plain": "<Figure size 500x500 with 1 Axes>"
         },
         "metadata": {},
         "output_type": "display_data"
        }
       ]
      }
     },
     "bbcb31d652d44c15a752512fc474c65a": {
      "model_module": "@jupyter-widgets/controls",
      "model_module_version": "2.0.0",
      "model_name": "HTMLMathModel",
      "state": {
       "layout": "IPY_MODEL_35e30b6fe57f403c885f7a403a44ad52",
       "style": "IPY_MODEL_fc48b85b075f42af9e4c8e62bac244a9",
       "value": "<table><style>\ntable {\n    border-collapse: collapse;\n    width: auto;\n}\n\nth, td {\n    text-align: left;\n    padding: 8px;\n}\n\ntr:nth-child(even) {background-color: #f6f6f6;}\n</style><tr><th></th><th></th></tr><tr><td>n_uchannels</td><td>12</td></tr><tr><td>dynamic_reprate_enabled</td><td>True</td></tr><tr><td>n_registers</td><td>1</td></tr><tr><td>dtm</td><td>0.2222222222222222</td></tr><tr><td>pulse_num_qubits</td><td>3</td></tr><tr><td>meas_map</td><td>[[0, 1, 2, 3, 4, 5, 6]]</td></tr><tr><td>channels</td><td>{'acquire0': {'operates': {'qubits': [0]}, 'purpose': 'acquire', 'type': 'acquire'}, 'acquire1': {'operates': {'qubits': [1]}, 'purpose': 'acquire', 'type': 'acquire'}, 'acquire2': {'operates': {'qubits': [2]}, 'purpose': 'acquire', 'type': 'acquire'}, 'acquire3': {'operates': {'qubits': [3]}, 'purpose': 'acquire', 'type': 'acquire'}, 'acquire4': {'operates': {'qubits': [4]}, 'purpose': 'acquire', 'type': 'acquire'}, 'acquire5': {'operates': {'qubits': [5]}, 'purpose': 'acquire', 'type': 'acquire'}, 'acquire6': {'operates': {'qubits': [6]}, 'purpose': 'acquire', 'type': 'acquire'}, 'd0': {'operates': {'qubits': [0]}, 'purpose': 'drive', 'type': 'drive'}, 'd1': {'operates': {'qubits': [1]}, 'purpose': 'drive', 'type': 'drive'}, 'd2': {'operates': {'qubits': [2]}, 'purpose': 'drive', 'type': 'drive'}, 'd3': {'operates': {'qubits': [3]}, 'purpose': 'drive', 'type': 'drive'}, 'd4': {'operates': {'qubits': [4]}, 'purpose': 'drive', 'type': 'drive'}, 'd5': {'operates': {'qubits': [5]}, 'purpose': 'drive', 'type': 'drive'}, 'd6': {'operates': {'qubits': [6]}, 'purpose': 'drive', 'type': 'drive'}, 'm0': {'operates': {'qubits': [0]}, 'purpose': 'measure', 'type': 'measure'}, 'm1': {'operates': {'qubits': [1]}, 'purpose': 'measure', 'type': 'measure'}, 'm2': {'operates': {'qubits': [2]}, 'purpose': 'measure', 'type': 'measure'}, 'm3': {'operates': {'qubits': [3]}, 'purpose': 'measure', 'type': 'measure'}, 'm4': {'operates': {'qubits': [4]}, 'purpose': 'measure', 'type': 'measure'}, 'm5': {'operates': {'qubits': [5]}, 'purpose': 'measure', 'type': 'measure'}, 'm6': {'operates': {'qubits': [6]}, 'purpose': 'measure', 'type': 'measure'}, 'u0': {'operates': {'qubits': [0, 1]}, 'purpose': 'cross-resonance', 'type': 'control'}, 'u1': {'operates': {'qubits': [1, 0]}, 'purpose': 'cross-resonance', 'type': 'control'}, 'u10': {'operates': {'qubits': [5, 6]}, 'purpose': 'cross-resonance', 'type': 'control'}, 'u11': {'operates': {'qubits': [6, 5]}, 'purpose': 'cross-resonance', 'type': 'control'}, 'u2': {'operates': {'qubits': [1, 2]}, 'purpose': 'cross-resonance', 'type': 'control'}, 'u3': {'operates': {'qubits': [1, 3]}, 'purpose': 'cross-resonance', 'type': 'control'}, 'u4': {'operates': {'qubits': [2, 1]}, 'purpose': 'cross-resonance', 'type': 'control'}, 'u5': {'operates': {'qubits': [3, 1]}, 'purpose': 'cross-resonance', 'type': 'control'}, 'u6': {'operates': {'qubits': [3, 5]}, 'purpose': 'cross-resonance', 'type': 'control'}, 'u7': {'operates': {'qubits': [4, 5]}, 'purpose': 'cross-resonance', 'type': 'control'}, 'u8': {'operates': {'qubits': [5, 3]}, 'purpose': 'cross-resonance', 'type': 'control'}, 'u9': {'operates': {'qubits': [5, 4]}, 'purpose': 'cross-resonance', 'type': 'control'}}</td></tr><tr><td>local</td><td>False</td></tr><tr><td>hamiltonian</td><td>$$\\begin{align} \\mathcal{H}/\\hbar = & \\sum_{i=0}^{6}\\left(\\frac{\\omega_{q,i}}{2}(\\mathbb{I}-\\sigma_i^{z})+\\frac{\\Delta_{i}}{2}(O_i^2-O_i)+\\Omega_{d,i}D_i(t)\\sigma_i^{X}\\right) \\\\ & + J_{0,1}(\\sigma_{0}^{+}\\sigma_{1}^{-}+\\sigma_{0}^{-}\\sigma_{1}^{+}) + J_{1,2}(\\sigma_{1}^{+}\\sigma_{2}^{-}+\\sigma_{1}^{-}\\sigma_{2}^{+}) + J_{4,5}(\\sigma_{4}^{+}\\sigma_{5}^{-}+\\sigma_{4}^{-}\\sigma_{5}^{+}) + J_{5,6}(\\sigma_{5}^{+}\\sigma_{6}^{-}+\\sigma_{5}^{-}\\sigma_{6}^{+}) \\\\ & + J_{1,3}(\\sigma_{1}^{+}\\sigma_{3}^{-}+\\sigma_{1}^{-}\\sigma_{3}^{+}) + J_{3,5}(\\sigma_{3}^{+}\\sigma_{5}^{-}+\\sigma_{3}^{-}\\sigma_{5}^{+}) \\\\ & + \\Omega_{d,0}(U_{0}^{(0,1)}(t))\\sigma_{0}^{X} + \\Omega_{d,1}(U_{1}^{(1,0)}(t)+U_{3}^{(1,3)}(t)+U_{2}^{(1,2)}(t))\\sigma_{1}^{X} \\\\ & + \\Omega_{d,2}(U_{4}^{(2,1)}(t))\\sigma_{2}^{X} + \\Omega_{d,3}(U_{5}^{(3,1)}(t)+U_{6}^{(3,5)}(t))\\sigma_{3}^{X} \\\\ & + \\Omega_{d,4}(U_{7}^{(4,5)}(t))\\sigma_{4}^{X} + \\Omega_{d,5}(U_{8}^{(5,3)}(t)+U_{10}^{(5,6)}(t)+U_{9}^{(5,4)}(t))\\sigma_{5}^{X} \\\\ & + \\Omega_{d,6}(U_{11}^{(6,5)}(t))\\sigma_{6}^{X} \\\\ \\end{align}$$</td></tr><tr><td>conditional_latency</td><td>[]</td></tr><tr><td>memory</td><td>True</td></tr><tr><td>open_pulse</td><td>False</td></tr><tr><td>u_channel_lo</td><td>[[{'q': 1, 'scale': (1+0j)}], [{'q': 0, 'scale': (1+0j)}], [{'q': 2, 'scale': (1+0j)}], [{'q': 3, 'scale': (1+0j)}], [{'q': 1, 'scale': (1+0j)}], [{'q': 1, 'scale': (1+0j)}], [{'q': 5, 'scale': (1+0j)}], [{'q': 5, 'scale': (1+0j)}], [{'q': 3, 'scale': (1+0j)}], [{'q': 4, 'scale': (1+0j)}], [{'q': 6, 'scale': (1+0j)}], [{'q': 5, 'scale': (1+0j)}]]</td></tr><tr><td>parametric_pulses</td><td>['gaussian', 'gaussian_square', 'gaussian_square_drag', 'drag', 'constant']</td></tr><tr><td>supported_instructions</td><td>['cx', 'id', 'delay', 'measure', 'reset', 'rz', 'sx', 'x', 'if_else']</td></tr><tr><td>qubit_channel_mapping</td><td>[['m0', 'u0', 'd0', 'u1'], ['u0', 'd1', 'u5', 'm1', 'u1', 'u4', 'u3', 'u2'], ['m2', 'd2', 'u4', 'u2'], ['u5', 'u8', 'm3', 'u6', 'u3', 'd3'], ['u7', 'm4', 'd4', 'u9'], ['m5', 'd5', 'u11', 'u8', 'u10', 'u6', 'u7', 'u9'], ['u10', 'd6', 'u11', 'm6']]</td></tr><tr><td>rep_delay_range</td><td>[0.0, 500.0]</td></tr><tr><td>rep_times</td><td>[1000.0]</td></tr><tr><td>conditional</td><td>False</td></tr><tr><td>backend_name</td><td>ibm_perth</td></tr><tr><td>input_allowed</td><td>['job', 'runtime', 'qasm3', 'qasm3']</td></tr><tr><td>multi_meas_enabled</td><td>True</td></tr><tr><td>acquisition_latency</td><td>[]</td></tr><tr><td>simulator</td><td>False</td></tr><tr><td>allow_object_storage</td><td>True</td></tr><tr><td>uchannels_enabled</td><td>True</td></tr><tr><td>meas_kernels</td><td>['hw_qmfk']</td></tr><tr><td>supported_features</td><td>['qasm3', 'qobj']</td></tr><tr><td>sample_name</td><td>family: Falcon, revision: 5.11, segment: H</td></tr><tr><td>measure_esp_enabled</td><td>True</td></tr><tr><td>online_date</td><td>2021-07-22 04:00:00+00:00</td></tr><tr><td>qubit_lo_range</td><td>[[4.657559529271107, 5.657559529271107], [4.533545846179484, 5.533545846179484], [4.362656823152808, 5.362656823152808], [4.625104004762627, 5.625104004762627], [4.659209593119079, 5.659209593119079], [4.478609833866366, 5.478609833866366], [4.656636657087861, 5.656636657087861]]</td></tr><tr><td>credits_required</td><td>True</td></tr><tr><td>live_data</td><td>False</td></tr><tr><td>clops</td><td>2891</td></tr><tr><td>default_rep_delay</td><td>250.0</td></tr><tr><td>dt</td><td>0.2222222222222222</td></tr><tr><td>meas_levels</td><td>[1, 2]</td></tr><tr><td>description</td><td>7 qubit device</td></tr><tr><td>meas_lo_range</td><td>[[6.663115502, 7.663115502], [6.6164476510000005, 7.6164476510000005], [6.84928468, 7.84928468], [6.719581694, 7.719581694], [6.637153809000001, 7.637153809000001], [6.78180398, 7.78180398], [6.6522457170000004, 7.6522457170000004]]</td></tr><tr><td>pulse_num_channels</td><td>9</td></tr><tr><td>processor_type</td><td>{'family': 'Falcon', 'revision': '5.11', 'segment': 'H'}</td></tr><tr><td>timing_constraints</td><td>{'acquire_alignment': 16, 'granularity': 16, 'min_length': 64, 'pulse_alignment': 16}</td></tr><tr><td>coupling_map</td><td>[[0, 1], [1, 0], [1, 2], [1, 3], [2, 1], [3, 1], [3, 5], [4, 5], [5, 3], [5, 4], [5, 6], [6, 5]]</td></tr><tr><td>allow_q_object</td><td>True</td></tr><tr><td>discriminators</td><td>['quadratic_discriminator', 'linear_discriminator', 'hw_qmfk']</td></tr><tr><td>url</td><td>None</td></tr><tr><td>parallel_compilation</td><td>True</td></tr></table>"
      }
     },
     "bd51f49b2e234f26afa27869bcc727a5": {
      "model_module": "@jupyter-widgets/base",
      "model_module_version": "2.0.0",
      "model_name": "LayoutModel",
      "state": {
       "grid_area": "right",
       "padding": "0px 0px 0px 0px",
       "width": "70px"
      }
     },
     "be3c5a08c1934ecf8bfad1902061272e": {
      "model_module": "@jupyter-widgets/base",
      "model_module_version": "2.0.0",
      "model_name": "LayoutModel",
      "state": {
       "grid_template_areas": "\n                                       \". . . . right \"\n                                        ",
       "grid_template_columns": "20% 20% 20% 20% 20%",
       "width": "100%"
      }
     },
     "bfa9837092e6468eb6a39cecb6de7873": {
      "model_module": "@jupyter-widgets/controls",
      "model_module_version": "2.0.0",
      "model_name": "ButtonModel",
      "state": {
       "button_style": "primary",
       "description": "Clear",
       "layout": "IPY_MODEL_bd51f49b2e234f26afa27869bcc727a5",
       "style": "IPY_MODEL_c941d7939fe246ed926536a275aff252",
       "tooltip": null
      }
     },
     "c065e22a41034ef1a0c4d02842ac6353": {
      "model_module": "@jupyter-widgets/base",
      "model_module_version": "2.0.0",
      "model_name": "LayoutModel",
      "state": {
       "border_bottom": "4px solid #000000",
       "border_left": "4px solid #000000",
       "border_right": "4px solid #000000",
       "border_top": "4px solid #000000",
       "max_height": "650px",
       "min_height": "650px"
      }
     },
     "c0b1083dfca847cb8dc26d84d339c283": {
      "model_module": "@jupyter-widgets/base",
      "model_module_version": "2.0.0",
      "model_name": "LayoutModel",
      "state": {}
     },
     "c4ec429e10414580828ba9228f907491": {
      "model_module": "@jupyter-widgets/controls",
      "model_module_version": "2.0.0",
      "model_name": "HTMLModel",
      "state": {
       "layout": "IPY_MODEL_de35492652db4742b22ed8fd7db49a69",
       "style": "IPY_MODEL_acf72c6173a5417c9b4800584752ac75",
       "value": "<h5>Message</h5>"
      }
     },
     "c941d7939fe246ed926536a275aff252": {
      "model_module": "@jupyter-widgets/controls",
      "model_module_version": "2.0.0",
      "model_name": "ButtonStyleModel",
      "state": {
       "font_family": null,
       "font_size": null,
       "font_style": null,
       "font_variant": null,
       "font_weight": null,
       "text_color": null,
       "text_decoration": null
      }
     },
     "ccc3c9339abb49f2a852b457ad04c1c3": {
      "model_module": "@jupyter-widgets/base",
      "model_module_version": "2.0.0",
      "model_name": "LayoutModel",
      "state": {
       "width": "70px"
      }
     },
     "ceb16c5de01c40f0a0357855dce4a710": {
      "model_module": "@jupyter-widgets/base",
      "model_module_version": "2.0.0",
      "model_name": "LayoutModel",
      "state": {
       "margin": "0px 0px 10px 0px"
      }
     },
     "cf4ff1436d2f4c368e71f5b3c4ca8735": {
      "model_module": "@jupyter-widgets/controls",
      "model_module_version": "2.0.0",
      "model_name": "HTMLStyleModel",
      "state": {
       "description_width": "",
       "font_size": null,
       "text_color": null
      }
     },
     "d4957ebd23b34dc5a0ceb59be0df2763": {
      "model_module": "@jupyter-widgets/base",
      "model_module_version": "2.0.0",
      "model_name": "LayoutModel",
      "state": {
       "margin": "0px 0px 0px 0px"
      }
     },
     "d63f233615ed4be98d58ad11a4322b0d": {
      "model_module": "@jupyter-widgets/controls",
      "model_module_version": "2.0.0",
      "model_name": "HTMLModel",
      "state": {
       "layout": "IPY_MODEL_56a237fee3604fa7b4a67f522ec13139",
       "style": "IPY_MODEL_2ff297c04f2a4729a45e7cec463ebfaa",
       "value": "<div><font style='font-weight:bold'>last_update_date</font>: 2023-09-15 02:51:06+00:00</div>"
      }
     },
     "d806ce4a62564077afbfa4246824016c": {
      "model_module": "@jupyter-widgets/controls",
      "model_module_version": "2.0.0",
      "model_name": "HTMLModel",
      "state": {
       "layout": "IPY_MODEL_453f5a67fd424e99b5fba8092d5420e6",
       "style": "IPY_MODEL_2bb33fb978654b3d8b0f4a2725d2ba98",
       "value": "<h5>Status</h5>"
      }
     },
     "de35492652db4742b22ed8fd7db49a69": {
      "model_module": "@jupyter-widgets/base",
      "model_module_version": "2.0.0",
      "model_name": "LayoutModel",
      "state": {}
     },
     "def3f9ae49a04baba530914537e6fc6d": {
      "model_module": "@jupyter-widgets/base",
      "model_module_version": "2.0.0",
      "model_name": "LayoutModel",
      "state": {
       "border_bottom": "4px solid #000000",
       "border_left": "4px solid #000000",
       "border_right": "4px solid #000000",
       "border_top": "4px solid #000000",
       "max_height": "650px",
       "min_height": "650px"
      }
     },
     "e3b251ea1ebf40a7ae2383e0fe92fcc5": {
      "model_module": "@jupyter-widgets/controls",
      "model_module_version": "2.0.0",
      "model_name": "VBoxModel",
      "state": {
       "children": [
        "IPY_MODEL_95850a497d864053a0dc9f2a069cc113",
        "IPY_MODEL_601a2eb9fd9a4f56b1b869895abb29b0"
       ],
       "layout": "IPY_MODEL_def3f9ae49a04baba530914537e6fc6d"
      }
     },
     "e4aa58031cf04130b9f9f414fd551d8b": {
      "model_module": "@jupyter-widgets/output",
      "model_module_version": "1.0.0",
      "model_name": "OutputModel",
      "state": {
       "layout": "IPY_MODEL_e4e3f26192cc414ebad9abb8164dd543",
       "outputs": [
        {
         "data": {
          "image/png": "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\n",
          "text/plain": "<Figure size 1100x900 with 5 Axes>"
         },
         "metadata": {},
         "output_type": "display_data"
        }
       ]
      }
     },
     "e4e3f26192cc414ebad9abb8164dd543": {
      "model_module": "@jupyter-widgets/base",
      "model_module_version": "2.0.0",
      "model_name": "LayoutModel",
      "state": {
       "align_items": "center",
       "display": "flex-inline"
      }
     },
     "e5ec3007b5064468924846a8d626f611": {
      "model_module": "@jupyter-widgets/base",
      "model_module_version": "2.0.0",
      "model_name": "LayoutModel",
      "state": {}
     },
     "e630390298604fa5b0a6a5f030570b73": {
      "model_module": "@jupyter-widgets/controls",
      "model_module_version": "2.0.0",
      "model_name": "HTMLModel",
      "state": {
       "layout": "IPY_MODEL_61d6fd1f61c64638bb6e9c270771b577",
       "style": "IPY_MODEL_468610f4c9a3401b872cc503bbf5ce57",
       "value": "<h5>Job ID</h5>"
      }
     },
     "eabed8c810174ef7b90489d8c7739da0": {
      "model_module": "@jupyter-widgets/base",
      "model_module_version": "2.0.0",
      "model_name": "LayoutModel",
      "state": {}
     },
     "f7ff42f16c6b445eb8822133d89919e9": {
      "model_module": "@jupyter-widgets/controls",
      "model_module_version": "2.0.0",
      "model_name": "HTMLModel",
      "state": {
       "layout": "IPY_MODEL_ccc3c9339abb49f2a852b457ad04c1c3",
       "style": "IPY_MODEL_3eb1835d59e443a48ac83790c3e106ce",
       "value": "<h5>Queue</h5>"
      }
     },
     "f865e2123c1c4625abb56fab2bea2730": {
      "model_module": "@jupyter-widgets/controls",
      "model_module_version": "2.0.0",
      "model_name": "TabModel",
      "state": {
       "layout": "IPY_MODEL_903eda51eb144395a568318d1bce5e77"
      }
     },
     "f8bab28a497a4d9597bc96cc59fd5240": {
      "model_module": "@jupyter-widgets/base",
      "model_module_version": "2.0.0",
      "model_name": "LayoutModel",
      "state": {
       "grid_area": "bottom",
       "width": "auto"
      }
     },
     "f9a53de8e9984497ac71f0b0380a3866": {
      "model_module": "@jupyter-widgets/base",
      "model_module_version": "2.0.0",
      "model_name": "LayoutModel",
      "state": {}
     },
     "fb9c48b2989849c78020fb395be18cc9": {
      "model_module": "@jupyter-widgets/controls",
      "model_module_version": "2.0.0",
      "model_name": "HTMLModel",
      "state": {
       "layout": "IPY_MODEL_c0b1083dfca847cb8dc26d84d339c283",
       "style": "IPY_MODEL_228cf5fe30d047f7be378f89453ef0b0",
       "value": "<table><style>\ntable {\n    border-collapse: collapse;\n    width: auto;\n}\n\nth, td {\n    text-align: left;\n    padding: 8px;\n}\n\ntr:nth-child(even) {background-color: #f6f6f6;}\n</style><tr><th></th><th>Frequency</th><th>T1</th><th>T2</th><th>RZ</th><th>SX</th><th>X</th><th>Readout error</th></tr><tr><td><font style='font-weight:bold'>Q0</font></td><td>5.15756 GHz</td><td>120.59989 us</td><td>89.95798 us</td><td>0</td><td>0.001</td><td>0.001</td><td>0.0281 </td><tr><td><font style='font-weight:bold'>Q1</font></td><td>5.03355 GHz</td><td>231.52861 us</td><td>54.15815 us</td><td>0</td><td>0.00029</td><td>0.00029</td><td>0.0304 </td><tr><td><font style='font-weight:bold'>Q2</font></td><td>4.86266 GHz</td><td>214.19581 us</td><td>95.99622 us</td><td>0</td><td>0.00027</td><td>0.00027</td><td>0.0338 </td><tr><td><font style='font-weight:bold'>Q3</font></td><td>5.1251 GHz</td><td>227.02594 us</td><td>227.96729 us</td><td>0</td><td>0.00025</td><td>0.00025</td><td>0.0161 </td><tr><td><font style='font-weight:bold'>Q4</font></td><td>5.15921 GHz</td><td>159.08268 us</td><td>132.51376 us</td><td>0</td><td>0.00031</td><td>0.00031</td><td>0.0293 </td><tr><td><font style='font-weight:bold'>Q5</font></td><td>4.97861 GHz</td><td>187.2179 us</td><td>142.08915 us</td><td>0</td><td>0.00034</td><td>0.00034</td><td>0.03 </td><tr><td><font style='font-weight:bold'>Q6</font></td><td>5.15664 GHz</td><td>212.36727 us</td><td>231.38187 us</td><td>0</td><td>0.00027</td><td>0.00027</td><td>0.0114 </td></table>"
      }
     },
     "fc48b85b075f42af9e4c8e62bac244a9": {
      "model_module": "@jupyter-widgets/controls",
      "model_module_version": "2.0.0",
      "model_name": "HTMLMathStyleModel",
      "state": {
       "description_width": "",
       "font_size": null,
       "text_color": null
      }
     }
    },
    "version_major": 2,
    "version_minor": 0
   }
  }
 },
 "nbformat": 4,
 "nbformat_minor": 5
}
